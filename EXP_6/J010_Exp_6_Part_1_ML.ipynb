{
  "nbformat": 4,
  "nbformat_minor": 0,
  "metadata": {
    "colab": {
      "name": "J010_Exp_6_Part_1_ML.ipynb",
      "provenance": [],
      "collapsed_sections": [],
      "include_colab_link": true
    },
    "kernelspec": {
      "name": "python3",
      "display_name": "Python 3"
    }
  },
  "cells": [
    {
      "cell_type": "markdown",
      "metadata": {
        "id": "view-in-github",
        "colab_type": "text"
      },
      "source": [
        "<a href=\"https://colab.research.google.com/github/vineetbiyani09/ML/blob/master/EXP_6/J010_Exp_6_Part_1_ML.ipynb\" target=\"_parent\"><img src=\"https://colab.research.google.com/assets/colab-badge.svg\" alt=\"Open In Colab\"/></a>"
      ]
    },
    {
      "cell_type": "markdown",
      "metadata": {
        "id": "XccdkjVyBgNi"
      },
      "source": [
        "Import packages"
      ]
    },
    {
      "cell_type": "code",
      "metadata": {
        "id": "hhV6CTMUBjDi"
      },
      "source": [
        "import numpy as np\n",
        "import pandas as pd\n",
        "\n",
        "import matplotlib.pyplot as plt\n",
        "import seaborn as sns\n",
        "\n",
        "from sklearn.model_selection import train_test_split, cross_val_score\n",
        "from sklearn.preprocessing import StandardScaler\n",
        "\n",
        "import warnings\n",
        "warnings.filterwarnings('ignore')\n",
        "\n",
        "np.random.seed(27)"
      ],
      "execution_count": 1,
      "outputs": []
    },
    {
      "cell_type": "markdown",
      "metadata": {
        "id": "MNslkxeABeSU"
      },
      "source": [
        "Import Data"
      ]
    },
    {
      "cell_type": "code",
      "metadata": {
        "id": "DY9PLC1gAxXm",
        "outputId": "04576cc6-800c-4f89-ed3b-d92123ae27ef",
        "colab": {
          "base_uri": "https://localhost:8080/",
          "height": 578
        }
      },
      "source": [
        "!wget -O 2011gcn.csv https://raw.githubusercontent.com/pranavn91/blockchain/master/2011gcn.csv\n",
        "!wget -O tx2011partvertices_new.csv https://raw.githubusercontent.com/pranavn91/blockchain/master/tx2011partvertices_new.csv\n",
        "!wget -O tx2011partvertices.csv https://raw.githubusercontent.com/pranavn91/blockchain/master/tx2011partvertices.csv\n",
        " \n",
        "train1 = pd.read_csv('2011gcn.csv')\n",
        "train2 = pd.read_csv('tx2011partvertices_new.csv')\n",
        "train3 = pd.read_csv('tx2011partvertices.csv')\n"
      ],
      "execution_count": 2,
      "outputs": [
        {
          "output_type": "stream",
          "text": [
            "--2020-10-24 16:12:26--  https://raw.githubusercontent.com/pranavn91/blockchain/master/2011gcn.csv\n",
            "Resolving raw.githubusercontent.com (raw.githubusercontent.com)... 151.101.0.133, 151.101.64.133, 151.101.128.133, ...\n",
            "Connecting to raw.githubusercontent.com (raw.githubusercontent.com)|151.101.0.133|:443... connected.\n",
            "HTTP request sent, awaiting response... 200 OK\n",
            "Length: 12563086 (12M) [text/plain]\n",
            "Saving to: ‘2011gcn.csv’\n",
            "\n",
            "2011gcn.csv         100%[===================>]  11.98M  21.2MB/s    in 0.6s    \n",
            "\n",
            "2020-10-24 16:12:27 (21.2 MB/s) - ‘2011gcn.csv’ saved [12563086/12563086]\n",
            "\n",
            "--2020-10-24 16:12:27--  https://raw.githubusercontent.com/pranavn91/blockchain/master/tx2011partvertices_new.csv\n",
            "Resolving raw.githubusercontent.com (raw.githubusercontent.com)... 151.101.0.133, 151.101.64.133, 151.101.128.133, ...\n",
            "Connecting to raw.githubusercontent.com (raw.githubusercontent.com)|151.101.0.133|:443... connected.\n",
            "HTTP request sent, awaiting response... 200 OK\n",
            "Length: 12501458 (12M) [text/plain]\n",
            "Saving to: ‘tx2011partvertices_new.csv’\n",
            "\n",
            "tx2011partvertices_ 100%[===================>]  11.92M  22.2MB/s    in 0.5s    \n",
            "\n",
            "2020-10-24 16:12:27 (22.2 MB/s) - ‘tx2011partvertices_new.csv’ saved [12501458/12501458]\n",
            "\n",
            "--2020-10-24 16:12:27--  https://raw.githubusercontent.com/pranavn91/blockchain/master/tx2011partvertices.csv\n",
            "Resolving raw.githubusercontent.com (raw.githubusercontent.com)... 151.101.0.133, 151.101.64.133, 151.101.128.133, ...\n",
            "Connecting to raw.githubusercontent.com (raw.githubusercontent.com)|151.101.0.133|:443... connected.\n",
            "HTTP request sent, awaiting response... 200 OK\n",
            "Length: 1934257 (1.8M) [text/plain]\n",
            "Saving to: ‘tx2011partvertices.csv’\n",
            "\n",
            "tx2011partvertices. 100%[===================>]   1.84M  9.13MB/s    in 0.2s    \n",
            "\n",
            "2020-10-24 16:12:28 (9.13 MB/s) - ‘tx2011partvertices.csv’ saved [1934257/1934257]\n",
            "\n"
          ],
          "name": "stdout"
        }
      ]
    },
    {
      "cell_type": "markdown",
      "metadata": {
        "id": "ylvs6e8yHt7u"
      },
      "source": [
        "Data Preprocessing"
      ]
    },
    {
      "cell_type": "code",
      "metadata": {
        "id": "MfkYDKFdB5P5",
        "outputId": "2c13324c-307b-4b3a-eec2-ac19d1dc39f3",
        "colab": {
          "base_uri": "https://localhost:8080/",
          "height": 68
        }
      },
      "source": [
        "print('Train 1 Shape: ', train1.shape)\n",
        "print('Train 2 Shape: ', train2.shape)\n",
        "print('Train 3 Shape: ', train3.shape)"
      ],
      "execution_count": 3,
      "outputs": [
        {
          "output_type": "stream",
          "text": [
            "Train 1 Shape:  (96498, 17)\n",
            "Train 2 Shape:  (96498, 20)\n",
            "Train 3 Shape:  (96498, 2)\n"
          ],
          "name": "stdout"
        }
      ]
    },
    {
      "cell_type": "code",
      "metadata": {
        "id": "iX1MFPhDB9ty",
        "outputId": "2fa52bbb-72c1-42bf-a2ae-3c5219e80ac9",
        "colab": {
          "base_uri": "https://localhost:8080/",
          "height": 204
        }
      },
      "source": [
        "train1.rename(columns={'Unnamed: 0':'index'}, inplace=True)\n",
        "train1['index'] = train1['index'] + 1\n",
        "train1.head()"
      ],
      "execution_count": 4,
      "outputs": [
        {
          "output_type": "execute_result",
          "data": {
            "text/html": [
              "<div>\n",
              "<style scoped>\n",
              "    .dataframe tbody tr th:only-of-type {\n",
              "        vertical-align: middle;\n",
              "    }\n",
              "\n",
              "    .dataframe tbody tr th {\n",
              "        vertical-align: top;\n",
              "    }\n",
              "\n",
              "    .dataframe thead th {\n",
              "        text-align: right;\n",
              "    }\n",
              "</style>\n",
              "<table border=\"1\" class=\"dataframe\">\n",
              "  <thead>\n",
              "    <tr style=\"text-align: right;\">\n",
              "      <th></th>\n",
              "      <th>index</th>\n",
              "      <th>0</th>\n",
              "      <th>1</th>\n",
              "      <th>2</th>\n",
              "      <th>3</th>\n",
              "      <th>4</th>\n",
              "      <th>5</th>\n",
              "      <th>6</th>\n",
              "      <th>7</th>\n",
              "      <th>8</th>\n",
              "      <th>9</th>\n",
              "      <th>10</th>\n",
              "      <th>11</th>\n",
              "      <th>12</th>\n",
              "      <th>13</th>\n",
              "      <th>14</th>\n",
              "      <th>15</th>\n",
              "    </tr>\n",
              "  </thead>\n",
              "  <tbody>\n",
              "    <tr>\n",
              "      <th>0</th>\n",
              "      <td>1</td>\n",
              "      <td>0.0</td>\n",
              "      <td>4.811244e+07</td>\n",
              "      <td>0.0</td>\n",
              "      <td>0.0</td>\n",
              "      <td>5.298934e+07</td>\n",
              "      <td>0.0</td>\n",
              "      <td>5.215435e+07</td>\n",
              "      <td>0.0</td>\n",
              "      <td>0.0</td>\n",
              "      <td>4.293262e+05</td>\n",
              "      <td>3.994267e+07</td>\n",
              "      <td>6.251989e+07</td>\n",
              "      <td>0.0</td>\n",
              "      <td>0.0</td>\n",
              "      <td>2.670458e+07</td>\n",
              "      <td>8.313858e+07</td>\n",
              "    </tr>\n",
              "    <tr>\n",
              "      <th>1</th>\n",
              "      <td>2</td>\n",
              "      <td>0.0</td>\n",
              "      <td>3.477977e+05</td>\n",
              "      <td>0.0</td>\n",
              "      <td>0.0</td>\n",
              "      <td>3.777575e+05</td>\n",
              "      <td>0.0</td>\n",
              "      <td>3.757520e+05</td>\n",
              "      <td>0.0</td>\n",
              "      <td>0.0</td>\n",
              "      <td>6.889133e+03</td>\n",
              "      <td>3.001618e+05</td>\n",
              "      <td>4.527358e+05</td>\n",
              "      <td>0.0</td>\n",
              "      <td>0.0</td>\n",
              "      <td>1.915057e+05</td>\n",
              "      <td>6.009039e+05</td>\n",
              "    </tr>\n",
              "    <tr>\n",
              "      <th>2</th>\n",
              "      <td>3</td>\n",
              "      <td>0.0</td>\n",
              "      <td>6.455196e+07</td>\n",
              "      <td>0.0</td>\n",
              "      <td>0.0</td>\n",
              "      <td>7.110790e+07</td>\n",
              "      <td>0.0</td>\n",
              "      <td>6.997804e+07</td>\n",
              "      <td>0.0</td>\n",
              "      <td>0.0</td>\n",
              "      <td>5.670157e+05</td>\n",
              "      <td>5.356332e+07</td>\n",
              "      <td>8.388026e+07</td>\n",
              "      <td>0.0</td>\n",
              "      <td>0.0</td>\n",
              "      <td>3.583296e+07</td>\n",
              "      <td>1.115463e+08</td>\n",
              "    </tr>\n",
              "    <tr>\n",
              "      <th>3</th>\n",
              "      <td>4</td>\n",
              "      <td>0.0</td>\n",
              "      <td>2.009876e+08</td>\n",
              "      <td>0.0</td>\n",
              "      <td>0.0</td>\n",
              "      <td>2.214679e+08</td>\n",
              "      <td>0.0</td>\n",
              "      <td>2.174101e+08</td>\n",
              "      <td>0.0</td>\n",
              "      <td>0.0</td>\n",
              "      <td>1.342720e+06</td>\n",
              "      <td>1.665389e+08</td>\n",
              "      <td>2.614420e+08</td>\n",
              "      <td>0.0</td>\n",
              "      <td>0.0</td>\n",
              "      <td>1.116514e+08</td>\n",
              "      <td>3.472892e+08</td>\n",
              "    </tr>\n",
              "    <tr>\n",
              "      <th>4</th>\n",
              "      <td>5</td>\n",
              "      <td>0.0</td>\n",
              "      <td>2.384675e+05</td>\n",
              "      <td>0.0</td>\n",
              "      <td>0.0</td>\n",
              "      <td>2.597246e+05</td>\n",
              "      <td>0.0</td>\n",
              "      <td>2.577884e+05</td>\n",
              "      <td>0.0</td>\n",
              "      <td>0.0</td>\n",
              "      <td>4.202993e+03</td>\n",
              "      <td>2.042845e+05</td>\n",
              "      <td>3.103489e+05</td>\n",
              "      <td>0.0</td>\n",
              "      <td>0.0</td>\n",
              "      <td>1.315073e+05</td>\n",
              "      <td>4.120424e+05</td>\n",
              "    </tr>\n",
              "  </tbody>\n",
              "</table>\n",
              "</div>"
            ],
            "text/plain": [
              "   index    0             1    2  ...   12   13            14            15\n",
              "0      1  0.0  4.811244e+07  0.0  ...  0.0  0.0  2.670458e+07  8.313858e+07\n",
              "1      2  0.0  3.477977e+05  0.0  ...  0.0  0.0  1.915057e+05  6.009039e+05\n",
              "2      3  0.0  6.455196e+07  0.0  ...  0.0  0.0  3.583296e+07  1.115463e+08\n",
              "3      4  0.0  2.009876e+08  0.0  ...  0.0  0.0  1.116514e+08  3.472892e+08\n",
              "4      5  0.0  2.384675e+05  0.0  ...  0.0  0.0  1.315073e+05  4.120424e+05\n",
              "\n",
              "[5 rows x 17 columns]"
            ]
          },
          "metadata": {
            "tags": []
          },
          "execution_count": 4
        }
      ]
    },
    {
      "cell_type": "code",
      "metadata": {
        "id": "c6_hgsozCACW",
        "outputId": "84dc5b75-ef76-46e5-a1e4-ea582ffd154a",
        "colab": {
          "base_uri": "https://localhost:8080/",
          "height": 224
        }
      },
      "source": [
        "train2.rename(columns={'Unnamed: 0':'index'}, inplace=True)\n",
        "train2.head()"
      ],
      "execution_count": 5,
      "outputs": [
        {
          "output_type": "execute_result",
          "data": {
            "text/html": [
              "<div>\n",
              "<style scoped>\n",
              "    .dataframe tbody tr th:only-of-type {\n",
              "        vertical-align: middle;\n",
              "    }\n",
              "\n",
              "    .dataframe tbody tr th {\n",
              "        vertical-align: top;\n",
              "    }\n",
              "\n",
              "    .dataframe thead th {\n",
              "        text-align: right;\n",
              "    }\n",
              "</style>\n",
              "<table border=\"1\" class=\"dataframe\">\n",
              "  <thead>\n",
              "    <tr style=\"text-align: right;\">\n",
              "      <th></th>\n",
              "      <th>index</th>\n",
              "      <th>txsize</th>\n",
              "      <th>txvirtualsize</th>\n",
              "      <th>txinputs_count</th>\n",
              "      <th>txoutputs_count</th>\n",
              "      <th>txinput_val</th>\n",
              "      <th>txoutput_val</th>\n",
              "      <th>txfee</th>\n",
              "      <th>Min_received</th>\n",
              "      <th>Max_received</th>\n",
              "      <th>Avg_received</th>\n",
              "      <th>Total_received</th>\n",
              "      <th>Stdev_received</th>\n",
              "      <th>Var_received</th>\n",
              "      <th>Min_sent</th>\n",
              "      <th>Max_sent</th>\n",
              "      <th>Avg_sent</th>\n",
              "      <th>Total_sent</th>\n",
              "      <th>Stdev_sent</th>\n",
              "      <th>Var_sent</th>\n",
              "    </tr>\n",
              "  </thead>\n",
              "  <tbody>\n",
              "    <tr>\n",
              "      <th>0</th>\n",
              "      <td>1</td>\n",
              "      <td>7369</td>\n",
              "      <td>7369</td>\n",
              "      <td>5</td>\n",
              "      <td>190</td>\n",
              "      <td>215000000.0</td>\n",
              "      <td>214600000.0</td>\n",
              "      <td>400000</td>\n",
              "      <td>0.0005</td>\n",
              "      <td>1.0000</td>\n",
              "      <td>0.011295</td>\n",
              "      <td>2.1460</td>\n",
              "      <td>0.081163</td>\n",
              "      <td>0.006587</td>\n",
              "      <td>0.0005</td>\n",
              "      <td>1.6700</td>\n",
              "      <td>0.4300</td>\n",
              "      <td>2.1500</td>\n",
              "      <td>0.703445</td>\n",
              "      <td>0.494835</td>\n",
              "    </tr>\n",
              "    <tr>\n",
              "      <th>1</th>\n",
              "      <td>2</td>\n",
              "      <td>293</td>\n",
              "      <td>293</td>\n",
              "      <td>1</td>\n",
              "      <td>3</td>\n",
              "      <td>4400000.0</td>\n",
              "      <td>4350000.0</td>\n",
              "      <td>50000</td>\n",
              "      <td>0.0010</td>\n",
              "      <td>0.0415</td>\n",
              "      <td>0.014500</td>\n",
              "      <td>0.0435</td>\n",
              "      <td>0.023383</td>\n",
              "      <td>0.000547</td>\n",
              "      <td>0.0440</td>\n",
              "      <td>0.0440</td>\n",
              "      <td>0.0440</td>\n",
              "      <td>0.0440</td>\n",
              "      <td>0.000000</td>\n",
              "      <td>0.000000</td>\n",
              "    </tr>\n",
              "    <tr>\n",
              "      <th>2</th>\n",
              "      <td>3</td>\n",
              "      <td>11139</td>\n",
              "      <td>11139</td>\n",
              "      <td>1</td>\n",
              "      <td>322</td>\n",
              "      <td>125000000.0</td>\n",
              "      <td>124400000.0</td>\n",
              "      <td>600000</td>\n",
              "      <td>0.0010</td>\n",
              "      <td>0.4460</td>\n",
              "      <td>0.003863</td>\n",
              "      <td>1.2440</td>\n",
              "      <td>0.024941</td>\n",
              "      <td>0.000622</td>\n",
              "      <td>1.2500</td>\n",
              "      <td>1.2500</td>\n",
              "      <td>1.2500</td>\n",
              "      <td>1.2500</td>\n",
              "      <td>0.000000</td>\n",
              "      <td>0.000000</td>\n",
              "    </tr>\n",
              "    <tr>\n",
              "      <th>3</th>\n",
              "      <td>4</td>\n",
              "      <td>495</td>\n",
              "      <td>495</td>\n",
              "      <td>1</td>\n",
              "      <td>9</td>\n",
              "      <td>27450000.0</td>\n",
              "      <td>27400000.0</td>\n",
              "      <td>50000</td>\n",
              "      <td>0.0010</td>\n",
              "      <td>0.2660</td>\n",
              "      <td>0.030444</td>\n",
              "      <td>0.2740</td>\n",
              "      <td>0.088333</td>\n",
              "      <td>0.007803</td>\n",
              "      <td>0.2745</td>\n",
              "      <td>0.2745</td>\n",
              "      <td>0.2745</td>\n",
              "      <td>0.2745</td>\n",
              "      <td>0.000000</td>\n",
              "      <td>0.000000</td>\n",
              "    </tr>\n",
              "    <tr>\n",
              "      <th>4</th>\n",
              "      <td>5</td>\n",
              "      <td>462</td>\n",
              "      <td>462</td>\n",
              "      <td>1</td>\n",
              "      <td>8</td>\n",
              "      <td>3000000.0</td>\n",
              "      <td>2950000.0</td>\n",
              "      <td>50000</td>\n",
              "      <td>0.0010</td>\n",
              "      <td>0.0225</td>\n",
              "      <td>0.003687</td>\n",
              "      <td>0.0295</td>\n",
              "      <td>0.007601</td>\n",
              "      <td>0.000058</td>\n",
              "      <td>0.0300</td>\n",
              "      <td>0.0300</td>\n",
              "      <td>0.0300</td>\n",
              "      <td>0.0300</td>\n",
              "      <td>0.000000</td>\n",
              "      <td>0.000000</td>\n",
              "    </tr>\n",
              "  </tbody>\n",
              "</table>\n",
              "</div>"
            ],
            "text/plain": [
              "   index  txsize  txvirtualsize  ...  Total_sent  Stdev_sent  Var_sent\n",
              "0      1    7369           7369  ...      2.1500    0.703445  0.494835\n",
              "1      2     293            293  ...      0.0440    0.000000  0.000000\n",
              "2      3   11139          11139  ...      1.2500    0.000000  0.000000\n",
              "3      4     495            495  ...      0.2745    0.000000  0.000000\n",
              "4      5     462            462  ...      0.0300    0.000000  0.000000\n",
              "\n",
              "[5 rows x 20 columns]"
            ]
          },
          "metadata": {
            "tags": []
          },
          "execution_count": 5
        }
      ]
    },
    {
      "cell_type": "code",
      "metadata": {
        "id": "XX7l55XECF-N",
        "outputId": "3fca6cb0-ddc1-49b0-837b-f968144f0f7e",
        "colab": {
          "base_uri": "https://localhost:8080/",
          "height": 204
        }
      },
      "source": [
        "train3.rename(columns={'Unnamed: 0':'index'}, inplace=True)\n",
        "train3.head()"
      ],
      "execution_count": 6,
      "outputs": [
        {
          "output_type": "execute_result",
          "data": {
            "text/html": [
              "<div>\n",
              "<style scoped>\n",
              "    .dataframe tbody tr th:only-of-type {\n",
              "        vertical-align: middle;\n",
              "    }\n",
              "\n",
              "    .dataframe tbody tr th {\n",
              "        vertical-align: top;\n",
              "    }\n",
              "\n",
              "    .dataframe thead th {\n",
              "        text-align: right;\n",
              "    }\n",
              "</style>\n",
              "<table border=\"1\" class=\"dataframe\">\n",
              "  <thead>\n",
              "    <tr style=\"text-align: right;\">\n",
              "      <th></th>\n",
              "      <th>index</th>\n",
              "      <th>label</th>\n",
              "    </tr>\n",
              "  </thead>\n",
              "  <tbody>\n",
              "    <tr>\n",
              "      <th>0</th>\n",
              "      <td>1</td>\n",
              "      <td>unclassified</td>\n",
              "    </tr>\n",
              "    <tr>\n",
              "      <th>1</th>\n",
              "      <td>2</td>\n",
              "      <td>donations</td>\n",
              "    </tr>\n",
              "    <tr>\n",
              "      <th>2</th>\n",
              "      <td>3</td>\n",
              "      <td>unclassified</td>\n",
              "    </tr>\n",
              "    <tr>\n",
              "      <th>3</th>\n",
              "      <td>4</td>\n",
              "      <td>donations</td>\n",
              "    </tr>\n",
              "    <tr>\n",
              "      <th>4</th>\n",
              "      <td>5</td>\n",
              "      <td>donations</td>\n",
              "    </tr>\n",
              "  </tbody>\n",
              "</table>\n",
              "</div>"
            ],
            "text/plain": [
              "   index         label\n",
              "0      1  unclassified\n",
              "1      2     donations\n",
              "2      3  unclassified\n",
              "3      4     donations\n",
              "4      5     donations"
            ]
          },
          "metadata": {
            "tags": []
          },
          "execution_count": 6
        }
      ]
    },
    {
      "cell_type": "code",
      "metadata": {
        "id": "ILqtlKz2CZNZ",
        "outputId": "7305ebf2-5492-41b4-d9e1-2eb007e15c60",
        "colab": {
          "base_uri": "https://localhost:8080/",
          "height": 425
        }
      },
      "source": [
        "train1.info()"
      ],
      "execution_count": 7,
      "outputs": [
        {
          "output_type": "stream",
          "text": [
            "<class 'pandas.core.frame.DataFrame'>\n",
            "RangeIndex: 96498 entries, 0 to 96497\n",
            "Data columns (total 17 columns):\n",
            " #   Column  Non-Null Count  Dtype  \n",
            "---  ------  --------------  -----  \n",
            " 0   index   96498 non-null  int64  \n",
            " 1   0       96498 non-null  float64\n",
            " 2   1       96498 non-null  float64\n",
            " 3   2       96498 non-null  float64\n",
            " 4   3       96498 non-null  float64\n",
            " 5   4       96498 non-null  float64\n",
            " 6   5       96498 non-null  float64\n",
            " 7   6       96498 non-null  float64\n",
            " 8   7       96498 non-null  float64\n",
            " 9   8       96498 non-null  float64\n",
            " 10  9       96498 non-null  float64\n",
            " 11  10      96498 non-null  float64\n",
            " 12  11      96498 non-null  float64\n",
            " 13  12      96498 non-null  float64\n",
            " 14  13      96498 non-null  float64\n",
            " 15  14      96498 non-null  float64\n",
            " 16  15      96498 non-null  float64\n",
            "dtypes: float64(16), int64(1)\n",
            "memory usage: 12.5 MB\n"
          ],
          "name": "stdout"
        }
      ]
    },
    {
      "cell_type": "code",
      "metadata": {
        "id": "YQiHmTacCbIl",
        "outputId": "fdb7825d-6f91-42cb-9768-33c0527abcd6",
        "colab": {
          "base_uri": "https://localhost:8080/",
          "height": 323
        }
      },
      "source": [
        "train1.nunique()"
      ],
      "execution_count": 8,
      "outputs": [
        {
          "output_type": "execute_result",
          "data": {
            "text/plain": [
              "index    96498\n",
              "0         1346\n",
              "1        91076\n",
              "2            1\n",
              "3            6\n",
              "4        91097\n",
              "5          544\n",
              "6        91130\n",
              "7            1\n",
              "8          118\n",
              "9        88871\n",
              "10       91233\n",
              "11       91135\n",
              "12           1\n",
              "13           1\n",
              "14       90486\n",
              "15       91001\n",
              "dtype: int64"
            ]
          },
          "metadata": {
            "tags": []
          },
          "execution_count": 8
        }
      ]
    },
    {
      "cell_type": "code",
      "metadata": {
        "id": "qKlXIK10Ceau",
        "outputId": "60f5137c-b3b9-4050-bc18-1619f83c20cc",
        "colab": {
          "base_uri": "https://localhost:8080/",
          "height": 476
        }
      },
      "source": [
        "train2.info()"
      ],
      "execution_count": 9,
      "outputs": [
        {
          "output_type": "stream",
          "text": [
            "<class 'pandas.core.frame.DataFrame'>\n",
            "RangeIndex: 96498 entries, 0 to 96497\n",
            "Data columns (total 20 columns):\n",
            " #   Column           Non-Null Count  Dtype  \n",
            "---  ------           --------------  -----  \n",
            " 0   index            96498 non-null  int64  \n",
            " 1   txsize           96498 non-null  int64  \n",
            " 2   txvirtualsize    96498 non-null  int64  \n",
            " 3   txinputs_count   96498 non-null  int64  \n",
            " 4   txoutputs_count  96498 non-null  int64  \n",
            " 5   txinput_val      96498 non-null  float64\n",
            " 6   txoutput_val     96498 non-null  float64\n",
            " 7   txfee            96498 non-null  int64  \n",
            " 8   Min_received     96498 non-null  float64\n",
            " 9   Max_received     96498 non-null  float64\n",
            " 10  Avg_received     96498 non-null  float64\n",
            " 11  Total_received   96498 non-null  float64\n",
            " 12  Stdev_received   96498 non-null  float64\n",
            " 13  Var_received     96498 non-null  float64\n",
            " 14  Min_sent         96498 non-null  float64\n",
            " 15  Max_sent         96498 non-null  float64\n",
            " 16  Avg_sent         96498 non-null  float64\n",
            " 17  Total_sent       96498 non-null  float64\n",
            " 18  Stdev_sent       96498 non-null  float64\n",
            " 19  Var_sent         96498 non-null  float64\n",
            "dtypes: float64(14), int64(6)\n",
            "memory usage: 14.7 MB\n"
          ],
          "name": "stdout"
        }
      ]
    },
    {
      "cell_type": "code",
      "metadata": {
        "id": "dpJBez2qCqe0",
        "outputId": "b91f6597-0088-4c75-8790-bb67133832b6",
        "colab": {
          "base_uri": "https://localhost:8080/",
          "height": 170
        }
      },
      "source": [
        "train3.info()"
      ],
      "execution_count": 10,
      "outputs": [
        {
          "output_type": "stream",
          "text": [
            "<class 'pandas.core.frame.DataFrame'>\n",
            "RangeIndex: 96498 entries, 0 to 96497\n",
            "Data columns (total 2 columns):\n",
            " #   Column  Non-Null Count  Dtype \n",
            "---  ------  --------------  ----- \n",
            " 0   index   96498 non-null  int64 \n",
            " 1   label   96498 non-null  object\n",
            "dtypes: int64(1), object(1)\n",
            "memory usage: 1.5+ MB\n"
          ],
          "name": "stdout"
        }
      ]
    },
    {
      "cell_type": "code",
      "metadata": {
        "id": "GUztUycoCuYz"
      },
      "source": [
        "results = pd.merge(train3, train1, on='index', how='inner')\n",
        "\n",
        "# split data into X and y\n",
        "X = results.iloc[:,2:18]\n",
        "Y1 = results['label']"
      ],
      "execution_count": 11,
      "outputs": []
    },
    {
      "cell_type": "code",
      "metadata": {
        "id": "l2PEbTuhCyQG",
        "outputId": "7fb7a8a0-586f-4812-a607-9c4768643b9f",
        "colab": {
          "base_uri": "https://localhost:8080/",
          "height": 419
        }
      },
      "source": [
        "#from sklearn import preprocessing\n",
        "#le = preprocessing.LabelEncoder()\n",
        "#le.fit(results['label'].unique())\n",
        "Y_dummies = pd.get_dummies(Y1)\n",
        "#Y_tranform = le.transform(Y)\n",
        "#Y = pd.DataFrame(Y_transform)\n",
        "Y = Y_dummies\n",
        "Y"
      ],
      "execution_count": 12,
      "outputs": [
        {
          "output_type": "execute_result",
          "data": {
            "text/html": [
              "<div>\n",
              "<style scoped>\n",
              "    .dataframe tbody tr th:only-of-type {\n",
              "        vertical-align: middle;\n",
              "    }\n",
              "\n",
              "    .dataframe tbody tr th {\n",
              "        vertical-align: top;\n",
              "    }\n",
              "\n",
              "    .dataframe thead th {\n",
              "        text-align: right;\n",
              "    }\n",
              "</style>\n",
              "<table border=\"1\" class=\"dataframe\">\n",
              "  <thead>\n",
              "    <tr style=\"text-align: right;\">\n",
              "      <th></th>\n",
              "      <th>donations</th>\n",
              "      <th>exchange</th>\n",
              "      <th>mixer</th>\n",
              "      <th>paymentgateway</th>\n",
              "      <th>unclassified</th>\n",
              "      <th>wallets</th>\n",
              "    </tr>\n",
              "  </thead>\n",
              "  <tbody>\n",
              "    <tr>\n",
              "      <th>0</th>\n",
              "      <td>0</td>\n",
              "      <td>0</td>\n",
              "      <td>0</td>\n",
              "      <td>0</td>\n",
              "      <td>1</td>\n",
              "      <td>0</td>\n",
              "    </tr>\n",
              "    <tr>\n",
              "      <th>1</th>\n",
              "      <td>1</td>\n",
              "      <td>0</td>\n",
              "      <td>0</td>\n",
              "      <td>0</td>\n",
              "      <td>0</td>\n",
              "      <td>0</td>\n",
              "    </tr>\n",
              "    <tr>\n",
              "      <th>2</th>\n",
              "      <td>0</td>\n",
              "      <td>0</td>\n",
              "      <td>0</td>\n",
              "      <td>0</td>\n",
              "      <td>1</td>\n",
              "      <td>0</td>\n",
              "    </tr>\n",
              "    <tr>\n",
              "      <th>3</th>\n",
              "      <td>1</td>\n",
              "      <td>0</td>\n",
              "      <td>0</td>\n",
              "      <td>0</td>\n",
              "      <td>0</td>\n",
              "      <td>0</td>\n",
              "    </tr>\n",
              "    <tr>\n",
              "      <th>4</th>\n",
              "      <td>1</td>\n",
              "      <td>0</td>\n",
              "      <td>0</td>\n",
              "      <td>0</td>\n",
              "      <td>0</td>\n",
              "      <td>0</td>\n",
              "    </tr>\n",
              "    <tr>\n",
              "      <th>...</th>\n",
              "      <td>...</td>\n",
              "      <td>...</td>\n",
              "      <td>...</td>\n",
              "      <td>...</td>\n",
              "      <td>...</td>\n",
              "      <td>...</td>\n",
              "    </tr>\n",
              "    <tr>\n",
              "      <th>96493</th>\n",
              "      <td>1</td>\n",
              "      <td>0</td>\n",
              "      <td>0</td>\n",
              "      <td>0</td>\n",
              "      <td>0</td>\n",
              "      <td>0</td>\n",
              "    </tr>\n",
              "    <tr>\n",
              "      <th>96494</th>\n",
              "      <td>1</td>\n",
              "      <td>0</td>\n",
              "      <td>0</td>\n",
              "      <td>0</td>\n",
              "      <td>0</td>\n",
              "      <td>0</td>\n",
              "    </tr>\n",
              "    <tr>\n",
              "      <th>96495</th>\n",
              "      <td>1</td>\n",
              "      <td>0</td>\n",
              "      <td>0</td>\n",
              "      <td>0</td>\n",
              "      <td>0</td>\n",
              "      <td>0</td>\n",
              "    </tr>\n",
              "    <tr>\n",
              "      <th>96496</th>\n",
              "      <td>0</td>\n",
              "      <td>1</td>\n",
              "      <td>0</td>\n",
              "      <td>0</td>\n",
              "      <td>0</td>\n",
              "      <td>0</td>\n",
              "    </tr>\n",
              "    <tr>\n",
              "      <th>96497</th>\n",
              "      <td>0</td>\n",
              "      <td>1</td>\n",
              "      <td>0</td>\n",
              "      <td>0</td>\n",
              "      <td>0</td>\n",
              "      <td>0</td>\n",
              "    </tr>\n",
              "  </tbody>\n",
              "</table>\n",
              "<p>96498 rows × 6 columns</p>\n",
              "</div>"
            ],
            "text/plain": [
              "       donations  exchange  mixer  paymentgateway  unclassified  wallets\n",
              "0              0         0      0               0             1        0\n",
              "1              1         0      0               0             0        0\n",
              "2              0         0      0               0             1        0\n",
              "3              1         0      0               0             0        0\n",
              "4              1         0      0               0             0        0\n",
              "...          ...       ...    ...             ...           ...      ...\n",
              "96493          1         0      0               0             0        0\n",
              "96494          1         0      0               0             0        0\n",
              "96495          1         0      0               0             0        0\n",
              "96496          0         1      0               0             0        0\n",
              "96497          0         1      0               0             0        0\n",
              "\n",
              "[96498 rows x 6 columns]"
            ]
          },
          "metadata": {
            "tags": []
          },
          "execution_count": 12
        }
      ]
    },
    {
      "cell_type": "code",
      "metadata": {
        "id": "Yng4U7LACz_W",
        "outputId": "4303497f-7e74-4915-9eb3-31fa33702c87",
        "colab": {
          "base_uri": "https://localhost:8080/",
          "height": 119
        }
      },
      "source": [
        "seed = 7\n",
        "test_size = 0.4\n",
        "x_train, x_test, y_train, y_test = train_test_split(X, Y, test_size=test_size, random_state=seed)\n",
        "x_val, x_test, y_val, y_test = train_test_split(x_test, y_test, test_size= 0.5, random_state=seed)\n",
        "print(x_train.shape)\n",
        "print(x_val.shape)\n",
        "print(x_test.shape)\n",
        "print(y_train.shape)\n",
        "print(y_val.shape)\n",
        "print(y_test.shape)"
      ],
      "execution_count": 13,
      "outputs": [
        {
          "output_type": "stream",
          "text": [
            "(57898, 16)\n",
            "(19300, 16)\n",
            "(19300, 16)\n",
            "(57898, 6)\n",
            "(19300, 6)\n",
            "(19300, 6)\n"
          ],
          "name": "stdout"
        }
      ]
    },
    {
      "cell_type": "markdown",
      "metadata": {
        "id": "LDHU6bmkDOcu"
      },
      "source": [
        "Import models and empty sequential model"
      ]
    },
    {
      "cell_type": "markdown",
      "metadata": {
        "id": "kVpJ9ZoJQLTU"
      },
      "source": [
        "Neural Network"
      ]
    },
    {
      "cell_type": "code",
      "metadata": {
        "id": "DV_2JyS4DSvj"
      },
      "source": [
        "from keras import models\n",
        "from keras import layers\n",
        "nn=models.Sequential()"
      ],
      "execution_count": 14,
      "outputs": []
    },
    {
      "cell_type": "code",
      "metadata": {
        "id": "mYT4IfcgDqVr"
      },
      "source": [
        "nn.add(layers.Dense(1024,activation = \"relu\",input_shape=(16,))) \n",
        "nn.add(layers.Dense(512,activation='tanh'))\n",
        "nn.add(layers.Dense(6,activation='softmax'))"
      ],
      "execution_count": 15,
      "outputs": []
    },
    {
      "cell_type": "code",
      "metadata": {
        "id": "MyJ1_Pz_EYfl",
        "outputId": "c6d01363-8c18-4b9f-86a6-2c91181c8e9d",
        "colab": {
          "base_uri": "https://localhost:8080/",
          "height": 255
        }
      },
      "source": [
        "nn.summary()"
      ],
      "execution_count": 16,
      "outputs": [
        {
          "output_type": "stream",
          "text": [
            "Model: \"sequential\"\n",
            "_________________________________________________________________\n",
            "Layer (type)                 Output Shape              Param #   \n",
            "=================================================================\n",
            "dense (Dense)                (None, 1024)              17408     \n",
            "_________________________________________________________________\n",
            "dense_1 (Dense)              (None, 512)               524800    \n",
            "_________________________________________________________________\n",
            "dense_2 (Dense)              (None, 6)                 3078      \n",
            "=================================================================\n",
            "Total params: 545,286\n",
            "Trainable params: 545,286\n",
            "Non-trainable params: 0\n",
            "_________________________________________________________________\n"
          ],
          "name": "stdout"
        }
      ]
    },
    {
      "cell_type": "code",
      "metadata": {
        "id": "PYCi5sN6EbJn"
      },
      "source": [
        "nn.compile(optimizer='sgd',\n",
        "           loss='categorical_crossentropy',\n",
        "           metrics=['accuracy'])"
      ],
      "execution_count": 17,
      "outputs": []
    },
    {
      "cell_type": "code",
      "metadata": {
        "id": "9XAkCQf6GPle",
        "outputId": "4bf5115d-3c2f-4d80-8b13-a63e7be6658c",
        "colab": {
          "base_uri": "https://localhost:8080/",
          "height": 1000
        }
      },
      "source": [
        "history = nn.fit(x_train, y_train,batch_size=128,epochs =100,validation_data=(x_val, y_val))"
      ],
      "execution_count": 18,
      "outputs": [
        {
          "output_type": "stream",
          "text": [
            "Epoch 1/100\n",
            "453/453 [==============================] - 7s 16ms/step - loss: 0.6261 - accuracy: 0.8320 - val_loss: 0.6482 - val_accuracy: 0.8347\n",
            "Epoch 2/100\n",
            "453/453 [==============================] - 7s 16ms/step - loss: 0.6025 - accuracy: 0.8352 - val_loss: 0.5835 - val_accuracy: 0.8399\n",
            "Epoch 3/100\n",
            "453/453 [==============================] - 7s 16ms/step - loss: 0.5786 - accuracy: 0.8484 - val_loss: 0.5756 - val_accuracy: 0.8403\n",
            "Epoch 4/100\n",
            "453/453 [==============================] - 7s 16ms/step - loss: 0.5775 - accuracy: 0.8565 - val_loss: 0.6327 - val_accuracy: 0.8347\n",
            "Epoch 5/100\n",
            "453/453 [==============================] - 7s 16ms/step - loss: 0.6179 - accuracy: 0.8346 - val_loss: 0.6325 - val_accuracy: 0.8347\n",
            "Epoch 6/100\n",
            "453/453 [==============================] - 7s 16ms/step - loss: 0.6187 - accuracy: 0.8337 - val_loss: 0.6838 - val_accuracy: 0.8465\n",
            "Epoch 7/100\n",
            "453/453 [==============================] - 7s 16ms/step - loss: 0.6035 - accuracy: 0.8376 - val_loss: 0.5954 - val_accuracy: 0.8403\n",
            "Epoch 8/100\n",
            "453/453 [==============================] - 7s 16ms/step - loss: 0.5928 - accuracy: 0.8433 - val_loss: 0.6231 - val_accuracy: 0.8589\n",
            "Epoch 9/100\n",
            "453/453 [==============================] - 7s 16ms/step - loss: 0.5892 - accuracy: 0.8460 - val_loss: 0.5960 - val_accuracy: 0.8465\n",
            "Epoch 10/100\n",
            "453/453 [==============================] - 7s 16ms/step - loss: 0.5862 - accuracy: 0.8498 - val_loss: 0.5818 - val_accuracy: 0.8465\n",
            "Epoch 11/100\n",
            "453/453 [==============================] - 7s 16ms/step - loss: 0.5833 - accuracy: 0.8539 - val_loss: 0.5898 - val_accuracy: 0.8589\n",
            "Epoch 12/100\n",
            "453/453 [==============================] - 7s 16ms/step - loss: 0.5822 - accuracy: 0.8559 - val_loss: 0.5859 - val_accuracy: 0.8589\n",
            "Epoch 13/100\n",
            "453/453 [==============================] - 7s 16ms/step - loss: 0.5804 - accuracy: 0.8574 - val_loss: 0.5894 - val_accuracy: 0.8589\n",
            "Epoch 14/100\n",
            "453/453 [==============================] - 7s 16ms/step - loss: 0.5790 - accuracy: 0.8574 - val_loss: 0.5795 - val_accuracy: 0.8589\n",
            "Epoch 15/100\n",
            "453/453 [==============================] - 8s 17ms/step - loss: 0.5785 - accuracy: 0.8574 - val_loss: 0.5847 - val_accuracy: 0.8589\n",
            "Epoch 16/100\n",
            "453/453 [==============================] - 8s 17ms/step - loss: 0.5786 - accuracy: 0.8574 - val_loss: 0.5800 - val_accuracy: 0.8589\n",
            "Epoch 17/100\n",
            "453/453 [==============================] - 8s 17ms/step - loss: 0.5777 - accuracy: 0.8574 - val_loss: 0.5774 - val_accuracy: 0.8589\n",
            "Epoch 18/100\n",
            "453/453 [==============================] - 7s 16ms/step - loss: 0.5772 - accuracy: 0.8574 - val_loss: 0.5801 - val_accuracy: 0.8589\n",
            "Epoch 19/100\n",
            "453/453 [==============================] - 7s 16ms/step - loss: 0.5767 - accuracy: 0.8574 - val_loss: 0.5742 - val_accuracy: 0.8589\n",
            "Epoch 20/100\n",
            "453/453 [==============================] - 7s 16ms/step - loss: 0.5764 - accuracy: 0.8574 - val_loss: 0.5941 - val_accuracy: 0.8589\n",
            "Epoch 21/100\n",
            "453/453 [==============================] - 7s 16ms/step - loss: 0.5769 - accuracy: 0.8574 - val_loss: 0.5796 - val_accuracy: 0.8589\n",
            "Epoch 22/100\n",
            "453/453 [==============================] - 7s 16ms/step - loss: 0.5757 - accuracy: 0.8575 - val_loss: 0.5820 - val_accuracy: 0.8589\n",
            "Epoch 23/100\n",
            "453/453 [==============================] - 7s 16ms/step - loss: 0.5755 - accuracy: 0.8574 - val_loss: 0.5858 - val_accuracy: 0.8589\n",
            "Epoch 24/100\n",
            "453/453 [==============================] - 7s 16ms/step - loss: 0.5747 - accuracy: 0.8575 - val_loss: 0.7035 - val_accuracy: 0.8594\n",
            "Epoch 25/100\n",
            "453/453 [==============================] - 7s 16ms/step - loss: 0.5749 - accuracy: 0.8575 - val_loss: 0.5798 - val_accuracy: 0.8589\n",
            "Epoch 26/100\n",
            "453/453 [==============================] - 7s 16ms/step - loss: 0.5751 - accuracy: 0.8574 - val_loss: 0.5738 - val_accuracy: 0.8589\n",
            "Epoch 27/100\n",
            "453/453 [==============================] - 7s 16ms/step - loss: 0.5754 - accuracy: 0.8574 - val_loss: 0.5770 - val_accuracy: 0.8589\n",
            "Epoch 28/100\n",
            "453/453 [==============================] - 7s 16ms/step - loss: 0.5744 - accuracy: 0.8575 - val_loss: 0.5754 - val_accuracy: 0.8590\n",
            "Epoch 29/100\n",
            "453/453 [==============================] - 7s 16ms/step - loss: 0.5750 - accuracy: 0.8576 - val_loss: 0.6102 - val_accuracy: 0.8591\n",
            "Epoch 30/100\n",
            "453/453 [==============================] - 7s 16ms/step - loss: 0.5747 - accuracy: 0.8575 - val_loss: 0.5732 - val_accuracy: 0.8589\n",
            "Epoch 31/100\n",
            "453/453 [==============================] - 7s 16ms/step - loss: 0.5746 - accuracy: 0.8575 - val_loss: 0.5735 - val_accuracy: 0.8590\n",
            "Epoch 32/100\n",
            "453/453 [==============================] - 7s 16ms/step - loss: 0.5745 - accuracy: 0.8575 - val_loss: 0.5975 - val_accuracy: 0.8590\n",
            "Epoch 33/100\n",
            "453/453 [==============================] - 8s 17ms/step - loss: 0.5745 - accuracy: 0.8575 - val_loss: 0.5744 - val_accuracy: 0.8591\n",
            "Epoch 34/100\n",
            "453/453 [==============================] - 8s 17ms/step - loss: 0.5746 - accuracy: 0.8577 - val_loss: 0.5735 - val_accuracy: 0.8590\n",
            "Epoch 35/100\n",
            "453/453 [==============================] - 7s 16ms/step - loss: 0.5743 - accuracy: 0.8576 - val_loss: 0.5721 - val_accuracy: 0.8590\n",
            "Epoch 36/100\n",
            "453/453 [==============================] - 7s 16ms/step - loss: 0.5741 - accuracy: 0.8575 - val_loss: 0.6006 - val_accuracy: 0.8589\n",
            "Epoch 37/100\n",
            "453/453 [==============================] - 7s 16ms/step - loss: 0.5749 - accuracy: 0.8575 - val_loss: 0.5762 - val_accuracy: 0.8589\n",
            "Epoch 38/100\n",
            "453/453 [==============================] - 7s 16ms/step - loss: 0.5743 - accuracy: 0.8577 - val_loss: 0.5944 - val_accuracy: 0.8591\n",
            "Epoch 39/100\n",
            "453/453 [==============================] - 7s 16ms/step - loss: 0.5737 - accuracy: 0.8576 - val_loss: 0.5758 - val_accuracy: 0.8589\n",
            "Epoch 40/100\n",
            "453/453 [==============================] - 7s 16ms/step - loss: 0.5747 - accuracy: 0.8575 - val_loss: 0.5768 - val_accuracy: 0.8589\n",
            "Epoch 41/100\n",
            "453/453 [==============================] - 7s 16ms/step - loss: 0.5748 - accuracy: 0.8576 - val_loss: 0.5818 - val_accuracy: 0.8589\n",
            "Epoch 42/100\n",
            "453/453 [==============================] - 7s 16ms/step - loss: 0.5744 - accuracy: 0.8575 - val_loss: 0.5737 - val_accuracy: 0.8589\n",
            "Epoch 43/100\n",
            "453/453 [==============================] - 7s 16ms/step - loss: 0.5739 - accuracy: 0.8575 - val_loss: 0.5786 - val_accuracy: 0.8589\n",
            "Epoch 44/100\n",
            "453/453 [==============================] - 7s 16ms/step - loss: 0.5744 - accuracy: 0.8576 - val_loss: 0.6268 - val_accuracy: 0.8590\n",
            "Epoch 45/100\n",
            "453/453 [==============================] - 7s 16ms/step - loss: 0.5737 - accuracy: 0.8577 - val_loss: 0.5752 - val_accuracy: 0.8588\n",
            "Epoch 46/100\n",
            "453/453 [==============================] - 7s 16ms/step - loss: 0.5743 - accuracy: 0.8576 - val_loss: 0.5837 - val_accuracy: 0.8589\n",
            "Epoch 47/100\n",
            "453/453 [==============================] - 7s 16ms/step - loss: 0.5742 - accuracy: 0.8576 - val_loss: 0.5885 - val_accuracy: 0.8588\n",
            "Epoch 48/100\n",
            "453/453 [==============================] - 7s 16ms/step - loss: 0.5747 - accuracy: 0.8577 - val_loss: 0.5759 - val_accuracy: 0.8590\n",
            "Epoch 49/100\n",
            "453/453 [==============================] - 7s 16ms/step - loss: 0.5737 - accuracy: 0.8577 - val_loss: 0.5796 - val_accuracy: 0.8589\n",
            "Epoch 50/100\n",
            "453/453 [==============================] - 7s 16ms/step - loss: 0.5732 - accuracy: 0.8578 - val_loss: 0.5739 - val_accuracy: 0.8590\n",
            "Epoch 51/100\n",
            "453/453 [==============================] - 7s 16ms/step - loss: 0.5741 - accuracy: 0.8579 - val_loss: 0.5732 - val_accuracy: 0.8589\n",
            "Epoch 52/100\n",
            "453/453 [==============================] - 7s 16ms/step - loss: 0.5741 - accuracy: 0.8576 - val_loss: 0.5732 - val_accuracy: 0.8590\n",
            "Epoch 53/100\n",
            "453/453 [==============================] - 7s 16ms/step - loss: 0.5737 - accuracy: 0.8577 - val_loss: 0.5766 - val_accuracy: 0.8589\n",
            "Epoch 54/100\n",
            "453/453 [==============================] - 7s 16ms/step - loss: 0.5738 - accuracy: 0.8576 - val_loss: 0.5714 - val_accuracy: 0.8589\n",
            "Epoch 55/100\n",
            "453/453 [==============================] - 7s 16ms/step - loss: 0.5737 - accuracy: 0.8576 - val_loss: 0.5729 - val_accuracy: 0.8590\n",
            "Epoch 56/100\n",
            "453/453 [==============================] - 7s 16ms/step - loss: 0.5733 - accuracy: 0.8577 - val_loss: 0.5893 - val_accuracy: 0.8590\n",
            "Epoch 57/100\n",
            "453/453 [==============================] - 7s 16ms/step - loss: 0.5741 - accuracy: 0.8578 - val_loss: 0.5751 - val_accuracy: 0.8589\n",
            "Epoch 58/100\n",
            "453/453 [==============================] - 7s 17ms/step - loss: 0.5734 - accuracy: 0.8577 - val_loss: 0.5969 - val_accuracy: 0.8589\n",
            "Epoch 59/100\n",
            "453/453 [==============================] - 8s 17ms/step - loss: 0.5735 - accuracy: 0.8579 - val_loss: 0.5737 - val_accuracy: 0.8590\n",
            "Epoch 60/100\n",
            "453/453 [==============================] - 7s 16ms/step - loss: 0.5735 - accuracy: 0.8577 - val_loss: 0.5736 - val_accuracy: 0.8589\n",
            "Epoch 61/100\n",
            "453/453 [==============================] - 7s 16ms/step - loss: 0.5734 - accuracy: 0.8578 - val_loss: 0.5897 - val_accuracy: 0.8589\n",
            "Epoch 62/100\n",
            "453/453 [==============================] - 7s 16ms/step - loss: 0.5740 - accuracy: 0.8578 - val_loss: 0.5741 - val_accuracy: 0.8589\n",
            "Epoch 63/100\n",
            "453/453 [==============================] - 7s 16ms/step - loss: 0.5739 - accuracy: 0.8577 - val_loss: 0.5933 - val_accuracy: 0.8590\n",
            "Epoch 64/100\n",
            "453/453 [==============================] - 7s 16ms/step - loss: 0.5733 - accuracy: 0.8578 - val_loss: 0.5737 - val_accuracy: 0.8589\n",
            "Epoch 65/100\n",
            "453/453 [==============================] - 7s 16ms/step - loss: 0.5735 - accuracy: 0.8577 - val_loss: 0.5889 - val_accuracy: 0.8588\n",
            "Epoch 66/100\n",
            "453/453 [==============================] - 7s 16ms/step - loss: 0.5741 - accuracy: 0.8578 - val_loss: 0.6111 - val_accuracy: 0.8590\n",
            "Epoch 67/100\n",
            "453/453 [==============================] - 7s 16ms/step - loss: 0.5736 - accuracy: 0.8578 - val_loss: 0.5949 - val_accuracy: 0.8589\n",
            "Epoch 68/100\n",
            "453/453 [==============================] - 12s 26ms/step - loss: 0.5743 - accuracy: 0.8578 - val_loss: 0.5887 - val_accuracy: 0.8589\n",
            "Epoch 69/100\n",
            "453/453 [==============================] - 7s 16ms/step - loss: 0.5735 - accuracy: 0.8578 - val_loss: 0.5744 - val_accuracy: 0.8590\n",
            "Epoch 70/100\n",
            "453/453 [==============================] - 7s 16ms/step - loss: 0.5732 - accuracy: 0.8578 - val_loss: 0.6358 - val_accuracy: 0.8589\n",
            "Epoch 71/100\n",
            "453/453 [==============================] - 7s 16ms/step - loss: 0.5737 - accuracy: 0.8577 - val_loss: 0.5984 - val_accuracy: 0.8589\n",
            "Epoch 72/100\n",
            "453/453 [==============================] - 7s 16ms/step - loss: 0.5731 - accuracy: 0.8578 - val_loss: 0.5885 - val_accuracy: 0.8589\n",
            "Epoch 73/100\n",
            "453/453 [==============================] - 7s 16ms/step - loss: 0.5744 - accuracy: 0.8577 - val_loss: 0.5837 - val_accuracy: 0.8589\n",
            "Epoch 74/100\n",
            "453/453 [==============================] - 8s 17ms/step - loss: 0.5738 - accuracy: 0.8578 - val_loss: 0.5838 - val_accuracy: 0.8589\n",
            "Epoch 75/100\n",
            "453/453 [==============================] - 8s 17ms/step - loss: 0.5733 - accuracy: 0.8579 - val_loss: 0.5759 - val_accuracy: 0.8589\n",
            "Epoch 76/100\n",
            "453/453 [==============================] - 7s 16ms/step - loss: 0.5737 - accuracy: 0.8577 - val_loss: 0.5778 - val_accuracy: 0.8589\n",
            "Epoch 77/100\n",
            "453/453 [==============================] - 7s 16ms/step - loss: 0.5736 - accuracy: 0.8579 - val_loss: 0.5762 - val_accuracy: 0.8589\n",
            "Epoch 78/100\n",
            "453/453 [==============================] - 7s 16ms/step - loss: 0.5748 - accuracy: 0.8579 - val_loss: 0.5774 - val_accuracy: 0.8589\n",
            "Epoch 79/100\n",
            "453/453 [==============================] - 7s 16ms/step - loss: 0.5733 - accuracy: 0.8578 - val_loss: 0.5966 - val_accuracy: 0.8589\n",
            "Epoch 80/100\n",
            "453/453 [==============================] - 7s 16ms/step - loss: 0.5736 - accuracy: 0.8577 - val_loss: 0.5753 - val_accuracy: 0.8589\n",
            "Epoch 81/100\n",
            "453/453 [==============================] - 7s 16ms/step - loss: 0.5729 - accuracy: 0.8577 - val_loss: 0.5727 - val_accuracy: 0.8588\n",
            "Epoch 82/100\n",
            "453/453 [==============================] - 7s 16ms/step - loss: 0.5732 - accuracy: 0.8579 - val_loss: 0.5864 - val_accuracy: 0.8589\n",
            "Epoch 83/100\n",
            "453/453 [==============================] - 7s 16ms/step - loss: 0.5740 - accuracy: 0.8579 - val_loss: 0.5830 - val_accuracy: 0.8589\n",
            "Epoch 84/100\n",
            "453/453 [==============================] - 7s 16ms/step - loss: 0.5731 - accuracy: 0.8578 - val_loss: 0.5793 - val_accuracy: 0.8589\n",
            "Epoch 85/100\n",
            "453/453 [==============================] - 7s 16ms/step - loss: 0.5727 - accuracy: 0.8577 - val_loss: 0.5763 - val_accuracy: 0.8589\n",
            "Epoch 86/100\n",
            "453/453 [==============================] - 7s 16ms/step - loss: 0.5731 - accuracy: 0.8577 - val_loss: 0.5767 - val_accuracy: 0.8589\n",
            "Epoch 87/100\n",
            "453/453 [==============================] - 7s 16ms/step - loss: 0.5726 - accuracy: 0.8578 - val_loss: 0.5753 - val_accuracy: 0.8590\n",
            "Epoch 88/100\n",
            "453/453 [==============================] - 7s 16ms/step - loss: 0.5733 - accuracy: 0.8578 - val_loss: 0.5754 - val_accuracy: 0.8589\n",
            "Epoch 89/100\n",
            "453/453 [==============================] - 7s 16ms/step - loss: 0.5735 - accuracy: 0.8577 - val_loss: 0.6103 - val_accuracy: 0.8589\n",
            "Epoch 90/100\n",
            "453/453 [==============================] - 7s 16ms/step - loss: 0.5738 - accuracy: 0.8577 - val_loss: 0.5725 - val_accuracy: 0.8589\n",
            "Epoch 91/100\n",
            "453/453 [==============================] - 7s 16ms/step - loss: 0.5730 - accuracy: 0.8577 - val_loss: 0.5739 - val_accuracy: 0.8589\n",
            "Epoch 92/100\n",
            "453/453 [==============================] - 7s 16ms/step - loss: 0.5735 - accuracy: 0.8578 - val_loss: 0.5921 - val_accuracy: 0.8588\n",
            "Epoch 93/100\n",
            "453/453 [==============================] - 7s 16ms/step - loss: 0.5738 - accuracy: 0.8578 - val_loss: 0.5766 - val_accuracy: 0.8589\n",
            "Epoch 94/100\n",
            "453/453 [==============================] - 7s 16ms/step - loss: 0.5738 - accuracy: 0.8578 - val_loss: 0.5914 - val_accuracy: 0.8589\n",
            "Epoch 95/100\n",
            "453/453 [==============================] - 7s 16ms/step - loss: 0.5736 - accuracy: 0.8578 - val_loss: 0.5739 - val_accuracy: 0.8588\n",
            "Epoch 96/100\n",
            "453/453 [==============================] - 8s 17ms/step - loss: 0.5732 - accuracy: 0.8579 - val_loss: 0.6435 - val_accuracy: 0.8589\n",
            "Epoch 97/100\n",
            "453/453 [==============================] - 7s 16ms/step - loss: 0.5735 - accuracy: 0.8579 - val_loss: 0.5712 - val_accuracy: 0.8589\n",
            "Epoch 98/100\n",
            "453/453 [==============================] - 8s 17ms/step - loss: 0.5738 - accuracy: 0.8579 - val_loss: 0.5787 - val_accuracy: 0.8589\n",
            "Epoch 99/100\n",
            "453/453 [==============================] - 7s 16ms/step - loss: 0.5736 - accuracy: 0.8578 - val_loss: 0.5775 - val_accuracy: 0.8589\n",
            "Epoch 100/100\n",
            "453/453 [==============================] - 8s 17ms/step - loss: 0.5731 - accuracy: 0.8578 - val_loss: 0.5734 - val_accuracy: 0.8589\n"
          ],
          "name": "stdout"
        }
      ]
    },
    {
      "cell_type": "code",
      "metadata": {
        "id": "2Gn_sK9tPcr8",
        "outputId": "164cbce4-2c53-4321-d9fc-c55cd78b3dd6",
        "colab": {
          "base_uri": "https://localhost:8080/",
          "height": 295
        }
      },
      "source": [
        "loss_train = history.history['loss']\n",
        "loss_val = history.history['val_loss']\n",
        "epochs = range(1,101)\n",
        "plt.plot(epochs, loss_train, 'g', label='Training loss')\n",
        "plt.plot(epochs, loss_val, 'b', label='validation loss')\n",
        "plt.title('Training and Validation loss')\n",
        "plt.xlabel('Epochs')\n",
        "plt.ylabel('Loss')\n",
        "plt.legend()\n",
        "plt.show()"
      ],
      "execution_count": 19,
      "outputs": [
        {
          "output_type": "display_data",
          "data": {
            "image/png": "[encoded data removed]",
            "text/plain": [
              "<Figure size 432x288 with 1 Axes>"
            ]
          },
          "metadata": {
            "tags": [],
            "needs_background": "light"
          }
        }
      ]
    },
    {
      "cell_type": "code",
      "metadata": {
        "id": "TsDXcuZPGjvm",
        "outputId": "e5e074d7-9e05-4a2b-a542-4246c0f18adc",
        "colab": {
          "base_uri": "https://localhost:8080/",
          "height": 295
        }
      },
      "source": [
        "loss_train = history.history['accuracy']\n",
        "loss_val = history.history['val_accuracy']\n",
        "epochs = range(1,101)\n",
        "plt.plot(epochs, loss_train, 'g', label='Training accuracy')\n",
        "plt.plot(epochs, loss_val, 'b', label='validation accuracy')\n",
        "plt.title('Training and Validation accuracy')\n",
        "plt.xlabel('Epochs')\n",
        "plt.ylabel('Accuracy')\n",
        "plt.legend()\n",
        "plt.show()"
      ],
      "execution_count": 20,
      "outputs": [
        {
          "output_type": "display_data",
          "data": {
            "image/png": "[encoded data removed]",
            "text/plain": [
              "<Figure size 432x288 with 1 Axes>"
            ]
          },
          "metadata": {
            "tags": [],
            "needs_background": "light"
          }
        }
      ]
    },
    {
      "cell_type": "code",
      "metadata": {
        "id": "UkFeBRpoNvAH",
        "outputId": "ece6af3e-4e17-4acb-a2c4-4ceeb836e8f1",
        "colab": {
          "base_uri": "https://localhost:8080/",
          "height": 119
        }
      },
      "source": [
        "train_loss,train_accuracy = nn.evaluate(x_train,y_train)\n",
        "val_loss,val_accuracy = nn.evaluate(x_val,y_val)\n",
        "test_loss,test_accuracy = nn.evaluate(x_test,y_test)\n",
        "print('Training Accuracy : ',train_accuracy*100,\"%\")\n",
        "print('Val Accuracy : ',val_accuracy*100,\"%\")\n",
        "print('Test Accuracy : ',test_accuracy*100,\"%\")"
      ],
      "execution_count": 21,
      "outputs": [
        {
          "output_type": "stream",
          "text": [
            "1810/1810 [==============================] - 5s 3ms/step - loss: 0.5725 - accuracy: 0.8579\n",
            "604/604 [==============================] - 2s 3ms/step - loss: 0.5734 - accuracy: 0.8589\n",
            "604/604 [==============================] - 2s 3ms/step - loss: 0.5719 - accuracy: 0.8587\n",
            "Training Accuracy :  85.79052686691284 %\n",
            "Val Accuracy :  85.891193151474 %\n",
            "Test Accuracy :  85.8704686164856 %\n"
          ],
          "name": "stdout"
        }
      ]
    }
  ]
}