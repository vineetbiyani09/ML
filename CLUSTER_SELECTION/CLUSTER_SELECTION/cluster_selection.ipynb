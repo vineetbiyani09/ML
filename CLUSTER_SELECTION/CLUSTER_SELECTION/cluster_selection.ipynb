{
  "nbformat": 4,
  "nbformat_minor": 0,
  "metadata": {
    "colab": {
      "name": "cluster_selection.py",
      "provenance": [],
      "include_colab_link": true
    },
    "kernelspec": {
      "name": "python3",
      "display_name": "Python 3"
    }
  },
  "cells": [
    {
      "cell_type": "markdown",
      "metadata": {
        "id": "view-in-github",
        "colab_type": "text"
      },
      "source": [
        "<a href=\"https://colab.research.google.com/github/vineetbiyani09/ML/blob/master/CLUSTER_SELECTION/cluster_selection.ipynb\" target=\"_parent\"><img src=\"https://colab.research.google.com/assets/colab-badge.svg\" alt=\"Open In Colab\"/></a>"
      ]
    },
    {
      "cell_type": "code",
      "metadata": {
        "id": "VD6QoOSZ9wr4"
      },
      "source": [
        "\n",
        "def cluster_selection(dataset, method, metric):\n",
        "  \n",
        "  import numpy as np\n",
        "  import matplotlib.pyplot as plt\n",
        "  import pandas as pd\n",
        "  import scipy.cluster.hierarchy as sch\n",
        "  from sklearn.cluster import KMeans\n",
        "\n",
        "  #i = 0\n",
        "  print('in function')\n",
        "\n",
        "  wcss = []     # within cluster sum of squares\n",
        "  for k in range(1, 11):\n",
        "    kmeans = KMeans(n_clusters = k, init = 'k-means++', random_state = 42)\n",
        "    kmeans.fit(X)\n",
        "    wcss.append(kmeans.inertia_)\n",
        "  plt.plot(range(1, 11), wcss)\n",
        "  plt.title('The Elbow Method')\n",
        "  plt.xlabel('Number of clusters')\n",
        "  plt.ylabel('WCSS')\n",
        "  plt.show()\n",
        "\n",
        "  for i in range(0,len(metric)):\n",
        "    for j in range(0,len(method)):\n",
        "      \n",
        "      sch.dendrogram(sch.linkage(X, method = method[j], metric = metric[i]))\n",
        "      \n",
        "      plt.title('Dendrogram Method: {}'.format(method[j]))\n",
        "      plt.xlabel('Customers')\n",
        "      plt.ylabel('Distance {}'.format(metric[i]))\n",
        "      plt.show()\n",
        "\n",
        "      \n",
        "\n",
        "\n",
        "\n"
      ],
      "execution_count": null,
      "outputs": []
    }
  ]
}
