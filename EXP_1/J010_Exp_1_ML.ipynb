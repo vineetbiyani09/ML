{
  "nbformat": 4,
  "nbformat_minor": 0,
  "metadata": {
    "kernelspec": {
      "display_name": "Python 3",
      "language": "python",
      "name": "python3"
    },
    "language_info": {
      "codemirror_mode": {
        "name": "ipython",
        "version": 3
      },
      "file_extension": ".py",
      "mimetype": "text/x-python",
      "name": "python",
      "nbconvert_exporter": "python",
      "pygments_lexer": "ipython3",
      "version": "3.7.0"
    },
    "colab": {
      "name": "J010_Exp_1_ML.ipynb",
      "provenance": [],
      "include_colab_link": true
    }
  },
  "cells": [
    {
      "cell_type": "markdown",
      "metadata": {
        "id": "view-in-github",
        "colab_type": "text"
      },
      "source": [
        "<a href=\"https://colab.research.google.com/github/vineetbiyani09/ML/blob/master/EXP_1/J010_Exp_1_ML.ipynb\" target=\"_parent\"><img src=\"https://colab.research.google.com/assets/colab-badge.svg\" alt=\"Open In Colab\"/></a>"
      ]
    },
    {
      "cell_type": "code",
      "metadata": {
        "id": "hMl9XxfzxhKe",
        "outputId": "4f36d71d-d2c9-47bb-89c5-4cd22c8a3fc6",
        "colab": {
          "base_uri": "https://localhost:8080/",
          "height": 204
        }
      },
      "source": [
        "import pandas as pd\n",
        "depression = pd.read_csv(r\"/content/depression.csv\")\n",
        "depression.head()"
      ],
      "execution_count": 3,
      "outputs": [
        {
          "output_type": "execute_result",
          "data": {
            "text/html": [
              "<div>\n",
              "<style scoped>\n",
              "    .dataframe tbody tr th:only-of-type {\n",
              "        vertical-align: middle;\n",
              "    }\n",
              "\n",
              "    .dataframe tbody tr th {\n",
              "        vertical-align: top;\n",
              "    }\n",
              "\n",
              "    .dataframe thead th {\n",
              "        text-align: right;\n",
              "    }\n",
              "</style>\n",
              "<table border=\"1\" class=\"dataframe\">\n",
              "  <thead>\n",
              "    <tr style=\"text-align: right;\">\n",
              "      <th></th>\n",
              "      <th>Unnamed: 0</th>\n",
              "      <th>Hospt</th>\n",
              "      <th>Treat</th>\n",
              "      <th>Outcome</th>\n",
              "      <th>Time</th>\n",
              "      <th>AcuteT</th>\n",
              "      <th>Age</th>\n",
              "      <th>Gender</th>\n",
              "    </tr>\n",
              "  </thead>\n",
              "  <tbody>\n",
              "    <tr>\n",
              "      <th>0</th>\n",
              "      <td>1</td>\n",
              "      <td>1</td>\n",
              "      <td>0</td>\n",
              "      <td>1</td>\n",
              "      <td>36.143002</td>\n",
              "      <td>211</td>\n",
              "      <td>33</td>\n",
              "      <td>1</td>\n",
              "    </tr>\n",
              "    <tr>\n",
              "      <th>1</th>\n",
              "      <td>2</td>\n",
              "      <td>1</td>\n",
              "      <td>1</td>\n",
              "      <td>0</td>\n",
              "      <td>105.142998</td>\n",
              "      <td>176</td>\n",
              "      <td>49</td>\n",
              "      <td>1</td>\n",
              "    </tr>\n",
              "    <tr>\n",
              "      <th>2</th>\n",
              "      <td>3</td>\n",
              "      <td>1</td>\n",
              "      <td>1</td>\n",
              "      <td>0</td>\n",
              "      <td>74.570999</td>\n",
              "      <td>191</td>\n",
              "      <td>50</td>\n",
              "      <td>1</td>\n",
              "    </tr>\n",
              "    <tr>\n",
              "      <th>3</th>\n",
              "      <td>4</td>\n",
              "      <td>1</td>\n",
              "      <td>0</td>\n",
              "      <td>1</td>\n",
              "      <td>49.714001</td>\n",
              "      <td>206</td>\n",
              "      <td>29</td>\n",
              "      <td>2</td>\n",
              "    </tr>\n",
              "    <tr>\n",
              "      <th>4</th>\n",
              "      <td>5</td>\n",
              "      <td>1</td>\n",
              "      <td>0</td>\n",
              "      <td>0</td>\n",
              "      <td>14.429000</td>\n",
              "      <td>63</td>\n",
              "      <td>29</td>\n",
              "      <td>1</td>\n",
              "    </tr>\n",
              "  </tbody>\n",
              "</table>\n",
              "</div>"
            ],
            "text/plain": [
              "   Unnamed: 0  Hospt  Treat  Outcome        Time  AcuteT  Age  Gender\n",
              "0           1      1      0        1   36.143002     211   33       1\n",
              "1           2      1      1        0  105.142998     176   49       1\n",
              "2           3      1      1        0   74.570999     191   50       1\n",
              "3           4      1      0        1   49.714001     206   29       2\n",
              "4           5      1      0        0   14.429000      63   29       1"
            ]
          },
          "metadata": {
            "tags": []
          },
          "execution_count": 3
        }
      ]
    },
    {
      "cell_type": "code",
      "metadata": {
        "id": "QSU9hC0JxhKi",
        "outputId": "b7657a59-b4d7-439f-927e-cedaa4566e08",
        "colab": {
          "base_uri": "https://localhost:8080/",
          "height": 204
        }
      },
      "source": [
        "depression['Gender'].replace(1, 'Female', inplace = True )\n",
        "depression['Gender'].replace(2, 'Male',inplace = True)\n",
        "depression.head()"
      ],
      "execution_count": 4,
      "outputs": [
        {
          "output_type": "execute_result",
          "data": {
            "text/html": [
              "<div>\n",
              "<style scoped>\n",
              "    .dataframe tbody tr th:only-of-type {\n",
              "        vertical-align: middle;\n",
              "    }\n",
              "\n",
              "    .dataframe tbody tr th {\n",
              "        vertical-align: top;\n",
              "    }\n",
              "\n",
              "    .dataframe thead th {\n",
              "        text-align: right;\n",
              "    }\n",
              "</style>\n",
              "<table border=\"1\" class=\"dataframe\">\n",
              "  <thead>\n",
              "    <tr style=\"text-align: right;\">\n",
              "      <th></th>\n",
              "      <th>Unnamed: 0</th>\n",
              "      <th>Hospt</th>\n",
              "      <th>Treat</th>\n",
              "      <th>Outcome</th>\n",
              "      <th>Time</th>\n",
              "      <th>AcuteT</th>\n",
              "      <th>Age</th>\n",
              "      <th>Gender</th>\n",
              "    </tr>\n",
              "  </thead>\n",
              "  <tbody>\n",
              "    <tr>\n",
              "      <th>0</th>\n",
              "      <td>1</td>\n",
              "      <td>1</td>\n",
              "      <td>0</td>\n",
              "      <td>1</td>\n",
              "      <td>36.143002</td>\n",
              "      <td>211</td>\n",
              "      <td>33</td>\n",
              "      <td>Female</td>\n",
              "    </tr>\n",
              "    <tr>\n",
              "      <th>1</th>\n",
              "      <td>2</td>\n",
              "      <td>1</td>\n",
              "      <td>1</td>\n",
              "      <td>0</td>\n",
              "      <td>105.142998</td>\n",
              "      <td>176</td>\n",
              "      <td>49</td>\n",
              "      <td>Female</td>\n",
              "    </tr>\n",
              "    <tr>\n",
              "      <th>2</th>\n",
              "      <td>3</td>\n",
              "      <td>1</td>\n",
              "      <td>1</td>\n",
              "      <td>0</td>\n",
              "      <td>74.570999</td>\n",
              "      <td>191</td>\n",
              "      <td>50</td>\n",
              "      <td>Female</td>\n",
              "    </tr>\n",
              "    <tr>\n",
              "      <th>3</th>\n",
              "      <td>4</td>\n",
              "      <td>1</td>\n",
              "      <td>0</td>\n",
              "      <td>1</td>\n",
              "      <td>49.714001</td>\n",
              "      <td>206</td>\n",
              "      <td>29</td>\n",
              "      <td>Male</td>\n",
              "    </tr>\n",
              "    <tr>\n",
              "      <th>4</th>\n",
              "      <td>5</td>\n",
              "      <td>1</td>\n",
              "      <td>0</td>\n",
              "      <td>0</td>\n",
              "      <td>14.429000</td>\n",
              "      <td>63</td>\n",
              "      <td>29</td>\n",
              "      <td>Female</td>\n",
              "    </tr>\n",
              "  </tbody>\n",
              "</table>\n",
              "</div>"
            ],
            "text/plain": [
              "   Unnamed: 0  Hospt  Treat  Outcome        Time  AcuteT  Age  Gender\n",
              "0           1      1      0        1   36.143002     211   33  Female\n",
              "1           2      1      1        0  105.142998     176   49  Female\n",
              "2           3      1      1        0   74.570999     191   50  Female\n",
              "3           4      1      0        1   49.714001     206   29    Male\n",
              "4           5      1      0        0   14.429000      63   29  Female"
            ]
          },
          "metadata": {
            "tags": []
          },
          "execution_count": 4
        }
      ]
    },
    {
      "cell_type": "code",
      "metadata": {
        "id": "NiMwjcO4xhKl",
        "outputId": "407de7bc-90a7-44ba-df63-293245d24148",
        "colab": {
          "base_uri": "https://localhost:8080/",
          "height": 204
        }
      },
      "source": [
        "friends = pd.read_csv(r\"/content/friends.csv\")\n",
        "friends.head()"
      ],
      "execution_count": 5,
      "outputs": [
        {
          "output_type": "execute_result",
          "data": {
            "text/html": [
              "<div>\n",
              "<style scoped>\n",
              "    .dataframe tbody tr th:only-of-type {\n",
              "        vertical-align: middle;\n",
              "    }\n",
              "\n",
              "    .dataframe tbody tr th {\n",
              "        vertical-align: top;\n",
              "    }\n",
              "\n",
              "    .dataframe thead th {\n",
              "        text-align: right;\n",
              "    }\n",
              "</style>\n",
              "<table border=\"1\" class=\"dataframe\">\n",
              "  <thead>\n",
              "    <tr style=\"text-align: right;\">\n",
              "      <th></th>\n",
              "      <th>Unnamed: 0</th>\n",
              "      <th>Friends</th>\n",
              "    </tr>\n",
              "  </thead>\n",
              "  <tbody>\n",
              "    <tr>\n",
              "      <th>0</th>\n",
              "      <td>1</td>\n",
              "      <td>No difference</td>\n",
              "    </tr>\n",
              "    <tr>\n",
              "      <th>1</th>\n",
              "      <td>2</td>\n",
              "      <td>No difference</td>\n",
              "    </tr>\n",
              "    <tr>\n",
              "      <th>2</th>\n",
              "      <td>3</td>\n",
              "      <td>No difference</td>\n",
              "    </tr>\n",
              "    <tr>\n",
              "      <th>3</th>\n",
              "      <td>4</td>\n",
              "      <td>No difference</td>\n",
              "    </tr>\n",
              "    <tr>\n",
              "      <th>4</th>\n",
              "      <td>5</td>\n",
              "      <td>No difference</td>\n",
              "    </tr>\n",
              "  </tbody>\n",
              "</table>\n",
              "</div>"
            ],
            "text/plain": [
              "   Unnamed: 0        Friends\n",
              "0           1  No difference\n",
              "1           2  No difference\n",
              "2           3  No difference\n",
              "3           4  No difference\n",
              "4           5  No difference"
            ]
          },
          "metadata": {
            "tags": []
          },
          "execution_count": 5
        }
      ]
    },
    {
      "cell_type": "code",
      "metadata": {
        "id": "_itJzjvCxhKn",
        "outputId": "99ead2f4-e0ff-4d61-89e6-039dff9fc114",
        "colab": {
          "base_uri": "https://localhost:8080/",
          "height": 102
        }
      },
      "source": [
        "count = friends['Friends'].value_counts() \n",
        "print(count)\n",
        "percent = round(count/1200*100,1)\n",
        "percent\n",
        "type(percent)"
      ],
      "execution_count": 6,
      "outputs": [
        {
          "output_type": "stream",
          "text": [
            "No difference    602\n",
            "Opposite sex     434\n",
            "Same sex         164\n",
            "Name: Friends, dtype: int64\n"
          ],
          "name": "stdout"
        },
        {
          "output_type": "execute_result",
          "data": {
            "text/plain": [
              "pandas.core.series.Series"
            ]
          },
          "metadata": {
            "tags": []
          },
          "execution_count": 6
        }
      ]
    },
    {
      "cell_type": "code",
      "metadata": {
        "id": "Zyw-DV1ExhKq",
        "outputId": "8a4483d3-440c-41a9-cd79-f7c3e39b00a9",
        "colab": {
          "base_uri": "https://localhost:8080/",
          "height": 248
        }
      },
      "source": [
        "import matplotlib.pyplot as plt\n",
        "plot = percent.plot.pie()"
      ],
      "execution_count": 7,
      "outputs": [
        {
          "output_type": "display_data",
          "data": {
            "image/png": "[encoded data removed]",
            "text/plain": [
              "<Figure size 432x288 with 1 Axes>"
            ]
          },
          "metadata": {
            "tags": []
          }
        }
      ]
    },
    {
      "cell_type": "code",
      "metadata": {
        "id": "MjPYGFSMxhKs"
      },
      "source": [
        "actor_age = pd.read_csv(r\"/content/actor_age.csv\")\n",
        "actor_age.head()\n",
        "x = actor_age.loc[: , \"Age\"]"
      ],
      "execution_count": 9,
      "outputs": []
    },
    {
      "cell_type": "code",
      "metadata": {
        "id": "A2zyeCVixhKu",
        "outputId": "d8a710c9-7a18-4e68-af25-baa5e685e7e9",
        "colab": {
          "base_uri": "https://localhost:8080/",
          "height": 265
        }
      },
      "source": [
        "from matplotlib import pyplot as plt \n",
        "plt.hist(x) \n",
        "plt.show()"
      ],
      "execution_count": 10,
      "outputs": [
        {
          "output_type": "display_data",
          "data": {
            "image/png": "[encoded data removed]",
            "text/plain": [
              "<Figure size 432x288 with 1 Axes>"
            ]
          },
          "metadata": {
            "tags": [],
            "needs_background": "light"
          }
        }
      ]
    },
    {
      "cell_type": "code",
      "metadata": {
        "id": "DIY95-EOxhKx",
        "outputId": "bdd721b2-fa69-4a1b-8769-3d41d4ecc618",
        "colab": {
          "base_uri": "https://localhost:8080/",
          "height": 170
        }
      },
      "source": [
        "x.describe()"
      ],
      "execution_count": 11,
      "outputs": [
        {
          "output_type": "execute_result",
          "data": {
            "text/plain": [
              "count    44.000000\n",
              "mean     44.977273\n",
              "std       9.749153\n",
              "min      29.000000\n",
              "25%      38.000000\n",
              "50%      43.500000\n",
              "75%      50.250000\n",
              "max      76.000000\n",
              "Name: Age, dtype: float64"
            ]
          },
          "metadata": {
            "tags": []
          },
          "execution_count": 11
        }
      ]
    },
    {
      "cell_type": "code",
      "metadata": {
        "id": "V0apbgujxhKz",
        "outputId": "adeda9b9-faea-432c-e95d-5a6924f495aa",
        "colab": {
          "base_uri": "https://localhost:8080/",
          "height": 34
        }
      },
      "source": [
        "import numpy as np\n",
        "np.var(x)"
      ],
      "execution_count": 12,
      "outputs": [
        {
          "output_type": "execute_result",
          "data": {
            "text/plain": [
              "92.88584710743802"
            ]
          },
          "metadata": {
            "tags": []
          },
          "execution_count": 12
        }
      ]
    },
    {
      "cell_type": "code",
      "metadata": {
        "id": "ZJm19f6PxhK1",
        "outputId": "923ac533-6e9d-4dc1-eed3-d76f7937c6c8",
        "colab": {
          "base_uri": "https://localhost:8080/",
          "height": 34
        }
      },
      "source": [
        "q75, q25 = np.percentile(x, [75 ,25])\n",
        "iqr = q75 - q25\n",
        "iqr"
      ],
      "execution_count": 13,
      "outputs": [
        {
          "output_type": "execute_result",
          "data": {
            "text/plain": [
              "12.25"
            ]
          },
          "metadata": {
            "tags": []
          },
          "execution_count": 13
        }
      ]
    },
    {
      "cell_type": "code",
      "metadata": {
        "id": "rhKRmIkYxhK4",
        "outputId": "90049934-7431-4efc-d312-3bcc3697e252",
        "colab": {
          "base_uri": "https://localhost:8080/",
          "height": 204
        }
      },
      "source": [
        "grad_data = pd.read_csv(r\"/content/grad_data.csv\")\n",
        "grad_data.head()"
      ],
      "execution_count": 14,
      "outputs": [
        {
          "output_type": "execute_result",
          "data": {
            "text/html": [
              "<div>\n",
              "<style scoped>\n",
              "    .dataframe tbody tr th:only-of-type {\n",
              "        vertical-align: middle;\n",
              "    }\n",
              "\n",
              "    .dataframe tbody tr th {\n",
              "        vertical-align: top;\n",
              "    }\n",
              "\n",
              "    .dataframe thead th {\n",
              "        text-align: right;\n",
              "    }\n",
              "</style>\n",
              "<table border=\"1\" class=\"dataframe\">\n",
              "  <thead>\n",
              "    <tr style=\"text-align: right;\">\n",
              "      <th></th>\n",
              "      <th>Unnamed: 0</th>\n",
              "      <th>College.A</th>\n",
              "      <th>College.B</th>\n",
              "      <th>College.C</th>\n",
              "      <th>College.D</th>\n",
              "      <th>College.E</th>\n",
              "      <th>College.F</th>\n",
              "    </tr>\n",
              "  </thead>\n",
              "  <tbody>\n",
              "    <tr>\n",
              "      <th>0</th>\n",
              "      <td>1</td>\n",
              "      <td>57.6</td>\n",
              "      <td>70.1</td>\n",
              "      <td>54.5</td>\n",
              "      <td>80.1</td>\n",
              "      <td>71.3</td>\n",
              "      <td>68.8</td>\n",
              "    </tr>\n",
              "    <tr>\n",
              "      <th>1</th>\n",
              "      <td>2</td>\n",
              "      <td>43.2</td>\n",
              "      <td>69.6</td>\n",
              "      <td>55.6</td>\n",
              "      <td>77.3</td>\n",
              "      <td>62.6</td>\n",
              "      <td>61.0</td>\n",
              "    </tr>\n",
              "    <tr>\n",
              "      <th>2</th>\n",
              "      <td>3</td>\n",
              "      <td>49.6</td>\n",
              "      <td>67.3</td>\n",
              "      <td>56.9</td>\n",
              "      <td>74.7</td>\n",
              "      <td>54.5</td>\n",
              "      <td>57.7</td>\n",
              "    </tr>\n",
              "    <tr>\n",
              "      <th>3</th>\n",
              "      <td>4</td>\n",
              "      <td>51.4</td>\n",
              "      <td>76.7</td>\n",
              "      <td>71.0</td>\n",
              "      <td>79.2</td>\n",
              "      <td>57.5</td>\n",
              "      <td>66.4</td>\n",
              "    </tr>\n",
              "    <tr>\n",
              "      <th>4</th>\n",
              "      <td>5</td>\n",
              "      <td>69.9</td>\n",
              "      <td>69.4</td>\n",
              "      <td>73.3</td>\n",
              "      <td>84.6</td>\n",
              "      <td>55.0</td>\n",
              "      <td>75.2</td>\n",
              "    </tr>\n",
              "  </tbody>\n",
              "</table>\n",
              "</div>"
            ],
            "text/plain": [
              "   Unnamed: 0  College.A  College.B  College.C  College.D  College.E  College.F\n",
              "0           1       57.6       70.1       54.5       80.1       71.3       68.8\n",
              "1           2       43.2       69.6       55.6       77.3       62.6       61.0\n",
              "2           3       49.6       67.3       56.9       74.7       54.5       57.7\n",
              "3           4       51.4       76.7       71.0       79.2       57.5       66.4\n",
              "4           5       69.9       69.4       73.3       84.6       55.0       75.2"
            ]
          },
          "metadata": {
            "tags": []
          },
          "execution_count": 14
        }
      ]
    },
    {
      "cell_type": "code",
      "metadata": {
        "id": "bGlbLslRxhK6",
        "outputId": "cc80bee8-0ee1-49dd-8a1c-a9f4e412d172",
        "colab": {
          "base_uri": "https://localhost:8080/",
          "height": 297
        }
      },
      "source": [
        "grad_data.describe()"
      ],
      "execution_count": 15,
      "outputs": [
        {
          "output_type": "execute_result",
          "data": {
            "text/html": [
              "<div>\n",
              "<style scoped>\n",
              "    .dataframe tbody tr th:only-of-type {\n",
              "        vertical-align: middle;\n",
              "    }\n",
              "\n",
              "    .dataframe tbody tr th {\n",
              "        vertical-align: top;\n",
              "    }\n",
              "\n",
              "    .dataframe thead th {\n",
              "        text-align: right;\n",
              "    }\n",
              "</style>\n",
              "<table border=\"1\" class=\"dataframe\">\n",
              "  <thead>\n",
              "    <tr style=\"text-align: right;\">\n",
              "      <th></th>\n",
              "      <th>Unnamed: 0</th>\n",
              "      <th>College.A</th>\n",
              "      <th>College.B</th>\n",
              "      <th>College.C</th>\n",
              "      <th>College.D</th>\n",
              "      <th>College.E</th>\n",
              "      <th>College.F</th>\n",
              "    </tr>\n",
              "  </thead>\n",
              "  <tbody>\n",
              "    <tr>\n",
              "      <th>count</th>\n",
              "      <td>8.00000</td>\n",
              "      <td>8.000000</td>\n",
              "      <td>8.000000</td>\n",
              "      <td>8.000000</td>\n",
              "      <td>8.000000</td>\n",
              "      <td>8.000000</td>\n",
              "      <td>8.000000</td>\n",
              "    </tr>\n",
              "    <tr>\n",
              "      <th>mean</th>\n",
              "      <td>4.50000</td>\n",
              "      <td>60.962500</td>\n",
              "      <td>71.287500</td>\n",
              "      <td>65.175000</td>\n",
              "      <td>79.112500</td>\n",
              "      <td>60.775000</td>\n",
              "      <td>72.775000</td>\n",
              "    </tr>\n",
              "    <tr>\n",
              "      <th>std</th>\n",
              "      <td>2.44949</td>\n",
              "      <td>11.955027</td>\n",
              "      <td>3.061483</td>\n",
              "      <td>8.279018</td>\n",
              "      <td>3.853547</td>\n",
              "      <td>5.892307</td>\n",
              "      <td>11.116108</td>\n",
              "    </tr>\n",
              "    <tr>\n",
              "      <th>min</th>\n",
              "      <td>1.00000</td>\n",
              "      <td>43.200000</td>\n",
              "      <td>67.300000</td>\n",
              "      <td>54.500000</td>\n",
              "      <td>74.100000</td>\n",
              "      <td>54.500000</td>\n",
              "      <td>57.700000</td>\n",
              "    </tr>\n",
              "    <tr>\n",
              "      <th>25%</th>\n",
              "      <td>2.75000</td>\n",
              "      <td>50.950000</td>\n",
              "      <td>69.550000</td>\n",
              "      <td>56.575000</td>\n",
              "      <td>76.650000</td>\n",
              "      <td>56.875000</td>\n",
              "      <td>65.050000</td>\n",
              "    </tr>\n",
              "    <tr>\n",
              "      <th>50%</th>\n",
              "      <td>4.50000</td>\n",
              "      <td>63.750000</td>\n",
              "      <td>70.150000</td>\n",
              "      <td>67.650000</td>\n",
              "      <td>79.000000</td>\n",
              "      <td>59.150000</td>\n",
              "      <td>72.000000</td>\n",
              "    </tr>\n",
              "    <tr>\n",
              "      <th>75%</th>\n",
              "      <td>6.25000</td>\n",
              "      <td>70.500000</td>\n",
              "      <td>73.050000</td>\n",
              "      <td>71.575000</td>\n",
              "      <td>81.100000</td>\n",
              "      <td>63.700000</td>\n",
              "      <td>81.275000</td>\n",
              "    </tr>\n",
              "    <tr>\n",
              "      <th>max</th>\n",
              "      <td>8.00000</td>\n",
              "      <td>73.800000</td>\n",
              "      <td>76.700000</td>\n",
              "      <td>74.800000</td>\n",
              "      <td>84.600000</td>\n",
              "      <td>71.300000</td>\n",
              "      <td>87.400000</td>\n",
              "    </tr>\n",
              "  </tbody>\n",
              "</table>\n",
              "</div>"
            ],
            "text/plain": [
              "       Unnamed: 0  College.A  College.B  ...  College.D  College.E  College.F\n",
              "count     8.00000   8.000000   8.000000  ...   8.000000   8.000000   8.000000\n",
              "mean      4.50000  60.962500  71.287500  ...  79.112500  60.775000  72.775000\n",
              "std       2.44949  11.955027   3.061483  ...   3.853547   5.892307  11.116108\n",
              "min       1.00000  43.200000  67.300000  ...  74.100000  54.500000  57.700000\n",
              "25%       2.75000  50.950000  69.550000  ...  76.650000  56.875000  65.050000\n",
              "50%       4.50000  63.750000  70.150000  ...  79.000000  59.150000  72.000000\n",
              "75%       6.25000  70.500000  73.050000  ...  81.100000  63.700000  81.275000\n",
              "max       8.00000  73.800000  76.700000  ...  84.600000  71.300000  87.400000\n",
              "\n",
              "[8 rows x 7 columns]"
            ]
          },
          "metadata": {
            "tags": []
          },
          "execution_count": 15
        }
      ]
    },
    {
      "cell_type": "code",
      "metadata": {
        "id": "2UM62dP9xhK8",
        "outputId": "6ad1a9a0-025b-48f6-a3f4-165f8e11c9f3",
        "colab": {
          "base_uri": "https://localhost:8080/",
          "height": 265
        }
      },
      "source": [
        "boxplot = grad_data.boxplot(column=['College.A','College.B','College.C','College.D','College.E','College.F'])"
      ],
      "execution_count": 16,
      "outputs": [
        {
          "output_type": "display_data",
          "data": {
            "image/png": "[encoded data removed]",
            "text/plain": [
              "<Figure size 432x288 with 1 Axes>"
            ]
          },
          "metadata": {
            "tags": [],
            "needs_background": "light"
          }
        }
      ]
    },
    {
      "cell_type": "code",
      "metadata": {
        "id": "meIkX3t-xhK-",
        "outputId": "18bd6dc0-3270-433f-ebad-2bbe6d989bf7",
        "colab": {
          "base_uri": "https://localhost:8080/",
          "height": 282
        }
      },
      "source": [
        "import matplotlib.pyplot as plt\n",
        "\n",
        "grad_data.plot(kind='box')"
      ],
      "execution_count": 17,
      "outputs": [
        {
          "output_type": "execute_result",
          "data": {
            "text/plain": [
              "<matplotlib.axes._subplots.AxesSubplot at 0x7f1c2b570f98>"
            ]
          },
          "metadata": {
            "tags": []
          },
          "execution_count": 17
        },
        {
          "output_type": "display_data",
          "data": {
            "image/png": "[encoded data removed]",
            "text/plain": [
              "<Figure size 432x288 with 1 Axes>"
            ]
          },
          "metadata": {
            "tags": [],
            "needs_background": "light"
          }
        }
      ]
    },
    {
      "cell_type": "code",
      "metadata": {
        "id": "a1CnksolxhLB",
        "outputId": "6f909452-2dce-4d90-a21e-096ae2ba79b6",
        "colab": {
          "base_uri": "https://localhost:8080/",
          "height": 34
        }
      },
      "source": [
        "ratings = pd.read_csv(r\"/content/ratings.csv\")\n",
        "ratings.head()\n",
        "type(ratings)"
      ],
      "execution_count": 19,
      "outputs": [
        {
          "output_type": "execute_result",
          "data": {
            "text/plain": [
              "pandas.core.frame.DataFrame"
            ]
          },
          "metadata": {
            "tags": []
          },
          "execution_count": 19
        }
      ]
    },
    {
      "cell_type": "code",
      "metadata": {
        "id": "BzFKceAgxhLD",
        "outputId": "a6eaf94d-0c0f-4106-af1a-07d382165844",
        "colab": {
          "base_uri": "https://localhost:8080/",
          "height": 102
        }
      },
      "source": [
        "ratings.std(axis = 0) "
      ],
      "execution_count": 20,
      "outputs": [
        {
          "output_type": "execute_result",
          "data": {
            "text/plain": [
              "Unnamed: 0    7.937254\n",
              "Class.I       1.568929\n",
              "Class.II      4.000000\n",
              "Class.III     2.631174\n",
              "dtype: float64"
            ]
          },
          "metadata": {
            "tags": []
          },
          "execution_count": 20
        }
      ]
    },
    {
      "cell_type": "markdown",
      "metadata": {
        "id": "PqLGunYQxhLH"
      },
      "source": [
        "Q1. What are the categorical variables in this dataset?\n",
        "Hospt - The number describes which hospital is being referred to\n",
        "Treatment - What was the treatment given to them\n",
        "Outcome - What was the outcome of the treatment, successful or not\n",
        "Gender - It represents either male or female\n",
        "\n",
        "Q2. What are the qunatitative variables in this dataset?\n",
        "Time - The data can be recorded at multiple times with arithmetic meaning\n",
        "AcuteT - Represent a unique characteristic of patient which is non recurring\n",
        "Age - Patients can have random age which is unique for every patient\n",
        "\n",
        "\n",
        "Q3. Describe the distribution of the variable \"friends\" in dataset.\n",
        "The students are NOT divided equally among the three categories. About 50% of the students find it as easy to make friends with the opposite sex as with the same sex. Among the remaining 50% of the students, the majority (36.2%) find it easier to make friends with people of the opposite sex. The remainder (13.7%) find it easier to make friends with people of their own sex.\n",
        "\n",
        "Q4. Describe the distribution of the ages of the Best Actor Oscar winners. Be sure to address shape, center, spread and outliers.\n",
        "Shape - The data is skewed to the right, most winners are relatively young aged\n",
        "Center - The data is centered about 43.5, that means half people are over it, and half are under it\n",
        "Spread - The data is spread across from 30 years to 75 years\n",
        "Outliers - The data has only one outlier around the age of 75\n",
        "\n",
        "Q5.Getting information from the output: a. How many observations are in this data set? b. What is the mean age of the actors who won the Oscar? c. What is the five-number summary of the distribution? (Dataset - Best Actor Oscar winners (1970-2013)) \n",
        "No. of Observations = 44 || Mean = 44.98 || Min = 29 || Max = 76 || Median = 43.5 Range = 47 || Inter Quartile Range = 12.25\n",
        "\n",
        "\n",
        "Q6.Get information from the five-number summary: a. Half of the actors won the Oscar before what age? b. What is the range covered by all the actors' ages? c. What is the range covered by the middle 50% of the ages? (Dataset - Best Actor Oscar winners (1970-2013)) \n",
        "No. of Observations = 44 || Mean = 44.98 || Min = 29 || Max = 76 || Median = 43.5 Range = 47 || Inter Quartile Range = 12.25\n",
        "\n",
        "\n",
        "Q7. What are the standard deviations of all the classes?\n",
        "Class I - 1.57 || Class II - 4 || Class III - 2.63\n",
        "\n",
        "Q8. Assume that the average rating in each of the three classes is 5. Judging from the table and the histograms, which class would have the largest standard deviation? And which one would have the smallest standard deviation? Explain your reasoning.\n",
        "In class I, almost all the ratings are 5, which is also the mean. The average distance between the observations and the mean, then, would be very small. In class II most of the observations are far from the mean (at 1 or 9). The average distance between the observations and the mean in this case would be larger. Class III is the case where some of the observations are close to the mean, and some are far, so the average distance between the observations and the mean would be somewhere in between class I and II.\n",
        "Ranking of Std. Dev from smallest to largest -\n",
        "Class I - Class III - Class II"
      ]
    }
  ]
}