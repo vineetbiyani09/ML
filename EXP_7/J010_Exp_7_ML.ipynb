{
  "nbformat": 4,
  "nbformat_minor": 0,
  "metadata": {
    "accelerator": "GPU",
    "colab": {
      "name": "J010_Exp_7_ML.ipynb",
      "provenance": [],
      "collapsed_sections": [
        "h_HIZABtU1RZ",
        "k488g80SepgH",
        "Eai1MmVqUkNE",
        "Z8wv_6whTmGr",
        "V0JNDH-Doxhn",
        "AyKSN9ZD8A_F",
        "Il4XUxkLFR8s",
        "Fk2ubQss1p-H",
        "TNPLboC_1sli"
      ],
      "include_colab_link": true
    },
    "kernelspec": {
      "display_name": "Python 3",
      "language": "python",
      "name": "python3"
    },
    "language_info": {
      "codemirror_mode": {
        "name": "ipython",
        "version": 3
      },
      "file_extension": ".py",
      "mimetype": "text/x-python",
      "name": "python",
      "nbconvert_exporter": "python",
      "pygments_lexer": "ipython3",
      "version": "3.7.6"
    },
    "toc": {
      "base_numbering": 1,
      "nav_menu": {},
      "number_sections": true,
      "sideBar": true,
      "skip_h1_title": true,
      "title_cell": "Table of Contents",
      "title_sidebar": "Contents",
      "toc_cell": false,
      "toc_position": {},
      "toc_section_display": true,
      "toc_window_display": false
    }
  },
  "cells": [
    {
      "cell_type": "markdown",
      "metadata": {
        "id": "view-in-github",
        "colab_type": "text"
      },
      "source": [
        "<a href=\"https://colab.research.google.com/github/vineetbiyani09/ML/blob/master/EXP_7/J010_Exp_7_ML.ipynb\" target=\"_parent\"><img src=\"https://colab.research.google.com/assets/colab-badge.svg\" alt=\"Open In Colab\"/></a>"
      ]
    },
    {
      "cell_type": "code",
      "metadata": {
        "id": "qRvOZy6cUcmR"
      },
      "source": [
        "import pandas as pd\n",
        "import numpy as np\n",
        "from sklearn.datasets import fetch_covtype, fetch_kddcup99, fetch_lfw_pairs, fetch_lfw_people, fetch_olivetti_faces\n",
        "from sklearn.datasets import fetch_rcv1, load_breast_cancer, load_digits, load_wine"
      ],
      "execution_count": null,
      "outputs": []
    },
    {
      "cell_type": "code",
      "metadata": {
        "id": "Md0CGMe8XZAr"
      },
      "source": [
        "from sklearn.model_selection import train_test_split\n",
        "from sklearn.preprocessing import LabelEncoder, StandardScaler\n",
        "from scipy.sparse import csr_matrix\n",
        "import matplotlib.pyplot as plt"
      ],
      "execution_count": null,
      "outputs": []
    },
    {
      "cell_type": "code",
      "metadata": {
        "id": "J2HN_WLXatPP"
      },
      "source": [
        "from keras import models\n",
        "from keras import layers\n",
        "from keras.utils import to_categorical"
      ],
      "execution_count": null,
      "outputs": []
    },
    {
      "cell_type": "markdown",
      "metadata": {
        "id": "h_HIZABtU1RZ"
      },
      "source": [
        "## Forest Cover"
      ]
    },
    {
      "cell_type": "markdown",
      "metadata": {
        "id": "NJ2X3GDlU3G3"
      },
      "source": [
        "### Loading Dataset and Preprocessing"
      ]
    },
    {
      "cell_type": "code",
      "metadata": {
        "id": "ECsMj56KU7np",
        "outputId": "4a0accd0-0a4e-49ef-a772-ca1847ecfd04",
        "colab": {
          "base_uri": "https://localhost:8080/",
          "height": 35
        }
      },
      "source": [
        "forest = fetch_covtype()\n",
        "x_fetch_covtype = forest.data\n",
        "y_fetch_covtype = forest.target"
      ],
      "execution_count": null,
      "outputs": [
        {
          "output_type": "stream",
          "text": [
            "Downloading https://ndownloader.figshare.com/files/5976039\n"
          ],
          "name": "stderr"
        }
      ]
    },
    {
      "cell_type": "code",
      "metadata": {
        "id": "9ECDMsZNVr48",
        "outputId": "4b887c04-bbd6-4727-94c1-0109394c6594",
        "colab": {
          "base_uri": "https://localhost:8080/",
          "height": 52
        }
      },
      "source": [
        "x_forest = pd.DataFrame(x_fetch_covtype)\n",
        "y_forest = pd.DataFrame(y_fetch_covtype)\n",
        "print(x_forest.shape)\n",
        "print(y_forest.shape)"
      ],
      "execution_count": null,
      "outputs": [
        {
          "output_type": "stream",
          "text": [
            "(581012, 54)\n",
            "(581012, 1)\n"
          ],
          "name": "stdout"
        }
      ]
    },
    {
      "cell_type": "markdown",
      "metadata": {
        "id": "FuJgNviHW0qh"
      },
      "source": [
        "### Making a Neural Network"
      ]
    },
    {
      "cell_type": "code",
      "metadata": {
        "id": "CqiH7Im0XWQh",
        "outputId": "081d4c12-22b0-4ea0-9a5e-90277f056639",
        "colab": {
          "base_uri": "https://localhost:8080/",
          "height": 124
        }
      },
      "source": [
        "y_fore = y_forest.replace([1,2,3,4,5,6,7], [0,1,2,3,4,5,6])\n",
        "y_fore = to_categorical(y_fore)\n",
        "x_train, x_test, y_train, y_test = train_test_split(x_forest, y_fore, test_size = 0.2)\n",
        "x_dev, x_test, y_dev, y_test = train_test_split(x_test, y_test, test_size = 0.5)\n",
        "print(x_train.shape)\n",
        "print(x_dev.shape)\n",
        "print(x_test.shape)\n",
        "print(y_train.shape)\n",
        "print(y_dev.shape)\n",
        "print(y_test.shape)"
      ],
      "execution_count": null,
      "outputs": [
        {
          "output_type": "stream",
          "text": [
            "(464809, 54)\n",
            "(58101, 54)\n",
            "(58102, 54)\n",
            "(464809, 7)\n",
            "(58101, 7)\n",
            "(58102, 7)\n"
          ],
          "name": "stdout"
        }
      ]
    },
    {
      "cell_type": "code",
      "metadata": {
        "id": "dGU_Us8XWxTY"
      },
      "source": [
        "nn_forest = models.Sequential()\n",
        "nn_forest.add(layers.Dense(512, activation = 'relu', input_shape = (54, )))\n",
        "nn_forest.add(layers.Dense(256, activation = 'relu'))\n",
        "nn_forest.add(layers.Dense(128, activation = 'relu'))\n",
        "nn_forest.add(layers.Dense(54, activation = 'relu'))\n",
        "nn_forest.add(layers.Dense(7, activation = 'softmax'))\n",
        "nn_forest.compile(optimizer = 'rmsprop', loss = 'categorical_crossentropy', metrics = ['accuracy'])"
      ],
      "execution_count": null,
      "outputs": []
    },
    {
      "cell_type": "code",
      "metadata": {
        "id": "4970JdHuWxd8",
        "outputId": "5155c3f1-3e05-4d69-b98c-535b26c30586",
        "colab": {
          "base_uri": "https://localhost:8080/",
          "height": 1000
        }
      },
      "source": [
        "forest_history = nn_forest.fit(x_train, y_train, epochs = 75, batch_size = 5000, validation_data = (x_dev, y_dev))\n",
        "for_dev_acc = nn_forest.evaluate(x_dev, y_dev)[1]\n",
        "print('The dev accuracy is',for_dev_acc)"
      ],
      "execution_count": null,
      "outputs": [
        {
          "output_type": "stream",
          "text": [
            "Epoch 1/75\n",
            "93/93 [==============================] - 1s 10ms/step - loss: 31.0924 - accuracy: 0.3930 - val_loss: 8.6153 - val_accuracy: 0.4902\n",
            "Epoch 2/75\n",
            "93/93 [==============================] - 1s 6ms/step - loss: 4.0837 - accuracy: 0.4075 - val_loss: 1.9526 - val_accuracy: 0.4868\n",
            "Epoch 3/75\n",
            "93/93 [==============================] - 1s 6ms/step - loss: 2.2389 - accuracy: 0.4158 - val_loss: 1.1598 - val_accuracy: 0.4607\n",
            "Epoch 4/75\n",
            "93/93 [==============================] - 1s 6ms/step - loss: 1.5702 - accuracy: 0.4518 - val_loss: 1.1550 - val_accuracy: 0.5027\n",
            "Epoch 5/75\n",
            "93/93 [==============================] - 1s 6ms/step - loss: 1.3818 - accuracy: 0.4595 - val_loss: 1.0231 - val_accuracy: 0.5335\n",
            "Epoch 6/75\n",
            "93/93 [==============================] - 1s 6ms/step - loss: 1.1568 - accuracy: 0.4857 - val_loss: 1.0450 - val_accuracy: 0.5174\n",
            "Epoch 7/75\n",
            "93/93 [==============================] - 1s 6ms/step - loss: 1.1046 - accuracy: 0.5026 - val_loss: 0.9656 - val_accuracy: 0.5402\n",
            "Epoch 8/75\n",
            "93/93 [==============================] - 1s 6ms/step - loss: 1.0035 - accuracy: 0.5235 - val_loss: 1.2667 - val_accuracy: 0.4950\n",
            "Epoch 9/75\n",
            "93/93 [==============================] - 1s 6ms/step - loss: 1.0028 - accuracy: 0.5465 - val_loss: 0.9438 - val_accuracy: 0.5454\n",
            "Epoch 10/75\n",
            "93/93 [==============================] - 1s 6ms/step - loss: 0.9395 - accuracy: 0.5785 - val_loss: 0.8550 - val_accuracy: 0.6187\n",
            "Epoch 11/75\n",
            "93/93 [==============================] - 1s 6ms/step - loss: 0.8930 - accuracy: 0.5902 - val_loss: 1.0464 - val_accuracy: 0.4678\n",
            "Epoch 12/75\n",
            "93/93 [==============================] - 1s 6ms/step - loss: 0.8586 - accuracy: 0.5992 - val_loss: 0.7784 - val_accuracy: 0.6400\n",
            "Epoch 13/75\n",
            "93/93 [==============================] - 1s 6ms/step - loss: 0.8242 - accuracy: 0.6249 - val_loss: 0.8723 - val_accuracy: 0.5875\n",
            "Epoch 14/75\n",
            "93/93 [==============================] - 1s 6ms/step - loss: 0.7989 - accuracy: 0.6379 - val_loss: 0.7456 - val_accuracy: 0.6541\n",
            "Epoch 15/75\n",
            "93/93 [==============================] - 1s 6ms/step - loss: 0.7613 - accuracy: 0.6583 - val_loss: 0.7973 - val_accuracy: 0.6267\n",
            "Epoch 16/75\n",
            "93/93 [==============================] - 1s 6ms/step - loss: 0.7388 - accuracy: 0.6625 - val_loss: 0.6595 - val_accuracy: 0.7137\n",
            "Epoch 17/75\n",
            "93/93 [==============================] - 1s 6ms/step - loss: 0.7109 - accuracy: 0.6793 - val_loss: 0.5891 - val_accuracy: 0.7484\n",
            "Epoch 18/75\n",
            "93/93 [==============================] - 1s 6ms/step - loss: 0.6952 - accuracy: 0.6862 - val_loss: 0.6882 - val_accuracy: 0.6816\n",
            "Epoch 19/75\n",
            "93/93 [==============================] - 1s 6ms/step - loss: 0.6668 - accuracy: 0.6989 - val_loss: 0.5914 - val_accuracy: 0.7407\n",
            "Epoch 20/75\n",
            "93/93 [==============================] - 1s 6ms/step - loss: 0.6487 - accuracy: 0.7071 - val_loss: 0.5579 - val_accuracy: 0.7584\n",
            "Epoch 21/75\n",
            "93/93 [==============================] - 1s 6ms/step - loss: 0.6400 - accuracy: 0.7152 - val_loss: 0.5650 - val_accuracy: 0.7550\n",
            "Epoch 22/75\n",
            "93/93 [==============================] - 1s 6ms/step - loss: 0.6134 - accuracy: 0.7230 - val_loss: 0.7038 - val_accuracy: 0.6595\n",
            "Epoch 23/75\n",
            "93/93 [==============================] - 1s 6ms/step - loss: 0.6056 - accuracy: 0.7271 - val_loss: 0.5115 - val_accuracy: 0.7787\n",
            "Epoch 24/75\n",
            "93/93 [==============================] - 1s 6ms/step - loss: 0.5819 - accuracy: 0.7382 - val_loss: 0.5688 - val_accuracy: 0.7572\n",
            "Epoch 25/75\n",
            "93/93 [==============================] - 1s 6ms/step - loss: 0.5771 - accuracy: 0.7416 - val_loss: 0.4662 - val_accuracy: 0.8065\n",
            "Epoch 26/75\n",
            "93/93 [==============================] - 1s 6ms/step - loss: 0.5624 - accuracy: 0.7494 - val_loss: 0.6087 - val_accuracy: 0.7452\n",
            "Epoch 27/75\n",
            "93/93 [==============================] - 1s 6ms/step - loss: 0.5507 - accuracy: 0.7524 - val_loss: 0.4887 - val_accuracy: 0.7902\n",
            "Epoch 28/75\n",
            "93/93 [==============================] - 1s 6ms/step - loss: 0.5369 - accuracy: 0.7593 - val_loss: 0.4640 - val_accuracy: 0.7980\n",
            "Epoch 29/75\n",
            "93/93 [==============================] - 1s 6ms/step - loss: 0.5247 - accuracy: 0.7656 - val_loss: 0.7080 - val_accuracy: 0.6663\n",
            "Epoch 30/75\n",
            "93/93 [==============================] - 1s 6ms/step - loss: 0.5201 - accuracy: 0.7681 - val_loss: 0.4203 - val_accuracy: 0.8222\n",
            "Epoch 31/75\n",
            "93/93 [==============================] - 1s 6ms/step - loss: 0.5045 - accuracy: 0.7756 - val_loss: 0.4799 - val_accuracy: 0.7889\n",
            "Epoch 32/75\n",
            "93/93 [==============================] - 1s 6ms/step - loss: 0.5022 - accuracy: 0.7792 - val_loss: 0.4333 - val_accuracy: 0.8203\n",
            "Epoch 33/75\n",
            "93/93 [==============================] - 1s 6ms/step - loss: 0.4853 - accuracy: 0.7846 - val_loss: 0.4564 - val_accuracy: 0.8022\n",
            "Epoch 34/75\n",
            "93/93 [==============================] - 1s 6ms/step - loss: 0.4816 - accuracy: 0.7865 - val_loss: 0.4698 - val_accuracy: 0.7907\n",
            "Epoch 35/75\n",
            "93/93 [==============================] - 1s 6ms/step - loss: 0.4751 - accuracy: 0.7910 - val_loss: 0.6607 - val_accuracy: 0.7157\n",
            "Epoch 36/75\n",
            "93/93 [==============================] - 1s 6ms/step - loss: 0.4637 - accuracy: 0.7949 - val_loss: 0.5483 - val_accuracy: 0.7484\n",
            "Epoch 37/75\n",
            "93/93 [==============================] - 1s 5ms/step - loss: 0.4561 - accuracy: 0.7987 - val_loss: 0.4630 - val_accuracy: 0.7974\n",
            "Epoch 38/75\n",
            "93/93 [==============================] - 1s 6ms/step - loss: 0.4519 - accuracy: 0.8031 - val_loss: 0.4733 - val_accuracy: 0.7903\n",
            "Epoch 39/75\n",
            "93/93 [==============================] - 1s 6ms/step - loss: 0.4442 - accuracy: 0.8057 - val_loss: 0.4927 - val_accuracy: 0.7898\n",
            "Epoch 40/75\n",
            "93/93 [==============================] - 1s 6ms/step - loss: 0.4385 - accuracy: 0.8076 - val_loss: 0.5056 - val_accuracy: 0.7690\n",
            "Epoch 41/75\n",
            "93/93 [==============================] - 1s 6ms/step - loss: 0.4330 - accuracy: 0.8098 - val_loss: 0.4128 - val_accuracy: 0.8151\n",
            "Epoch 42/75\n",
            "93/93 [==============================] - 1s 6ms/step - loss: 0.4250 - accuracy: 0.8137 - val_loss: 0.4082 - val_accuracy: 0.8295\n",
            "Epoch 43/75\n",
            "93/93 [==============================] - 1s 6ms/step - loss: 0.4207 - accuracy: 0.8175 - val_loss: 0.3567 - val_accuracy: 0.8505\n",
            "Epoch 44/75\n",
            "93/93 [==============================] - 1s 6ms/step - loss: 0.4142 - accuracy: 0.8199 - val_loss: 0.4551 - val_accuracy: 0.7919\n",
            "Epoch 45/75\n",
            "93/93 [==============================] - 1s 5ms/step - loss: 0.4081 - accuracy: 0.8222 - val_loss: 0.5702 - val_accuracy: 0.7438\n",
            "Epoch 46/75\n",
            "93/93 [==============================] - 1s 6ms/step - loss: 0.4044 - accuracy: 0.8237 - val_loss: 0.4069 - val_accuracy: 0.8257\n",
            "Epoch 47/75\n",
            "93/93 [==============================] - 1s 6ms/step - loss: 0.4018 - accuracy: 0.8258 - val_loss: 0.3455 - val_accuracy: 0.8569\n",
            "Epoch 48/75\n",
            "93/93 [==============================] - 1s 6ms/step - loss: 0.3901 - accuracy: 0.8302 - val_loss: 0.3750 - val_accuracy: 0.8444\n",
            "Epoch 49/75\n",
            "93/93 [==============================] - 1s 6ms/step - loss: 0.3896 - accuracy: 0.8323 - val_loss: 0.3898 - val_accuracy: 0.8327\n",
            "Epoch 50/75\n",
            "93/93 [==============================] - 1s 6ms/step - loss: 0.3892 - accuracy: 0.8326 - val_loss: 0.3815 - val_accuracy: 0.8301\n",
            "Epoch 51/75\n",
            "93/93 [==============================] - 1s 6ms/step - loss: 0.3825 - accuracy: 0.8341 - val_loss: 0.3358 - val_accuracy: 0.8577\n",
            "Epoch 52/75\n",
            "93/93 [==============================] - 1s 6ms/step - loss: 0.3758 - accuracy: 0.8377 - val_loss: 0.3584 - val_accuracy: 0.8436\n",
            "Epoch 53/75\n",
            "93/93 [==============================] - 1s 6ms/step - loss: 0.3721 - accuracy: 0.8387 - val_loss: 0.4479 - val_accuracy: 0.8089\n",
            "Epoch 54/75\n",
            "93/93 [==============================] - 1s 5ms/step - loss: 0.3716 - accuracy: 0.8416 - val_loss: 0.3331 - val_accuracy: 0.8543\n",
            "Epoch 55/75\n",
            "93/93 [==============================] - 1s 6ms/step - loss: 0.3632 - accuracy: 0.8428 - val_loss: 0.3269 - val_accuracy: 0.8621\n",
            "Epoch 56/75\n",
            "93/93 [==============================] - 1s 6ms/step - loss: 0.3619 - accuracy: 0.8440 - val_loss: 0.4092 - val_accuracy: 0.8272\n",
            "Epoch 57/75\n",
            "93/93 [==============================] - 1s 6ms/step - loss: 0.3562 - accuracy: 0.8465 - val_loss: 0.3752 - val_accuracy: 0.8415\n",
            "Epoch 58/75\n",
            "93/93 [==============================] - 1s 5ms/step - loss: 0.3563 - accuracy: 0.8491 - val_loss: 0.4855 - val_accuracy: 0.7946\n",
            "Epoch 59/75\n",
            "93/93 [==============================] - 1s 6ms/step - loss: 0.3506 - accuracy: 0.8494 - val_loss: 0.3379 - val_accuracy: 0.8585\n",
            "Epoch 60/75\n",
            "93/93 [==============================] - 1s 5ms/step - loss: 0.3482 - accuracy: 0.8516 - val_loss: 0.3301 - val_accuracy: 0.8633\n",
            "Epoch 61/75\n",
            "93/93 [==============================] - 1s 6ms/step - loss: 0.3436 - accuracy: 0.8527 - val_loss: 0.3663 - val_accuracy: 0.8456\n",
            "Epoch 62/75\n",
            "93/93 [==============================] - 1s 6ms/step - loss: 0.3414 - accuracy: 0.8532 - val_loss: 0.3215 - val_accuracy: 0.8679\n",
            "Epoch 63/75\n",
            "93/93 [==============================] - 1s 6ms/step - loss: 0.3360 - accuracy: 0.8569 - val_loss: 0.3185 - val_accuracy: 0.8664\n",
            "Epoch 64/75\n",
            "93/93 [==============================] - 1s 5ms/step - loss: 0.3402 - accuracy: 0.8565 - val_loss: 0.3690 - val_accuracy: 0.8382\n",
            "Epoch 65/75\n",
            "93/93 [==============================] - 1s 6ms/step - loss: 0.3287 - accuracy: 0.8594 - val_loss: 0.3196 - val_accuracy: 0.8647\n",
            "Epoch 66/75\n",
            "93/93 [==============================] - 1s 5ms/step - loss: 0.3269 - accuracy: 0.8609 - val_loss: 0.4719 - val_accuracy: 0.8007\n",
            "Epoch 67/75\n",
            "93/93 [==============================] - 1s 6ms/step - loss: 0.3244 - accuracy: 0.8622 - val_loss: 0.2905 - val_accuracy: 0.8817\n",
            "Epoch 68/75\n",
            "93/93 [==============================] - 1s 5ms/step - loss: 0.3201 - accuracy: 0.8635 - val_loss: 0.3021 - val_accuracy: 0.8737\n",
            "Epoch 69/75\n",
            "93/93 [==============================] - 1s 6ms/step - loss: 0.3225 - accuracy: 0.8635 - val_loss: 0.3257 - val_accuracy: 0.8619\n",
            "Epoch 70/75\n",
            "93/93 [==============================] - 1s 5ms/step - loss: 0.3195 - accuracy: 0.8642 - val_loss: 0.2803 - val_accuracy: 0.8837\n",
            "Epoch 71/75\n",
            "93/93 [==============================] - 1s 6ms/step - loss: 0.3130 - accuracy: 0.8677 - val_loss: 0.3105 - val_accuracy: 0.8717\n",
            "Epoch 72/75\n",
            "93/93 [==============================] - 1s 6ms/step - loss: 0.3079 - accuracy: 0.8701 - val_loss: 0.2750 - val_accuracy: 0.8859\n",
            "Epoch 73/75\n",
            "93/93 [==============================] - 1s 6ms/step - loss: 0.3112 - accuracy: 0.8677 - val_loss: 0.3113 - val_accuracy: 0.8661\n",
            "Epoch 74/75\n",
            "93/93 [==============================] - 1s 6ms/step - loss: 0.3073 - accuracy: 0.8705 - val_loss: 0.2654 - val_accuracy: 0.8908\n",
            "Epoch 75/75\n",
            "93/93 [==============================] - 1s 5ms/step - loss: 0.3059 - accuracy: 0.8714 - val_loss: 0.2592 - val_accuracy: 0.8939\n",
            "1816/1816 [==============================] - 4s 2ms/step - loss: 0.2592 - accuracy: 0.8939\n",
            "The dev accuracy is 0.8939088582992554\n"
          ],
          "name": "stdout"
        }
      ]
    },
    {
      "cell_type": "markdown",
      "metadata": {
        "id": "A5QQYHaOdTRN"
      },
      "source": [
        "### Plotting Accuracy & Validation Accuracy with Epoch\n",
        "### Plotting Loss & Validation Loss with Epoch"
      ]
    },
    {
      "cell_type": "code",
      "metadata": {
        "id": "5UG4My83bsDW",
        "outputId": "a87ca4d4-0abd-4060-ca33-6582679c79ce",
        "colab": {
          "base_uri": "https://localhost:8080/",
          "height": 899
        }
      },
      "source": [
        "plt.figure(figsize = (10,7))\n",
        "plt.plot(forest_history.history['accuracy'], color = 'blue')\n",
        "plt.plot(forest_history.history['val_accuracy'], color = 'red')\n",
        "plt.title('Model accuracy')\n",
        "plt.ylabel('Accuracy')\n",
        "plt.xlabel('Epoch')\n",
        "plt.legend(['Train', 'Validation'], loc='upper left')\n",
        "plt.show()\n",
        "\n",
        "plt.figure(figsize = (10,7))\n",
        "plt.plot(forest_history.history['loss'], color = 'blue')\n",
        "plt.plot(forest_history.history['val_loss'], color = 'red')\n",
        "plt.ylim((0,1))\n",
        "plt.title('Model loss')\n",
        "plt.ylabel('Loss')\n",
        "plt.xlabel('Epoch')\n",
        "plt.legend(['Train', 'Validation'], loc='upper left')\n",
        "plt.show()"
      ],
      "execution_count": null,
      "outputs": [
        {
          "output_type": "display_data",
          "data": {
            "image/png": "[encoded data removed]",
            "text/plain": [
              "<Figure size 720x504 with 1 Axes>"
            ]
          },
          "metadata": {
            "tags": [],
            "needs_background": "light"
          }
        },
        {
          "output_type": "display_data",
          "data": {
            "image/png": "[encoded data removed]",
            "text/plain": [
              "<Figure size 720x504 with 1 Axes>"
            ]
          },
          "metadata": {
            "tags": [],
            "needs_background": "light"
          }
        }
      ]
    },
    {
      "cell_type": "code",
      "metadata": {
        "id": "5ontOzYRb3uy",
        "outputId": "d33541fc-368e-4550-9c4c-a1d2e895c2d2",
        "colab": {
          "base_uri": "https://localhost:8080/",
          "height": 52
        }
      },
      "source": [
        "for_test_acc = nn_forest.evaluate(x_test, y_test)[1]\n",
        "print('The test accuracy is',for_test_acc)"
      ],
      "execution_count": null,
      "outputs": [
        {
          "output_type": "stream",
          "text": [
            "1816/1816 [==============================] - 4s 2ms/step - loss: 0.2538 - accuracy: 0.8972\n",
            "The test accuracy is 0.8971807956695557\n"
          ],
          "name": "stdout"
        }
      ]
    },
    {
      "cell_type": "markdown",
      "metadata": {
        "id": "k488g80SepgH"
      },
      "source": [
        "## Fetch CupKdd99"
      ]
    },
    {
      "cell_type": "markdown",
      "metadata": {
        "id": "-YnkajjTeqI7"
      },
      "source": [
        "### Loading and Preprocessing the Data"
      ]
    },
    {
      "cell_type": "code",
      "metadata": {
        "id": "oupaHuRqe3dP",
        "outputId": "2dd5717d-08e7-474b-a8ab-1a651079332f",
        "colab": {
          "base_uri": "https://localhost:8080/",
          "height": 35
        }
      },
      "source": [
        "kddcup99 = fetch_kddcup99()\n",
        "x_fetch_kddcup99 = kddcup99.data\n",
        "y_fetch_kddcup99 = kddcup99.target"
      ],
      "execution_count": null,
      "outputs": [
        {
          "output_type": "stream",
          "text": [
            "Downloading https://ndownloader.figshare.com/files/5976042\n"
          ],
          "name": "stderr"
        }
      ]
    },
    {
      "cell_type": "code",
      "metadata": {
        "id": "mmtJpHXWfNIP",
        "outputId": "2e8213ec-35e0-4ccb-d330-a5389f828ac1",
        "colab": {
          "base_uri": "https://localhost:8080/",
          "height": 52
        }
      },
      "source": [
        "x_kdd = pd.DataFrame(x_fetch_kddcup99)\n",
        "y_kdd = pd.DataFrame(y_fetch_kddcup99)\n",
        "print(x_kdd.shape)\n",
        "print(y_kdd.shape)"
      ],
      "execution_count": null,
      "outputs": [
        {
          "output_type": "stream",
          "text": [
            "(494021, 41)\n",
            "(494021, 1)\n"
          ],
          "name": "stdout"
        }
      ]
    },
    {
      "cell_type": "code",
      "metadata": {
        "id": "kuhwPWgYowGx"
      },
      "source": [
        "le = LabelEncoder()\n",
        "for i in [1,2,3]:\n",
        "  x_kdd[i] = [j.decode('utf-8') for j in x_kdd[i]]\n",
        "  x_kdd[i] = le.fit_transform(x_kdd[i])\n",
        "\n",
        "for i in range(x_kdd.shape[1]):\n",
        "  x_kdd[i] = x_kdd[i].astype('float')"
      ],
      "execution_count": null,
      "outputs": []
    },
    {
      "cell_type": "code",
      "metadata": {
        "id": "0qzkpaGGkFvl"
      },
      "source": [
        "y_kdd99 = [i.decode('utf-8') for i in y_fetch_kddcup99]\n",
        "y_kdd99 = pd.DataFrame(le.fit_transform(y_kdd99))"
      ],
      "execution_count": null,
      "outputs": []
    },
    {
      "cell_type": "markdown",
      "metadata": {
        "id": "HQrMdP9PqE-l"
      },
      "source": [
        "### Making A Neural Network"
      ]
    },
    {
      "cell_type": "code",
      "metadata": {
        "id": "23iz8QNifiwF",
        "outputId": "7afb1ef5-17f7-4569-d784-52858ecf8f5d",
        "colab": {
          "base_uri": "https://localhost:8080/",
          "height": 124
        }
      },
      "source": [
        "y_kdd99 = to_categorical(y_kdd99)\n",
        "x_train, x_test, y_train, y_test = train_test_split(x_kdd, y_kdd99, test_size = 0.2)\n",
        "x_dev, x_test, y_dev, y_test = train_test_split(x_test, y_test, test_size = 0.5)\n",
        "print(x_train.shape)\n",
        "print(x_dev.shape)\n",
        "print(x_test.shape)\n",
        "print(y_train.shape)\n",
        "print(y_dev.shape)\n",
        "print(y_test.shape)"
      ],
      "execution_count": null,
      "outputs": [
        {
          "output_type": "stream",
          "text": [
            "(395216, 41)\n",
            "(49402, 41)\n",
            "(49403, 41)\n",
            "(395216, 23)\n",
            "(49402, 23)\n",
            "(49403, 23)\n"
          ],
          "name": "stdout"
        }
      ]
    },
    {
      "cell_type": "code",
      "metadata": {
        "id": "Iry-cstVnTaw"
      },
      "source": [
        "nn_kdd99 = models.Sequential()\n",
        "nn_kdd99.add(layers.Dense(256, activation = 'relu', input_shape = (41, )))\n",
        "nn_kdd99.add(layers.Dense(128, activation = 'relu'))\n",
        "nn_kdd99.add(layers.Dense(64, activation = 'relu'))\n",
        "nn_kdd99.add(layers.Dense(32, activation = 'relu'))\n",
        "nn_kdd99.add(layers.Dense(23, activation = 'softmax'))\n",
        "nn_kdd99.compile(optimizer = 'rmsprop', loss = 'categorical_crossentropy', metrics = ['accuracy'])"
      ],
      "execution_count": null,
      "outputs": []
    },
    {
      "cell_type": "code",
      "metadata": {
        "id": "us-4qHGuniZo",
        "outputId": "50b1a069-1a1d-4ae4-a48a-708b8d15b62b",
        "colab": {
          "base_uri": "https://localhost:8080/",
          "height": 408
        }
      },
      "source": [
        "kdd99_history = nn_kdd99.fit(x_train, y_train, epochs = 10, batch_size = 1000, validation_data = (x_dev, y_dev))\n",
        "kdd99_dev_acc = nn_kdd99.evaluate(x_dev, y_dev)[1]\n",
        "print('The dev accuracy is', kdd99_dev_acc)"
      ],
      "execution_count": null,
      "outputs": [
        {
          "output_type": "stream",
          "text": [
            "Epoch 1/10\n",
            "396/396 [==============================] - 2s 4ms/step - loss: 61.9987 - accuracy: 0.9642 - val_loss: 24.3387 - val_accuracy: 0.9374\n",
            "Epoch 2/10\n",
            "396/396 [==============================] - 1s 4ms/step - loss: 42.1834 - accuracy: 0.9795 - val_loss: 9.7455 - val_accuracy: 0.9900\n",
            "Epoch 3/10\n",
            "396/396 [==============================] - 1s 4ms/step - loss: 76.0218 - accuracy: 0.9834 - val_loss: 2.7655 - val_accuracy: 0.9687\n",
            "Epoch 4/10\n",
            "396/396 [==============================] - 1s 4ms/step - loss: 38.5087 - accuracy: 0.9873 - val_loss: 5.6185 - val_accuracy: 0.9928\n",
            "Epoch 5/10\n",
            "396/396 [==============================] - 1s 4ms/step - loss: 57.0495 - accuracy: 0.9857 - val_loss: 4.4019 - val_accuracy: 0.9874\n",
            "Epoch 6/10\n",
            "396/396 [==============================] - 1s 4ms/step - loss: 1.3594 - accuracy: 0.9850 - val_loss: 1.3973 - val_accuracy: 0.9922\n",
            "Epoch 7/10\n",
            "396/396 [==============================] - 1s 4ms/step - loss: 0.6610 - accuracy: 0.9900 - val_loss: 0.0309 - val_accuracy: 0.9925\n",
            "Epoch 8/10\n",
            "396/396 [==============================] - 1s 4ms/step - loss: 0.7388 - accuracy: 0.9874 - val_loss: 0.0629 - val_accuracy: 0.9929\n",
            "Epoch 9/10\n",
            "396/396 [==============================] - 1s 4ms/step - loss: 0.2383 - accuracy: 0.9898 - val_loss: 1.7563 - val_accuracy: 0.9924\n",
            "Epoch 10/10\n",
            "396/396 [==============================] - 1s 4ms/step - loss: 0.3588 - accuracy: 0.9921 - val_loss: 0.6174 - val_accuracy: 0.9916\n",
            "1544/1544 [==============================] - 3s 2ms/step - loss: 0.6174 - accuracy: 0.9916\n",
            "The dev accuracy is 0.9915995597839355\n"
          ],
          "name": "stdout"
        }
      ]
    },
    {
      "cell_type": "markdown",
      "metadata": {
        "id": "LDpXqUZwnz9C"
      },
      "source": [
        "### Plotting Accuracy & Validation Accuracy with Epoch\n",
        "### Plotting Loss & Validation Loss with Epoch"
      ]
    },
    {
      "cell_type": "code",
      "metadata": {
        "id": "gXz63xx1n1MH",
        "outputId": "0bc53637-2a55-4b39-b31d-9c5cef083199",
        "colab": {
          "base_uri": "https://localhost:8080/",
          "height": 899
        }
      },
      "source": [
        "plt.figure(figsize = (10,7))\n",
        "plt.plot(kdd99_history.history['accuracy'], color = 'blue')\n",
        "plt.plot(kdd99_history.history['val_accuracy'], color = 'red')\n",
        "plt.title('Model accuracy')\n",
        "plt.ylabel('Accuracy')\n",
        "plt.xlabel('Epoch')\n",
        "plt.legend(['Train', 'Validation'], loc='upper left')\n",
        "plt.show()\n",
        "\n",
        "plt.figure(figsize = (10,7))\n",
        "plt.plot(kdd99_history.history['loss'], color = 'blue')\n",
        "plt.plot(kdd99_history.history['val_loss'], color = 'red')\n",
        "plt.ylim((0,3))\n",
        "plt.title('Model loss')\n",
        "plt.ylabel('Loss')\n",
        "plt.xlabel('Epoch')\n",
        "plt.legend(['Train', 'Validation'], loc='upper left')\n",
        "plt.show()"
      ],
      "execution_count": null,
      "outputs": [
        {
          "output_type": "display_data",
          "data": {
            "image/png": "[encoded data removed]",
            "text/plain": [
              "<Figure size 720x504 with 1 Axes>"
            ]
          },
          "metadata": {
            "tags": [],
            "needs_background": "light"
          }
        },
        {
          "output_type": "display_data",
          "data": {
            "image/png": "[encoded data removed]",
            "text/plain": [
              "<Figure size 720x504 with 1 Axes>"
            ]
          },
          "metadata": {
            "tags": [],
            "needs_background": "light"
          }
        }
      ]
    },
    {
      "cell_type": "code",
      "metadata": {
        "id": "CeF-VWhYn63U",
        "outputId": "0c698aae-03e5-4919-a586-0f68be6847ee",
        "colab": {
          "base_uri": "https://localhost:8080/",
          "height": 52
        }
      },
      "source": [
        "kdd99_test_acc = nn_kdd99.evaluate(x_test, y_test)[1]\n",
        "print('The test accuracy is', kdd99_test_acc)"
      ],
      "execution_count": null,
      "outputs": [
        {
          "output_type": "stream",
          "text": [
            "1544/1544 [==============================] - 3s 2ms/step - loss: 0.3084 - accuracy: 0.9909\n",
            "The test accuracy is 0.9908912181854248\n"
          ],
          "name": "stdout"
        }
      ]
    },
    {
      "cell_type": "markdown",
      "metadata": {
        "id": "Eai1MmVqUkNE"
      },
      "source": [
        "## Fetch Lfw Pairs"
      ]
    },
    {
      "cell_type": "markdown",
      "metadata": {
        "id": "r-jrZj5_Umeq"
      },
      "source": [
        "### Loading the data and preprocessing"
      ]
    },
    {
      "cell_type": "code",
      "metadata": {
        "id": "KdogW_7cUnrA",
        "outputId": "5fba57db-dae7-434e-d616-65fe7b8a73d8",
        "colab": {
          "base_uri": "https://localhost:8080/",
          "height": 88
        }
      },
      "source": [
        "lfw = fetch_lfw_pairs()\n",
        "x_fetch_lfw_pairs = lfw.data\n",
        "y_fetch_lfw_pairs = lfw.target"
      ],
      "execution_count": null,
      "outputs": [
        {
          "output_type": "stream",
          "text": [
            "Downloading LFW metadata: https://ndownloader.figshare.com/files/5976012\n",
            "Downloading LFW metadata: https://ndownloader.figshare.com/files/5976009\n",
            "Downloading LFW metadata: https://ndownloader.figshare.com/files/5976006\n",
            "Downloading LFW data (~200MB): https://ndownloader.figshare.com/files/5976015\n"
          ],
          "name": "stderr"
        }
      ]
    },
    {
      "cell_type": "code",
      "metadata": {
        "id": "lCaP-u8JUrXF",
        "outputId": "2f782bf8-6c82-4974-9594-fd43267b55db",
        "colab": {
          "base_uri": "https://localhost:8080/",
          "height": 52
        }
      },
      "source": [
        "x_lfw_pairs = pd.DataFrame(x_fetch_lfw_pairs)\n",
        "y_lfw_pairs = pd.DataFrame(y_fetch_lfw_pairs)\n",
        "print(x_lfw_pairs.shape)\n",
        "print(y_lfw_pairs.shape)"
      ],
      "execution_count": null,
      "outputs": [
        {
          "output_type": "stream",
          "text": [
            "(2200, 5828)\n",
            "(2200, 1)\n"
          ],
          "name": "stdout"
        }
      ]
    },
    {
      "cell_type": "markdown",
      "metadata": {
        "id": "g3upoOtq63W8"
      },
      "source": [
        "### Making A Neural Network"
      ]
    },
    {
      "cell_type": "code",
      "metadata": {
        "id": "9jEu3c2D63W8",
        "outputId": "61fa9c98-3200-4259-e259-a4f4dc3db314",
        "colab": {
          "base_uri": "https://localhost:8080/",
          "height": 124
        }
      },
      "source": [
        "# y_fore = y_forest.replace([1,2,3,4,5,6,7], [0,1,2,3,4,5,6])\n",
        "# y_fore = to_categorical(y_fore)\n",
        "x_train, x_test, y_train, y_test = train_test_split(x_lfw_pairs, y_lfw_pairs, test_size = 0.2)\n",
        "x_dev, x_test, y_dev, y_test = train_test_split(x_test, y_test, test_size = 0.5)\n",
        "print(x_train.shape)\n",
        "print(x_dev.shape)\n",
        "print(x_test.shape)\n",
        "print(y_train.shape)\n",
        "print(y_dev.shape)\n",
        "print(y_test.shape)"
      ],
      "execution_count": null,
      "outputs": [
        {
          "output_type": "stream",
          "text": [
            "(1760, 5828)\n",
            "(220, 5828)\n",
            "(220, 5828)\n",
            "(1760, 1)\n",
            "(220, 1)\n",
            "(220, 1)\n"
          ],
          "name": "stdout"
        }
      ]
    },
    {
      "cell_type": "code",
      "metadata": {
        "id": "POPRbwmF63W-"
      },
      "source": [
        "nn_lfw_pairs = models.Sequential()\n",
        "\n",
        "nn_lfw_pairs.add(layers.Dense(11652, activation = 'relu', input_shape = (5828, )))\n",
        "nn_lfw_pairs.add(layers.Dense(5828, activation = 'relu'))\n",
        "nn_lfw_pairs.add(layers.Dense(2914, activation = 'relu'))\n",
        "nn_lfw_pairs.add(layers.Dense(1457, activation = 'relu'))\n",
        "nn_lfw_pairs.add(layers.Dense(128))\n",
        "nn_lfw_pairs.add(layers.LeakyReLU(alpha = 0.01))\n",
        "nn_lfw_pairs.add(layers.Dense(64, activation = 'relu'))\n",
        "nn_lfw_pairs.add(layers.Dense(1, activation = 'sigmoid'))\n",
        "\n",
        "nn_lfw_pairs.compile(optimizer = 'rmsprop', loss = 'binary_crossentropy', metrics = ['accuracy'])"
      ],
      "execution_count": null,
      "outputs": []
    },
    {
      "cell_type": "code",
      "metadata": {
        "id": "I0DNR6eT63XB",
        "outputId": "c1395119-6c6c-41ce-a24c-708590ad13af",
        "colab": {
          "base_uri": "https://localhost:8080/",
          "height": 979
        }
      },
      "source": [
        "lfw_pairs_history = nn_lfw_pairs.fit(x_train, y_train, epochs = 25, batch_size = 150,\n",
        "                                     validation_data = (x_dev, y_dev))\n",
        "lfw_pairs_dev_acc = nn_lfw_pairs.evaluate(x_dev, y_dev)[1]\n",
        "print('The dev accuracy is', lfw_pairs_dev_acc)"
      ],
      "execution_count": null,
      "outputs": [
        {
          "output_type": "stream",
          "text": [
            "Epoch 1/25\n",
            " 2/12 [====>.........................] - ETA: 0s - loss: 733447.8125 - accuracy: 0.5133WARNING:tensorflow:Callbacks method `on_train_batch_end` is slow compared to the batch time (batch time: 0.0302s vs `on_train_batch_end` time: 0.0830s). Check your callbacks.\n",
            "12/12 [==============================] - 1s 120ms/step - loss: 127680.1562 - accuracy: 0.4938 - val_loss: 75.3374 - val_accuracy: 0.5182\n",
            "Epoch 2/25\n",
            "12/12 [==============================] - 1s 93ms/step - loss: 66.0895 - accuracy: 0.5148 - val_loss: 45.0972 - val_accuracy: 0.5182\n",
            "Epoch 3/25\n",
            "12/12 [==============================] - 1s 93ms/step - loss: 32.1944 - accuracy: 0.5023 - val_loss: 4.1050 - val_accuracy: 0.5182\n",
            "Epoch 4/25\n",
            "12/12 [==============================] - 1s 92ms/step - loss: 4.7309 - accuracy: 0.5051 - val_loss: 0.7955 - val_accuracy: 0.5182\n",
            "Epoch 5/25\n",
            "12/12 [==============================] - 1s 93ms/step - loss: 0.7020 - accuracy: 0.5011 - val_loss: 0.6934 - val_accuracy: 0.4818\n",
            "Epoch 6/25\n",
            "12/12 [==============================] - 1s 93ms/step - loss: 0.6932 - accuracy: 0.5028 - val_loss: 0.6934 - val_accuracy: 0.4818\n",
            "Epoch 7/25\n",
            "12/12 [==============================] - 1s 93ms/step - loss: 0.6932 - accuracy: 0.5028 - val_loss: 0.6934 - val_accuracy: 0.4818\n",
            "Epoch 8/25\n",
            "12/12 [==============================] - 1s 93ms/step - loss: 0.6932 - accuracy: 0.5034 - val_loss: 0.6933 - val_accuracy: 0.4818\n",
            "Epoch 9/25\n",
            "12/12 [==============================] - 1s 93ms/step - loss: 94.7724 - accuracy: 0.4983 - val_loss: 88.5091 - val_accuracy: 0.5182\n",
            "Epoch 10/25\n",
            "12/12 [==============================] - 1s 93ms/step - loss: 91.5757 - accuracy: 0.4989 - val_loss: 5.6934 - val_accuracy: 0.5182\n",
            "Epoch 11/25\n",
            "12/12 [==============================] - 1s 93ms/step - loss: 31.1676 - accuracy: 0.4886 - val_loss: 0.8869 - val_accuracy: 0.4818\n",
            "Epoch 12/25\n",
            "12/12 [==============================] - 1s 93ms/step - loss: 29.2749 - accuracy: 0.5159 - val_loss: 3.3837 - val_accuracy: 0.5182\n",
            "Epoch 13/25\n",
            "12/12 [==============================] - 1s 93ms/step - loss: 18.2285 - accuracy: 0.5102 - val_loss: 4.6558 - val_accuracy: 0.4818\n",
            "Epoch 14/25\n",
            "12/12 [==============================] - 1s 94ms/step - loss: 1.7941 - accuracy: 0.5045 - val_loss: 1.3531 - val_accuracy: 0.4818\n",
            "Epoch 15/25\n",
            "12/12 [==============================] - 1s 92ms/step - loss: 1.2404 - accuracy: 0.5193 - val_loss: 0.7656 - val_accuracy: 0.4773\n",
            "Epoch 16/25\n",
            "12/12 [==============================] - 1s 92ms/step - loss: 1.6578 - accuracy: 0.4994 - val_loss: 10.2873 - val_accuracy: 0.5182\n",
            "Epoch 17/25\n",
            "12/12 [==============================] - 1s 93ms/step - loss: 9.4018 - accuracy: 0.4881 - val_loss: 0.8219 - val_accuracy: 0.4818\n",
            "Epoch 18/25\n",
            "12/12 [==============================] - 1s 93ms/step - loss: 0.8464 - accuracy: 0.4943 - val_loss: 0.9136 - val_accuracy: 0.5182\n",
            "Epoch 19/25\n",
            "12/12 [==============================] - 1s 93ms/step - loss: 3.5629 - accuracy: 0.4955 - val_loss: 0.6949 - val_accuracy: 0.4864\n",
            "Epoch 20/25\n",
            "12/12 [==============================] - 1s 93ms/step - loss: 0.6922 - accuracy: 0.5193 - val_loss: 0.8325 - val_accuracy: 0.5182\n",
            "Epoch 21/25\n",
            "12/12 [==============================] - 1s 93ms/step - loss: 0.7120 - accuracy: 0.4966 - val_loss: 0.6938 - val_accuracy: 0.4773\n",
            "Epoch 22/25\n",
            "12/12 [==============================] - 1s 93ms/step - loss: 0.6932 - accuracy: 0.5023 - val_loss: 0.6940 - val_accuracy: 0.4818\n",
            "Epoch 23/25\n",
            "12/12 [==============================] - 1s 93ms/step - loss: 0.6932 - accuracy: 0.5023 - val_loss: 0.6941 - val_accuracy: 0.4864\n",
            "Epoch 24/25\n",
            "12/12 [==============================] - 1s 93ms/step - loss: 0.6932 - accuracy: 0.5023 - val_loss: 0.6939 - val_accuracy: 0.4818\n",
            "Epoch 25/25\n",
            "12/12 [==============================] - 1s 93ms/step - loss: 0.6932 - accuracy: 0.5023 - val_loss: 0.6939 - val_accuracy: 0.4864\n",
            "7/7 [==============================] - 0s 4ms/step - loss: 0.6939 - accuracy: 0.4864\n",
            "The dev accuracy is 0.48636364936828613\n"
          ],
          "name": "stdout"
        }
      ]
    },
    {
      "cell_type": "markdown",
      "metadata": {
        "id": "NMtJ1tgpTQOz"
      },
      "source": [
        "### Plotting Accuracy & Validation Accuracy with Epoch\n",
        "### Plotting Loss & Validation Loss with Epoch"
      ]
    },
    {
      "cell_type": "code",
      "metadata": {
        "id": "QXdd0qsmTQy4",
        "outputId": "77793933-6edf-49b7-cfe9-4d84a98ac1df",
        "colab": {
          "base_uri": "https://localhost:8080/",
          "height": 899
        }
      },
      "source": [
        "plt.figure(figsize = (10,7))\n",
        "plt.plot(lfw_pairs_history.history['accuracy'], color = 'blue')\n",
        "plt.plot(lfw_pairs_history.history['val_accuracy'], color = 'red')\n",
        "plt.title('Model accuracy')\n",
        "plt.ylabel('Accuracy')\n",
        "plt.xlabel('Epoch')\n",
        "plt.legend(['Train', 'Validation'], loc='upper left')\n",
        "plt.show()\n",
        "\n",
        "plt.figure(figsize = (10,7))\n",
        "plt.plot(lfw_pairs_history.history['loss'], color = 'blue')\n",
        "plt.plot(lfw_pairs_history.history['val_loss'], color = 'red')\n",
        "# plt.ylim((0,3))\n",
        "plt.title('Model loss')\n",
        "plt.ylabel('Loss')\n",
        "plt.xlabel('Epoch')\n",
        "plt.legend(['Train', 'Validation'], loc='upper left')\n",
        "plt.show()"
      ],
      "execution_count": null,
      "outputs": [
        {
          "output_type": "display_data",
          "data": {
            "image/png": "[encoded data removed]",
            "text/plain": [
              "<Figure size 720x504 with 1 Axes>"
            ]
          },
          "metadata": {
            "tags": [],
            "needs_background": "light"
          }
        },
        {
          "output_type": "display_data",
          "data": {
            "image/png": "[encoded data removed]",
            "text/plain": [
              "<Figure size 720x504 with 1 Axes>"
            ]
          },
          "metadata": {
            "tags": [],
            "needs_background": "light"
          }
        }
      ]
    },
    {
      "cell_type": "code",
      "metadata": {
        "id": "NZGTaq_vTYvQ",
        "outputId": "38b2e3ad-2812-4ab7-9f90-63eef1cad23c",
        "colab": {
          "base_uri": "https://localhost:8080/",
          "height": 52
        }
      },
      "source": [
        "lfw_pairs_test_acc = nn_lfw_pairs.evaluate(x_test, y_test)[1]\n",
        "print('The test accuracy is', lfw_pairs_test_acc)"
      ],
      "execution_count": null,
      "outputs": [
        {
          "output_type": "stream",
          "text": [
            "7/7 [==============================] - 0s 4ms/step - loss: 0.6923 - accuracy: 0.5136\n",
            "The test accuracy is 0.5136363506317139\n"
          ],
          "name": "stdout"
        }
      ]
    },
    {
      "cell_type": "markdown",
      "metadata": {
        "id": "Z8wv_6whTmGr"
      },
      "source": [
        "## Fetch LFw People"
      ]
    },
    {
      "cell_type": "markdown",
      "metadata": {
        "id": "Et8NWeYrT2Hm"
      },
      "source": [
        "### Loading the Dataset and Preprocessing"
      ]
    },
    {
      "cell_type": "code",
      "metadata": {
        "id": "PmLmDfdO8USI"
      },
      "source": [
        "lfw = fetch_lfw_pairs()\n",
        "x_fetch_lfw = fetch_lfw_people().data\n",
        "y_fetch_lfw = fetch_lfw_people().target"
      ],
      "execution_count": null,
      "outputs": []
    },
    {
      "cell_type": "code",
      "metadata": {
        "id": "WBgiSx2RUElC",
        "outputId": "445428c6-edf8-47a4-d0c1-0f3d3507617a",
        "colab": {
          "base_uri": "https://localhost:8080/",
          "height": 52
        }
      },
      "source": [
        "x_lfw = pd.DataFrame(x_fetch_lfw)\n",
        "y_lfw = pd.DataFrame(y_fetch_lfw)\n",
        "print(x_lfw.shape)\n",
        "print(y_lfw.shape)"
      ],
      "execution_count": null,
      "outputs": [
        {
          "output_type": "stream",
          "text": [
            "(13233, 2914)\n",
            "(13233, 1)\n"
          ],
          "name": "stdout"
        }
      ]
    },
    {
      "cell_type": "code",
      "metadata": {
        "id": "waR3JrjuYbCQ"
      },
      "source": [
        "for i in range(x_lfw.shape[1]):\n",
        "  x_lfw[i] = x_lfw[i] / 255"
      ],
      "execution_count": null,
      "outputs": []
    },
    {
      "cell_type": "markdown",
      "metadata": {
        "id": "vUf2jirNjmhh"
      },
      "source": [
        "### Making a Neural Network"
      ]
    },
    {
      "cell_type": "code",
      "metadata": {
        "id": "CjaA0MGxjXlF",
        "outputId": "67b252f9-5933-42ad-ffd9-825f3ef94b0f",
        "colab": {
          "base_uri": "https://localhost:8080/",
          "height": 124
        }
      },
      "source": [
        "y_lfw = to_categorical(y_lfw)\n",
        "x_train, x_test, y_train, y_test = train_test_split(x_lfw, y_lfw, test_size = 0.2)\n",
        "x_dev, x_test, y_dev, y_test = train_test_split(x_test, y_test, test_size = 0.5)\n",
        "print(x_train.shape)\n",
        "print(x_dev.shape)\n",
        "print(x_test.shape)\n",
        "print(y_train.shape)\n",
        "print(y_dev.shape)\n",
        "print(y_test.shape)"
      ],
      "execution_count": null,
      "outputs": [
        {
          "output_type": "stream",
          "text": [
            "(10586, 2914)\n",
            "(1323, 2914)\n",
            "(1324, 2914)\n",
            "(10586, 5749)\n",
            "(1323, 5749)\n",
            "(1324, 5749)\n"
          ],
          "name": "stdout"
        }
      ]
    },
    {
      "cell_type": "code",
      "metadata": {
        "id": "EJmFcGa5j5pQ"
      },
      "source": [
        "nn_lfw = models.Sequential()\n",
        "\n",
        "nn_lfw.add(layers.Dense(2048, activation = 'relu', input_shape = (2914, )))\n",
        "nn_lfw.add(layers.Dense(8192, activation = 'relu'))\n",
        "nn_lfw.add(layers.Dense(4096, activation = 'relu'))\n",
        "nn_lfw.add(layers.Dense(2048, activation = 'relu'))\n",
        "nn_lfw.add(layers.Dense(4096, activation = 'relu'))\n",
        "nn_lfw.add(layers.Dense(5120, activation = 'relu'))\n",
        "nn_lfw.add(layers.Dense(5749, activation = 'softmax'))\n",
        "\n",
        "nn_lfw.compile(optimizer = 'sgd', loss = 'categorical_crossentropy', metrics = ['accuracy'])"
      ],
      "execution_count": null,
      "outputs": []
    },
    {
      "cell_type": "code",
      "metadata": {
        "id": "5gm3UbHCj_JV",
        "outputId": "6e5be96f-7270-4910-9fb7-a44d09c5f28f",
        "colab": {
          "base_uri": "https://localhost:8080/",
          "height": 446
        }
      },
      "source": [
        "lfw_history = nn_lfw.fit(x_train, y_train, epochs = 10, batch_size = 1000, validation_data = (x_dev, y_dev))\n",
        "\n",
        "lfw_dev_acc = nn_lfw.evaluate(x_dev, y_dev)[1]\n",
        "print('The dev accuracy is', lfw_dev_acc)"
      ],
      "execution_count": null,
      "outputs": [
        {
          "output_type": "stream",
          "text": [
            "Epoch 1/10\n",
            " 2/11 [====>.........................] - ETA: 0s - loss: 8.6542 - accuracy: 0.0000e+00WARNING:tensorflow:Callbacks method `on_train_batch_end` is slow compared to the batch time (batch time: 0.0832s vs `on_train_batch_end` time: 0.1284s). Check your callbacks.\n",
            "11/11 [==============================] - 2s 220ms/step - loss: 8.6474 - accuracy: 0.0118 - val_loss: 8.6385 - val_accuracy: 0.0446\n",
            "Epoch 2/10\n",
            "11/11 [==============================] - 2s 213ms/step - loss: 8.6308 - accuracy: 0.0396 - val_loss: 8.6204 - val_accuracy: 0.0446\n",
            "Epoch 3/10\n",
            "11/11 [==============================] - 2s 214ms/step - loss: 8.6120 - accuracy: 0.0396 - val_loss: 8.5983 - val_accuracy: 0.0446\n",
            "Epoch 4/10\n",
            "11/11 [==============================] - 2s 215ms/step - loss: 8.5878 - accuracy: 0.0396 - val_loss: 8.5681 - val_accuracy: 0.0446\n",
            "Epoch 5/10\n",
            "11/11 [==============================] - 2s 217ms/step - loss: 8.5534 - accuracy: 0.0396 - val_loss: 8.5232 - val_accuracy: 0.0446\n",
            "Epoch 6/10\n",
            "11/11 [==============================] - 2s 217ms/step - loss: 8.5000 - accuracy: 0.0396 - val_loss: 8.4521 - val_accuracy: 0.0446\n",
            "Epoch 7/10\n",
            "11/11 [==============================] - 2s 217ms/step - loss: 8.4173 - accuracy: 0.0396 - val_loss: 8.3548 - val_accuracy: 0.0446\n",
            "Epoch 8/10\n",
            "11/11 [==============================] - 2s 216ms/step - loss: 8.3347 - accuracy: 0.0396 - val_loss: 8.2984 - val_accuracy: 0.0446\n",
            "Epoch 9/10\n",
            "11/11 [==============================] - 2s 217ms/step - loss: 8.2798 - accuracy: 0.0396 - val_loss: 8.2496 - val_accuracy: 0.0446\n",
            "Epoch 10/10\n",
            "11/11 [==============================] - 2s 216ms/step - loss: 8.2240 - accuracy: 0.0396 - val_loss: 8.2012 - val_accuracy: 0.0446\n",
            "42/42 [==============================] - 0s 5ms/step - loss: 8.2012 - accuracy: 0.0446\n",
            "The dev accuracy is 0.044595617800951004\n"
          ],
          "name": "stdout"
        }
      ]
    },
    {
      "cell_type": "markdown",
      "metadata": {
        "id": "YawE-efTkdlW"
      },
      "source": [
        "### Plotting Accuracy & Validation Accuracy with Epoch\n",
        "### Plotting Loss & Validation Loss with Epoch"
      ]
    },
    {
      "cell_type": "code",
      "metadata": {
        "id": "azc_4kOOkd6w",
        "outputId": "1a3f4997-c38d-46cf-cc05-fad4aafdae67",
        "colab": {
          "base_uri": "https://localhost:8080/",
          "height": 899
        }
      },
      "source": [
        "plt.figure(figsize = (10,7))\n",
        "plt.plot(lfw_history.history['accuracy'], color = 'blue')\n",
        "plt.plot(lfw_history.history['val_accuracy'], color = 'red')\n",
        "plt.title('Model accuracy')\n",
        "plt.ylabel('Accuracy')\n",
        "plt.xlabel('Epoch')\n",
        "plt.legend(['Train', 'Validation'], loc='upper left')\n",
        "plt.show()\n",
        "\n",
        "plt.figure(figsize = (10,7))\n",
        "plt.plot(lfw_history.history['loss'], color = 'blue')\n",
        "plt.plot(lfw_history.history['val_loss'], color = 'red')\n",
        "plt.ylim((0,3))\n",
        "plt.title('Model loss')\n",
        "plt.ylabel('Loss')\n",
        "plt.xlabel('Epoch')\n",
        "plt.legend(['Train', 'Validation'], loc='upper left')\n",
        "plt.show()"
      ],
      "execution_count": null,
      "outputs": [
        {
          "output_type": "display_data",
          "data": {
            "image/png": "[encoded data removed]",
            "text/plain": [
              "<Figure size 720x504 with 1 Axes>"
            ]
          },
          "metadata": {
            "tags": [],
            "needs_background": "light"
          }
        },
        {
          "output_type": "display_data",
          "data": {
            "image/png": "[encoded data removed]",
            "text/plain": [
              "<Figure size 720x504 with 1 Axes>"
            ]
          },
          "metadata": {
            "tags": [],
            "needs_background": "light"
          }
        }
      ]
    },
    {
      "cell_type": "code",
      "metadata": {
        "id": "I839f7r0lL0e",
        "outputId": "0d3096e4-2237-4d25-d80d-e66389aae3e2",
        "colab": {
          "base_uri": "https://localhost:8080/",
          "height": 52
        }
      },
      "source": [
        "lfw_test_acc = nn_lfw.evaluate(x_test, y_test)[1]\n",
        "print('The test accuracy is', lfw_test_acc)"
      ],
      "execution_count": null,
      "outputs": [
        {
          "output_type": "stream",
          "text": [
            "42/42 [==============================] - 0s 5ms/step - loss: 8.2986 - accuracy: 0.0393\n",
            "The test accuracy is 0.039274923503398895\n"
          ],
          "name": "stdout"
        }
      ]
    },
    {
      "cell_type": "markdown",
      "metadata": {
        "id": "V0JNDH-Doxhn"
      },
      "source": [
        "## Olivetti Faces"
      ]
    },
    {
      "cell_type": "markdown",
      "metadata": {
        "id": "Y-XwJkMUo4NC"
      },
      "source": [
        "### Loading the data and Preprocessing"
      ]
    },
    {
      "cell_type": "code",
      "metadata": {
        "id": "CnEOIApxozYG",
        "outputId": "6ed2fb3e-8429-4e72-c660-e5360e3d3ece",
        "colab": {
          "base_uri": "https://localhost:8080/",
          "height": 35
        }
      },
      "source": [
        "oli = fetch_olivetti_faces(shuffle = True)\n",
        "x_fetch_olivetti_faces = oli.data\n",
        "y_fetch_olivetti_faces = oli.target"
      ],
      "execution_count": null,
      "outputs": [
        {
          "output_type": "stream",
          "text": [
            "downloading Olivetti faces from https://ndownloader.figshare.com/files/5976027 to /root/scikit_learn_data\n"
          ],
          "name": "stdout"
        }
      ]
    },
    {
      "cell_type": "code",
      "metadata": {
        "id": "CYGtYOCbo8_i",
        "outputId": "8a7727c5-ed66-4232-c631-666b295b2a0a",
        "colab": {
          "base_uri": "https://localhost:8080/",
          "height": 52
        }
      },
      "source": [
        "x_oli = pd.DataFrame(x_fetch_olivetti_faces)\n",
        "y_oli = pd.DataFrame(y_fetch_olivetti_faces)\n",
        "print(x_fetch_olivetti_faces.shape)\n",
        "print(y_oli.shape)"
      ],
      "execution_count": null,
      "outputs": [
        {
          "output_type": "stream",
          "text": [
            "(400, 4096)\n",
            "(400, 1)\n"
          ],
          "name": "stdout"
        }
      ]
    },
    {
      "cell_type": "markdown",
      "metadata": {
        "id": "htd1010ho-ki"
      },
      "source": [
        "### Making a Neural Network"
      ]
    },
    {
      "cell_type": "code",
      "metadata": {
        "id": "_SNQYvEDpAe7",
        "outputId": "7594bd7e-a9b1-4fff-fc77-edd6450e2f03",
        "colab": {
          "base_uri": "https://localhost:8080/",
          "height": 124
        }
      },
      "source": [
        "y_oli = to_categorical(y_oli)\n",
        "x_train, x_test, y_train, y_test = train_test_split(x_oli, y_oli, test_size = 0.2)\n",
        "x_dev, x_test, y_dev, y_test = train_test_split(x_test, y_test, test_size = 0.5)\n",
        "print(x_train.shape)\n",
        "print(x_dev.shape)\n",
        "print(x_test.shape)\n",
        "print(y_train.shape)\n",
        "print(y_dev.shape)\n",
        "print(y_test.shape)"
      ],
      "execution_count": null,
      "outputs": [
        {
          "output_type": "stream",
          "text": [
            "(320, 4096)\n",
            "(40, 4096)\n",
            "(40, 4096)\n",
            "(320, 40)\n",
            "(40, 40)\n",
            "(40, 40)\n"
          ],
          "name": "stdout"
        }
      ]
    },
    {
      "cell_type": "code",
      "metadata": {
        "id": "ZAR8qbTMpEXv"
      },
      "source": [
        "nn_oli = models.Sequential()\n",
        "\n",
        "nn_oli.add(layers.Dense(2048, activation = 'relu', input_shape = (4096, )))\n",
        "nn_oli.add(layers.Dense(1024, activation = 'relu'))\n",
        "nn_oli.add(layers.Dense(512, activation = 'relu'))\n",
        "nn_oli.add(layers.Dense(256, activation = 'relu'))\n",
        "nn_oli.add(layers.Dense(40, activation = 'softmax'))\n",
        "\n",
        "nn_oli.compile(optimizer = 'sgd', loss = 'categorical_crossentropy', metrics = ['accuracy'])"
      ],
      "execution_count": null,
      "outputs": []
    },
    {
      "cell_type": "code",
      "metadata": {
        "id": "3aebiyHypG-V",
        "outputId": "71c37114-6c4e-407a-e8f9-1c7a676c4313",
        "colab": {
          "base_uri": "https://localhost:8080/",
          "height": 1000
        }
      },
      "source": [
        "oli_history = nn_oli.fit(x_train, y_train, epochs = 75, validation_data = (x_dev, y_dev))\n",
        "\n",
        "oli_dev_acc = nn_oli.evaluate(x_dev, y_dev)[1]\n",
        "print('The dev accuracy is', oli_dev_acc)"
      ],
      "execution_count": null,
      "outputs": [
        {
          "output_type": "stream",
          "text": [
            "Epoch 1/75\n",
            "10/10 [==============================] - 0s 25ms/step - loss: 3.7177 - accuracy: 0.0312 - val_loss: 3.7095 - val_accuracy: 0.0000e+00\n",
            "Epoch 2/75\n",
            "10/10 [==============================] - 0s 5ms/step - loss: 3.6356 - accuracy: 0.0625 - val_loss: 3.6894 - val_accuracy: 0.0750\n",
            "Epoch 3/75\n",
            "10/10 [==============================] - 0s 5ms/step - loss: 3.5885 - accuracy: 0.0969 - val_loss: 3.6624 - val_accuracy: 0.0250\n",
            "Epoch 4/75\n",
            "10/10 [==============================] - 0s 5ms/step - loss: 3.5505 - accuracy: 0.0844 - val_loss: 3.6134 - val_accuracy: 0.0750\n",
            "Epoch 5/75\n",
            "10/10 [==============================] - 0s 5ms/step - loss: 3.5268 - accuracy: 0.1094 - val_loss: 3.5878 - val_accuracy: 0.0500\n",
            "Epoch 6/75\n",
            "10/10 [==============================] - 0s 5ms/step - loss: 3.4517 - accuracy: 0.1531 - val_loss: 3.5827 - val_accuracy: 0.0000e+00\n",
            "Epoch 7/75\n",
            "10/10 [==============================] - 0s 5ms/step - loss: 3.4140 - accuracy: 0.1281 - val_loss: 3.5787 - val_accuracy: 0.0250\n",
            "Epoch 8/75\n",
            "10/10 [==============================] - 0s 5ms/step - loss: 3.3774 - accuracy: 0.1813 - val_loss: 3.4781 - val_accuracy: 0.0500\n",
            "Epoch 9/75\n",
            "10/10 [==============================] - 0s 5ms/step - loss: 3.3351 - accuracy: 0.1531 - val_loss: 3.5036 - val_accuracy: 0.0000e+00\n",
            "Epoch 10/75\n",
            "10/10 [==============================] - 0s 6ms/step - loss: 3.2651 - accuracy: 0.1781 - val_loss: 3.4776 - val_accuracy: 0.0000e+00\n",
            "Epoch 11/75\n",
            "10/10 [==============================] - 0s 5ms/step - loss: 3.2620 - accuracy: 0.1781 - val_loss: 3.4009 - val_accuracy: 0.1250\n",
            "Epoch 12/75\n",
            "10/10 [==============================] - 0s 5ms/step - loss: 3.1460 - accuracy: 0.2313 - val_loss: 3.3233 - val_accuracy: 0.1000\n",
            "Epoch 13/75\n",
            "10/10 [==============================] - 0s 5ms/step - loss: 3.0975 - accuracy: 0.2062 - val_loss: 3.2852 - val_accuracy: 0.0750\n",
            "Epoch 14/75\n",
            "10/10 [==============================] - 0s 5ms/step - loss: 3.0621 - accuracy: 0.2406 - val_loss: 3.2963 - val_accuracy: 0.2250\n",
            "Epoch 15/75\n",
            "10/10 [==============================] - 0s 5ms/step - loss: 2.9546 - accuracy: 0.2719 - val_loss: 3.1845 - val_accuracy: 0.2500\n",
            "Epoch 16/75\n",
            "10/10 [==============================] - 0s 5ms/step - loss: 2.9010 - accuracy: 0.2750 - val_loss: 3.1722 - val_accuracy: 0.0000e+00\n",
            "Epoch 17/75\n",
            "10/10 [==============================] - 0s 5ms/step - loss: 2.8501 - accuracy: 0.2719 - val_loss: 3.0611 - val_accuracy: 0.2750\n",
            "Epoch 18/75\n",
            "10/10 [==============================] - 0s 5ms/step - loss: 2.7438 - accuracy: 0.3219 - val_loss: 3.1475 - val_accuracy: 0.1750\n",
            "Epoch 19/75\n",
            "10/10 [==============================] - 0s 5ms/step - loss: 2.7134 - accuracy: 0.2750 - val_loss: 3.0559 - val_accuracy: 0.2500\n",
            "Epoch 20/75\n",
            "10/10 [==============================] - 0s 5ms/step - loss: 2.7842 - accuracy: 0.2344 - val_loss: 2.8228 - val_accuracy: 0.3000\n",
            "Epoch 21/75\n",
            "10/10 [==============================] - 0s 5ms/step - loss: 2.6131 - accuracy: 0.3406 - val_loss: 2.8040 - val_accuracy: 0.3750\n",
            "Epoch 22/75\n",
            "10/10 [==============================] - 0s 6ms/step - loss: 2.4884 - accuracy: 0.3750 - val_loss: 2.6103 - val_accuracy: 0.2500\n",
            "Epoch 23/75\n",
            "10/10 [==============================] - 0s 5ms/step - loss: 2.3630 - accuracy: 0.4062 - val_loss: 2.5210 - val_accuracy: 0.4250\n",
            "Epoch 24/75\n",
            "10/10 [==============================] - 0s 5ms/step - loss: 2.2515 - accuracy: 0.4812 - val_loss: 2.4523 - val_accuracy: 0.5000\n",
            "Epoch 25/75\n",
            "10/10 [==============================] - 0s 5ms/step - loss: 2.2829 - accuracy: 0.4719 - val_loss: 2.8382 - val_accuracy: 0.2250\n",
            "Epoch 26/75\n",
            "10/10 [==============================] - 0s 5ms/step - loss: 2.3301 - accuracy: 0.3656 - val_loss: 2.7177 - val_accuracy: 0.4000\n",
            "Epoch 27/75\n",
            "10/10 [==============================] - 0s 5ms/step - loss: 2.0331 - accuracy: 0.5750 - val_loss: 2.4177 - val_accuracy: 0.4250\n",
            "Epoch 28/75\n",
            "10/10 [==============================] - 0s 6ms/step - loss: 2.1775 - accuracy: 0.4781 - val_loss: 2.2896 - val_accuracy: 0.4250\n",
            "Epoch 29/75\n",
            "10/10 [==============================] - 0s 5ms/step - loss: 1.9805 - accuracy: 0.5312 - val_loss: 2.1863 - val_accuracy: 0.5000\n",
            "Epoch 30/75\n",
            "10/10 [==============================] - 0s 5ms/step - loss: 2.0575 - accuracy: 0.4594 - val_loss: 2.3273 - val_accuracy: 0.5000\n",
            "Epoch 31/75\n",
            "10/10 [==============================] - 0s 5ms/step - loss: 1.9419 - accuracy: 0.5063 - val_loss: 2.3722 - val_accuracy: 0.4250\n",
            "Epoch 32/75\n",
            "10/10 [==============================] - 0s 5ms/step - loss: 1.8964 - accuracy: 0.4969 - val_loss: 1.9971 - val_accuracy: 0.4250\n",
            "Epoch 33/75\n",
            "10/10 [==============================] - 0s 5ms/step - loss: 1.8080 - accuracy: 0.5500 - val_loss: 1.8989 - val_accuracy: 0.5500\n",
            "Epoch 34/75\n",
            "10/10 [==============================] - 0s 5ms/step - loss: 1.6824 - accuracy: 0.5750 - val_loss: 2.8889 - val_accuracy: 0.3250\n",
            "Epoch 35/75\n",
            "10/10 [==============================] - 0s 5ms/step - loss: 1.7665 - accuracy: 0.5719 - val_loss: 1.7963 - val_accuracy: 0.5750\n",
            "Epoch 36/75\n",
            "10/10 [==============================] - 0s 5ms/step - loss: 1.5869 - accuracy: 0.6125 - val_loss: 1.7655 - val_accuracy: 0.5000\n",
            "Epoch 37/75\n",
            "10/10 [==============================] - 0s 5ms/step - loss: 1.3584 - accuracy: 0.7250 - val_loss: 2.2355 - val_accuracy: 0.2750\n",
            "Epoch 38/75\n",
            "10/10 [==============================] - 0s 5ms/step - loss: 1.5339 - accuracy: 0.5938 - val_loss: 1.9802 - val_accuracy: 0.4750\n",
            "Epoch 39/75\n",
            "10/10 [==============================] - 0s 5ms/step - loss: 1.5841 - accuracy: 0.6031 - val_loss: 1.8807 - val_accuracy: 0.5750\n",
            "Epoch 40/75\n",
            "10/10 [==============================] - 0s 6ms/step - loss: 1.3226 - accuracy: 0.7031 - val_loss: 1.7278 - val_accuracy: 0.5250\n",
            "Epoch 41/75\n",
            "10/10 [==============================] - 0s 5ms/step - loss: 1.1153 - accuracy: 0.8250 - val_loss: 1.5237 - val_accuracy: 0.6500\n",
            "Epoch 42/75\n",
            "10/10 [==============================] - 0s 5ms/step - loss: 1.0809 - accuracy: 0.7844 - val_loss: 1.3551 - val_accuracy: 0.7500\n",
            "Epoch 43/75\n",
            "10/10 [==============================] - 0s 5ms/step - loss: 1.1802 - accuracy: 0.7188 - val_loss: 1.3335 - val_accuracy: 0.6750\n",
            "Epoch 44/75\n",
            "10/10 [==============================] - 0s 5ms/step - loss: 0.9990 - accuracy: 0.7500 - val_loss: 1.2833 - val_accuracy: 0.8250\n",
            "Epoch 45/75\n",
            "10/10 [==============================] - 0s 5ms/step - loss: 0.9785 - accuracy: 0.8281 - val_loss: 1.0962 - val_accuracy: 0.8000\n",
            "Epoch 46/75\n",
            "10/10 [==============================] - 0s 5ms/step - loss: 1.1044 - accuracy: 0.7500 - val_loss: 1.4952 - val_accuracy: 0.6000\n",
            "Epoch 47/75\n",
            "10/10 [==============================] - 0s 5ms/step - loss: 0.9122 - accuracy: 0.7906 - val_loss: 1.4602 - val_accuracy: 0.5500\n",
            "Epoch 48/75\n",
            "10/10 [==============================] - 0s 5ms/step - loss: 1.0907 - accuracy: 0.7375 - val_loss: 1.1194 - val_accuracy: 0.8250\n",
            "Epoch 49/75\n",
            "10/10 [==============================] - 0s 5ms/step - loss: 1.0700 - accuracy: 0.7531 - val_loss: 1.1517 - val_accuracy: 0.7000\n",
            "Epoch 50/75\n",
            "10/10 [==============================] - 0s 5ms/step - loss: 0.7013 - accuracy: 0.8719 - val_loss: 1.1749 - val_accuracy: 0.6750\n",
            "Epoch 51/75\n",
            "10/10 [==============================] - 0s 5ms/step - loss: 1.3265 - accuracy: 0.6625 - val_loss: 0.9568 - val_accuracy: 0.8750\n",
            "Epoch 52/75\n",
            "10/10 [==============================] - 0s 5ms/step - loss: 0.7339 - accuracy: 0.8656 - val_loss: 0.8347 - val_accuracy: 0.8750\n",
            "Epoch 53/75\n",
            "10/10 [==============================] - 0s 5ms/step - loss: 0.6347 - accuracy: 0.8969 - val_loss: 0.8699 - val_accuracy: 0.7750\n",
            "Epoch 54/75\n",
            "10/10 [==============================] - 0s 5ms/step - loss: 0.6277 - accuracy: 0.8875 - val_loss: 0.8581 - val_accuracy: 0.8000\n",
            "Epoch 55/75\n",
            "10/10 [==============================] - 0s 5ms/step - loss: 0.6081 - accuracy: 0.8938 - val_loss: 1.2879 - val_accuracy: 0.6500\n",
            "Epoch 56/75\n",
            "10/10 [==============================] - 0s 5ms/step - loss: 1.5244 - accuracy: 0.5406 - val_loss: 0.9790 - val_accuracy: 0.7500\n",
            "Epoch 57/75\n",
            "10/10 [==============================] - 0s 5ms/step - loss: 0.5705 - accuracy: 0.9187 - val_loss: 0.8701 - val_accuracy: 0.8250\n",
            "Epoch 58/75\n",
            "10/10 [==============================] - 0s 5ms/step - loss: 0.4758 - accuracy: 0.9312 - val_loss: 0.9430 - val_accuracy: 0.7500\n",
            "Epoch 59/75\n",
            "10/10 [==============================] - 0s 6ms/step - loss: 0.4396 - accuracy: 0.9250 - val_loss: 0.6802 - val_accuracy: 0.8750\n",
            "Epoch 60/75\n",
            "10/10 [==============================] - 0s 5ms/step - loss: 0.4447 - accuracy: 0.9406 - val_loss: 0.7894 - val_accuracy: 0.7750\n",
            "Epoch 61/75\n",
            "10/10 [==============================] - 0s 5ms/step - loss: 0.4214 - accuracy: 0.9406 - val_loss: 1.7065 - val_accuracy: 0.5750\n",
            "Epoch 62/75\n",
            "10/10 [==============================] - 0s 5ms/step - loss: 1.2516 - accuracy: 0.6500 - val_loss: 0.7498 - val_accuracy: 0.8500\n",
            "Epoch 63/75\n",
            "10/10 [==============================] - 0s 5ms/step - loss: 0.4096 - accuracy: 0.9500 - val_loss: 0.5749 - val_accuracy: 0.9000\n",
            "Epoch 64/75\n",
            "10/10 [==============================] - 0s 5ms/step - loss: 0.3585 - accuracy: 0.9625 - val_loss: 0.6764 - val_accuracy: 0.8500\n",
            "Epoch 65/75\n",
            "10/10 [==============================] - 0s 5ms/step - loss: 0.2958 - accuracy: 0.9812 - val_loss: 0.9722 - val_accuracy: 0.6750\n",
            "Epoch 66/75\n",
            "10/10 [==============================] - 0s 5ms/step - loss: 0.5134 - accuracy: 0.8969 - val_loss: 0.6080 - val_accuracy: 0.9000\n",
            "Epoch 67/75\n",
            "10/10 [==============================] - 0s 5ms/step - loss: 0.3005 - accuracy: 0.9719 - val_loss: 0.6669 - val_accuracy: 0.8750\n",
            "Epoch 68/75\n",
            "10/10 [==============================] - 0s 5ms/step - loss: 0.2964 - accuracy: 0.9688 - val_loss: 0.4945 - val_accuracy: 0.9500\n",
            "Epoch 69/75\n",
            "10/10 [==============================] - 0s 5ms/step - loss: 0.2229 - accuracy: 0.9844 - val_loss: 0.5330 - val_accuracy: 0.9000\n",
            "Epoch 70/75\n",
            "10/10 [==============================] - 0s 5ms/step - loss: 0.2164 - accuracy: 0.9906 - val_loss: 0.5949 - val_accuracy: 0.8750\n",
            "Epoch 71/75\n",
            "10/10 [==============================] - 0s 5ms/step - loss: 0.2165 - accuracy: 0.9969 - val_loss: 0.5699 - val_accuracy: 0.9000\n",
            "Epoch 72/75\n",
            "10/10 [==============================] - 0s 5ms/step - loss: 0.2122 - accuracy: 0.9875 - val_loss: 0.5274 - val_accuracy: 0.9000\n",
            "Epoch 73/75\n",
            "10/10 [==============================] - 0s 5ms/step - loss: 0.2044 - accuracy: 0.9969 - val_loss: 0.4531 - val_accuracy: 0.8750\n",
            "Epoch 74/75\n",
            "10/10 [==============================] - 0s 5ms/step - loss: 0.1793 - accuracy: 0.9937 - val_loss: 0.4914 - val_accuracy: 0.9000\n",
            "Epoch 75/75\n",
            "10/10 [==============================] - 0s 5ms/step - loss: 0.2659 - accuracy: 0.9625 - val_loss: 1.3336 - val_accuracy: 0.6000\n",
            "2/2 [==============================] - 0s 3ms/step - loss: 1.3336 - accuracy: 0.6000\n",
            "The dev accuracy is 0.6000000238418579\n"
          ],
          "name": "stdout"
        }
      ]
    },
    {
      "cell_type": "markdown",
      "metadata": {
        "id": "NHNfe2BlpMmY"
      },
      "source": [
        "### Plotting Accuracy & Validation Accuracy with Epoch\n",
        "### Plotting Loss & Validation Loss with Epoch"
      ]
    },
    {
      "cell_type": "code",
      "metadata": {
        "id": "pcLX3GxYpM--",
        "outputId": "a5bc3e1f-db3a-4c43-f61c-e18101b5873f",
        "colab": {
          "base_uri": "https://localhost:8080/",
          "height": 899
        }
      },
      "source": [
        "plt.figure(figsize = (10,7))\n",
        "plt.plot(oli_history.history['accuracy'], color = 'blue')\n",
        "plt.plot(oli_history.history['val_accuracy'], color = 'red')\n",
        "plt.title('Model accuracy')\n",
        "plt.ylabel('Accuracy')\n",
        "plt.xlabel('Epoch')\n",
        "plt.legend(['Train', 'Validation'], loc='upper left')\n",
        "plt.show()\n",
        "\n",
        "plt.figure(figsize = (10,7))\n",
        "plt.plot(oli_history.history['loss'], color = 'blue')\n",
        "plt.plot(oli_history.history['val_loss'], color = 'red')\n",
        "plt.ylim((0,3))\n",
        "plt.title('Model loss')\n",
        "plt.ylabel('Loss')\n",
        "plt.xlabel('Epoch')\n",
        "plt.legend(['Train', 'Validation'], loc='upper left')\n",
        "plt.show()"
      ],
      "execution_count": null,
      "outputs": [
        {
          "output_type": "display_data",
          "data": {
            "image/png": "[encoded data removed]",
            "text/plain": [
              "<Figure size 720x504 with 1 Axes>"
            ]
          },
          "metadata": {
            "tags": [],
            "needs_background": "light"
          }
        },
        {
          "output_type": "display_data",
          "data": {
            "image/png": "[encoded data removed]",
            "text/plain": [
              "<Figure size 720x504 with 1 Axes>"
            ]
          },
          "metadata": {
            "tags": [],
            "needs_background": "light"
          }
        }
      ]
    },
    {
      "cell_type": "code",
      "metadata": {
        "id": "nmp-m5MapS5x",
        "outputId": "4c3ccc83-2e03-4157-9457-ce745b28bce9",
        "colab": {
          "base_uri": "https://localhost:8080/",
          "height": 52
        }
      },
      "source": [
        "oli_test_acc = nn_oli.evaluate(x_test, y_test)[1]\n",
        "print('The test accuracy is', oli_test_acc)"
      ],
      "execution_count": null,
      "outputs": [
        {
          "output_type": "stream",
          "text": [
            "2/2 [==============================] - 0s 4ms/step - loss: 1.4567 - accuracy: 0.6000\n",
            "The test accuracy is 0.6000000238418579\n"
          ],
          "name": "stdout"
        }
      ]
    },
    {
      "cell_type": "markdown",
      "metadata": {
        "id": "AyKSN9ZD8A_F"
      },
      "source": [
        "## RCV1 Dataset"
      ]
    },
    {
      "cell_type": "markdown",
      "metadata": {
        "id": "SWjqa2i48Wae"
      },
      "source": [
        "###  Loading The Dataset and Preprocessing"
      ]
    },
    {
      "cell_type": "code",
      "metadata": {
        "id": "RzMuNfUU8VMu",
        "outputId": "7b9fb955-0671-4976-fc53-b32fa9b908dc",
        "colab": {
          "base_uri": "https://localhost:8080/",
          "height": 124
        }
      },
      "source": [
        "rcv1 = fetch_rcv1()\n",
        "x_fetch_rcv1 = rcv1.data\n",
        "y_fetch_rcv1 = rcv1.target"
      ],
      "execution_count": null,
      "outputs": [
        {
          "output_type": "stream",
          "text": [
            "Downloading https://ndownloader.figshare.com/files/5976069\n",
            "Downloading https://ndownloader.figshare.com/files/5976066\n",
            "Downloading https://ndownloader.figshare.com/files/5976063\n",
            "Downloading https://ndownloader.figshare.com/files/5976060\n",
            "Downloading https://ndownloader.figshare.com/files/5976057\n",
            "Downloading https://ndownloader.figshare.com/files/5976048\n"
          ],
          "name": "stderr"
        }
      ]
    },
    {
      "cell_type": "code",
      "metadata": {
        "id": "VsbfshsR-9Zo",
        "outputId": "c6cdd6bd-32c8-4b51-dd0e-492ff88bf123",
        "colab": {
          "base_uri": "https://localhost:8080/",
          "height": 52
        }
      },
      "source": [
        "x_rcv1 = x_fetch_rcv1\n",
        "y_rcv1 = y_fetch_rcv1\n",
        "print(x_rcv1.shape)\n",
        "print(y_rcv1.shape)"
      ],
      "execution_count": null,
      "outputs": [
        {
          "output_type": "stream",
          "text": [
            "(804414, 47236)\n",
            "(804414, 103)\n"
          ],
          "name": "stdout"
        }
      ]
    },
    {
      "cell_type": "markdown",
      "metadata": {
        "id": "Tuqh9sS58iu8"
      },
      "source": [
        "### Making a Neural Network"
      ]
    },
    {
      "cell_type": "code",
      "metadata": {
        "id": "X4xIwEHo8iAr",
        "outputId": "06d5ec05-4fc4-4526-a241-a394b74a2725",
        "colab": {
          "base_uri": "https://localhost:8080/",
          "height": 124
        }
      },
      "source": [
        "x_train, x_test, y_train, y_test = train_test_split(x_rcv1, y_rcv1, test_size = 0.2)\n",
        "x_dev, x_test, y_dev, y_test = train_test_split(x_test, y_test, test_size = 0.5)\n",
        "print(x_train.shape)\n",
        "print(x_dev.shape)\n",
        "print(x_test.shape)\n",
        "print(y_train.shape)\n",
        "print(y_dev.shape)\n",
        "print(y_test.shape)"
      ],
      "execution_count": null,
      "outputs": [
        {
          "output_type": "stream",
          "text": [
            "(643531, 47236)\n",
            "(80441, 47236)\n",
            "(80442, 47236)\n",
            "(643531, 103)\n",
            "(80441, 103)\n",
            "(80442, 103)\n"
          ],
          "name": "stdout"
        }
      ]
    },
    {
      "cell_type": "code",
      "metadata": {
        "id": "mPZjvYqn8oFu"
      },
      "source": [
        "nn_rcv1 = models.Sequential()\n",
        "\n",
        "nn_rcv1.add(layers.Dense(100, activation = 'relu', input_shape = (47236, )))\n",
        "nn_rcv1.add(layers.Dense(2500, activation = 'relu'))\n",
        "nn_rcv1.add(layers.Dense(1024, activation = 'relu'))\n",
        "nn_rcv1.add(layers.Dense(512, activation = 'relu'))\n",
        "nn_rcv1.add(layers.Dense(256, activation = 'relu'))\n",
        "nn_rcv1.add(layers.Dense(103, activation = 'softmax'))\n",
        "\n",
        "nn_rcv1.compile(optimizer = 'sgd', loss = 'categorical_crossentropy', metrics = ['accuracy'])"
      ],
      "execution_count": null,
      "outputs": []
    },
    {
      "cell_type": "code",
      "metadata": {
        "id": "FiCOvTET8p86"
      },
      "source": [
        "rcv1_history = nn_rcv1.fit(x_train, y_train, epochs = 75, validation_data = (x_dev, y_dev))\n",
        "\n",
        "rcv1_dev_acc = nn_rcv1.evaluate(x_dev, y_dev)[1]\n",
        "print('The dev accuracy is', rcv1_dev_acc)"
      ],
      "execution_count": null,
      "outputs": []
    },
    {
      "cell_type": "markdown",
      "metadata": {
        "id": "PnkkLQUf8rqT"
      },
      "source": [
        "### Plotting Accuracy & Validation Accuracy with Epoch\n",
        "### Plotting Loss & Validation Loss with Epoch"
      ]
    },
    {
      "cell_type": "code",
      "metadata": {
        "id": "C8mHOFVs8u_t"
      },
      "source": [
        "plt.figure(figsize = (10,7))\n",
        "plt.plot(rcv1_history.history['accuracy'], color = 'blue')\n",
        "plt.plot(rcv1_history.history['val_accuracy'], color = 'red')\n",
        "plt.title('Model accuracy')\n",
        "plt.ylabel('Accuracy')\n",
        "plt.xlabel('Epoch')\n",
        "plt.legend(['Train', 'Validation'], loc='upper left')\n",
        "plt.show()\n",
        "\n",
        "plt.figure(figsize = (10,7))\n",
        "plt.plot(rcv1_history.history['loss'], color = 'blue')\n",
        "plt.plot(rcv1_history.history['val_loss'], color = 'red')\n",
        "plt.ylim((0,3))\n",
        "plt.title('Model loss')\n",
        "plt.ylabel('Loss')\n",
        "plt.xlabel('Epoch')\n",
        "plt.legend(['Train', 'Validation'], loc='upper left')\n",
        "plt.show()"
      ],
      "execution_count": null,
      "outputs": []
    },
    {
      "cell_type": "code",
      "metadata": {
        "id": "P4GK1a-f8xtw"
      },
      "source": [
        "rcv1_test_acc = nn_rcv1.evaluate(x_test, y_test)[1]\n",
        "print('The test accuracy is', rcv1_test_acc)"
      ],
      "execution_count": null,
      "outputs": []
    },
    {
      "cell_type": "markdown",
      "metadata": {
        "id": "Il4XUxkLFR8s"
      },
      "source": [
        "## Breast Cancer Dataset"
      ]
    },
    {
      "cell_type": "markdown",
      "metadata": {
        "id": "ZLzSTxCAFc4R"
      },
      "source": [
        "### Loading the Dataset and Preprocessing "
      ]
    },
    {
      "cell_type": "code",
      "metadata": {
        "id": "9z2B-lakFPL4"
      },
      "source": [
        "cancer = load_breast_cancer()\n",
        "x_load_breast_cancer = cancer.data\n",
        "y_load_breast_cancer = cancer.target"
      ],
      "execution_count": null,
      "outputs": []
    },
    {
      "cell_type": "code",
      "metadata": {
        "id": "Sg0OdQzBFX2L"
      },
      "source": [
        "x_cancer = pd.DataFrame(x_load_breast_cancer)\n",
        "y_cancer = pd.DataFrame(y_load_breast_cancer)\n",
        "print(x_cancer.shape)\n",
        "print(y_cancer.shape)"
      ],
      "execution_count": null,
      "outputs": []
    },
    {
      "cell_type": "code",
      "metadata": {
        "id": "o6mnfcBaH8QC"
      },
      "source": [
        "sc = StandardScaler()\n",
        "x_cancer = pd.DataFrame(sc.fit_transform(x_cancer))"
      ],
      "execution_count": null,
      "outputs": []
    },
    {
      "cell_type": "markdown",
      "metadata": {
        "id": "qZoSX8b8FjDG"
      },
      "source": [
        "### Making a Neural Network"
      ]
    },
    {
      "cell_type": "code",
      "metadata": {
        "id": "yJEUlRCpFjVp"
      },
      "source": [
        "x_train, x_test, y_train, y_test = train_test_split(x_cancer, y_cancer, test_size = 0.2, shuffle = True)\n",
        "x_dev, x_test, y_dev, y_test = train_test_split(x_test, y_test, test_size = 0.5, shuffle = True)\n",
        "print(x_train.shape)\n",
        "print(x_dev.shape)\n",
        "print(x_test.shape)\n",
        "print(y_train.shape)\n",
        "print(y_dev.shape)\n",
        "print(y_test.shape)"
      ],
      "execution_count": null,
      "outputs": []
    },
    {
      "cell_type": "code",
      "metadata": {
        "id": "nG7wUh6gFniy"
      },
      "source": [
        "nn_cancer = models.Sequential()\n",
        "\n",
        "nn_cancer.add(layers.Dense(128, activation = 'relu', input_shape = (30, )))\n",
        "nn_cancer.add(layers.Dense(64, activation = 'relu'))\n",
        "nn_cancer.add(layers.Dense(1, activation = 'sigmoid'))\n",
        "\n",
        "nn_cancer.compile(optimizer = 'sgd', loss = 'binary_crossentropy', metrics = ['accuracy'])"
      ],
      "execution_count": null,
      "outputs": []
    },
    {
      "cell_type": "code",
      "metadata": {
        "id": "AXjhgwG2FptR"
      },
      "source": [
        "cancer_history = nn_cancer.fit(x_train, y_train, epochs = 30, validation_data = (x_dev, y_dev))\n",
        "\n",
        "cancer_dev_acc = nn_cancer.evaluate(x_dev, y_dev)[1]\n",
        "print('The dev accuracy is', cancer_dev_acc)"
      ],
      "execution_count": null,
      "outputs": []
    },
    {
      "cell_type": "markdown",
      "metadata": {
        "id": "tpPB80RNFs07"
      },
      "source": [
        "### Plotting Accuracy & Validation Accuracy with Epoch\n",
        "### Plotting Loss & Validation Loss with Epoch"
      ]
    },
    {
      "cell_type": "code",
      "metadata": {
        "id": "TzHb2x3IFtKR"
      },
      "source": [
        "plt.figure(figsize = (10,7))\n",
        "plt.plot(cancer_history.history['accuracy'], color = 'blue')\n",
        "plt.plot(cancer_history.history['val_accuracy'], color = 'red')\n",
        "plt.title('Model accuracy')\n",
        "plt.ylabel('Accuracy')\n",
        "plt.xlabel('Epoch')\n",
        "plt.legend(['Train', 'Validation'], loc='upper left')\n",
        "plt.show()\n",
        "\n",
        "plt.figure(figsize = (10,7))\n",
        "plt.plot(cancer_history.history['loss'], color = 'blue')\n",
        "plt.plot(cancer_history.history['val_loss'], color = 'red')\n",
        "# plt.ylim((0,3))\n",
        "plt.title('Model loss')\n",
        "plt.ylabel('Loss')\n",
        "plt.xlabel('Epoch')\n",
        "plt.legend(['Train', 'Validation'], loc='upper left')\n",
        "plt.show()"
      ],
      "execution_count": null,
      "outputs": []
    },
    {
      "cell_type": "code",
      "metadata": {
        "id": "dxztPM_tFxJC"
      },
      "source": [
        "cancer_test_acc = nn_cancer.evaluate(x_test, y_test)[1]\n",
        "print('The test accuracy is', cancer_test_acc)"
      ],
      "execution_count": null,
      "outputs": []
    },
    {
      "cell_type": "markdown",
      "metadata": {
        "id": "Fk2ubQss1p-H"
      },
      "source": [
        "## Digits Dataset"
      ]
    },
    {
      "cell_type": "markdown",
      "metadata": {
        "id": "kQQ9g6da1p-M"
      },
      "source": [
        "### Loading the Dataset and Preprocessing "
      ]
    },
    {
      "cell_type": "code",
      "metadata": {
        "id": "nahKnUq51p-N"
      },
      "source": [
        "digits = load_digits()\n",
        "x_load_digits = digits.data\n",
        "y_load_digits = digits.target"
      ],
      "execution_count": null,
      "outputs": []
    },
    {
      "cell_type": "code",
      "metadata": {
        "id": "fYnb8gFt1p-S"
      },
      "source": [
        "x_digits = pd.DataFrame(x_load_digits)\n",
        "y_digits = pd.DataFrame(y_load_digits)\n",
        "print(x_digits.shape)\n",
        "print(y_digits.shape)"
      ],
      "execution_count": null,
      "outputs": []
    },
    {
      "cell_type": "code",
      "metadata": {
        "id": "KjnicJ4H1p-W"
      },
      "source": [
        "sc = StandardScaler()\n",
        "x_digits = pd.DataFrame(sc.fit_transform(x_digits))"
      ],
      "execution_count": null,
      "outputs": []
    },
    {
      "cell_type": "markdown",
      "metadata": {
        "id": "HXKUNSrC1p-Z"
      },
      "source": [
        "### Making a Neural Network"
      ]
    },
    {
      "cell_type": "code",
      "metadata": {
        "id": "3QpfIrjj1p-a"
      },
      "source": [
        "y_digits = to_categorical(y_digits)\n",
        "x_train, x_test, y_train, y_test = train_test_split(x_digits, y_digits, test_size = 0.2, shuffle = True)\n",
        "x_dev, x_test, y_dev, y_test = train_test_split(x_test, y_test, test_size = 0.5, shuffle = True)\n",
        "print(x_train.shape, y_train.shape)\n",
        "print(x_dev.shape, y_dev.shape)\n",
        "print(x_test.shape, y_test.shape)"
      ],
      "execution_count": null,
      "outputs": []
    },
    {
      "cell_type": "code",
      "metadata": {
        "id": "dxS_XzYT1p-i"
      },
      "source": [
        "nn_digits = models.Sequential()\n",
        "\n",
        "nn_digits.add(layers.Dense(128, activation = 'relu', input_shape = (64, )))\n",
        "nn_digits.add(layers.Dense(64, activation = 'relu'))\n",
        "nn_digits.add(layers.Dense(10, activation = 'softmax'))\n",
        "\n",
        "nn_digits.compile(optimizer = 'sgd', loss = 'categorical_crossentropy', metrics = ['accuracy'])"
      ],
      "execution_count": null,
      "outputs": []
    },
    {
      "cell_type": "code",
      "metadata": {
        "id": "y83Q61rP1p-m"
      },
      "source": [
        "digits_history = nn_digits.fit(x_train, y_train, epochs = 30, validation_data = (x_dev, y_dev))\n",
        "\n",
        "digits_dev_acc = nn_digits.evaluate(x_dev, y_dev)[1]\n",
        "print('The dev accuracy is', digits_dev_acc)"
      ],
      "execution_count": null,
      "outputs": []
    },
    {
      "cell_type": "markdown",
      "metadata": {
        "id": "zHn5qxxr1p-o"
      },
      "source": [
        "### Plotting Accuracy & Validation Accuracy with Epoch\n",
        "### Plotting Loss & Validation Loss with Epoch"
      ]
    },
    {
      "cell_type": "code",
      "metadata": {
        "id": "okOo2Hzm1p-p"
      },
      "source": [
        "plt.figure(figsize = (10,7))\n",
        "plt.plot(digits_history.history['accuracy'], color = 'blue')\n",
        "plt.plot(digits_history.history['val_accuracy'], color = 'red')\n",
        "plt.title('Model accuracy')\n",
        "plt.ylabel('Accuracy')\n",
        "plt.xlabel('Epoch')\n",
        "plt.legend(['Train', 'Validation'], loc='upper left')\n",
        "plt.show()\n",
        "\n",
        "plt.figure(figsize = (10,7))\n",
        "plt.plot(digits_history.history['loss'], color = 'blue')\n",
        "plt.plot(digits_history.history['val_loss'], color = 'red')\n",
        "# plt.ylim((0,3))\n",
        "plt.title('Model loss')\n",
        "plt.ylabel('Loss')\n",
        "plt.xlabel('Epoch')\n",
        "plt.legend(['Train', 'Validation'], loc='upper left')\n",
        "plt.show()"
      ],
      "execution_count": null,
      "outputs": []
    },
    {
      "cell_type": "code",
      "metadata": {
        "id": "QlPRogVY1p-t"
      },
      "source": [
        "digits_test_acc = nn_digits.evaluate(x_test, y_test)[1]\n",
        "print('The test accuracy is', digits_test_acc)"
      ],
      "execution_count": null,
      "outputs": []
    },
    {
      "cell_type": "markdown",
      "metadata": {
        "id": "TNPLboC_1sli"
      },
      "source": [
        "## Wine Dataset"
      ]
    },
    {
      "cell_type": "markdown",
      "metadata": {
        "id": "aJbDLcfl1slj"
      },
      "source": [
        "### Loading the Dataset and Preprocessing "
      ]
    },
    {
      "cell_type": "code",
      "metadata": {
        "id": "DfodpdkP1slj"
      },
      "source": [
        "wine = load_wine()\n",
        "x_load_wine = wine.data\n",
        "y_load_wine = wine.target"
      ],
      "execution_count": null,
      "outputs": []
    },
    {
      "cell_type": "code",
      "metadata": {
        "id": "bqr6BXUs1sll"
      },
      "source": [
        "x_wine = pd.DataFrame(x_load_wine)\n",
        "y_wine = pd.DataFrame(y_load_wine)\n",
        "print(x_wine.shape)\n",
        "print(y_wine.shape)"
      ],
      "execution_count": null,
      "outputs": []
    },
    {
      "cell_type": "code",
      "metadata": {
        "id": "2Bh3RkXb1sln"
      },
      "source": [
        "sc = StandardScaler()\n",
        "x_wine = pd.DataFrame(sc.fit_transform(x_wine))"
      ],
      "execution_count": null,
      "outputs": []
    },
    {
      "cell_type": "markdown",
      "metadata": {
        "id": "QGYKWD8i1slo"
      },
      "source": [
        "### Making a Neural Network"
      ]
    },
    {
      "cell_type": "code",
      "metadata": {
        "id": "1w-fMWoJ1slo"
      },
      "source": [
        "y_wine = to_categorical(y_wine)\n",
        "x_train, x_test, y_train, y_test = train_test_split(x_wine, y_wine, test_size = 0.2, shuffle = True)\n",
        "x_dev, x_test, y_dev, y_test = train_test_split(x_test, y_test, test_size = 0.5, shuffle = True)\n",
        "print(x_train.shape, y_train.shape)\n",
        "print(x_dev.shape, y_dev.shape)\n",
        "print(x_test.shape, y_test.shape)"
      ],
      "execution_count": null,
      "outputs": []
    },
    {
      "cell_type": "code",
      "metadata": {
        "id": "fe-3p9o41slr"
      },
      "source": [
        "nn_wine = models.Sequential()\n",
        "\n",
        "nn_wine.add(layers.Dense(128, activation = 'relu', input_shape = (13, )))\n",
        "nn_wine.add(layers.Dense(32, activation = 'relu'))\n",
        "nn_wine.add(layers.Dense(3, activation = 'sigmoid'))\n",
        "\n",
        "nn_wine.compile(optimizer = 'sgd', loss = 'binary_crossentropy', metrics = ['accuracy'])"
      ],
      "execution_count": null,
      "outputs": []
    },
    {
      "cell_type": "code",
      "metadata": {
        "id": "JQdlOSkG1sls"
      },
      "source": [
        "wine_history = nn_wine.fit(x_train, y_train, epochs = 75, validation_data = (x_dev, y_dev))\n",
        "\n",
        "wine_dev_acc = nn_wine.evaluate(x_dev, y_dev)[1]\n",
        "print('The dev accuracy is', wine_dev_acc)"
      ],
      "execution_count": null,
      "outputs": []
    },
    {
      "cell_type": "markdown",
      "metadata": {
        "id": "X2IU2Z2f1slu"
      },
      "source": [
        "### Plotting Accuracy & Validation Accuracy with Epoch\n",
        "### Plotting Loss & Validation Loss with Epoch"
      ]
    },
    {
      "cell_type": "code",
      "metadata": {
        "id": "JBIjT_rO1slv"
      },
      "source": [
        "plt.figure(figsize = (10,7))\n",
        "plt.plot(wine_history.history['accuracy'], color = 'blue')\n",
        "plt.plot(wine_history.history['val_accuracy'], color = 'red')\n",
        "plt.title('Model accuracy')\n",
        "plt.ylabel('Accuracy')\n",
        "plt.xlabel('Epoch')\n",
        "plt.legend(['Train', 'Validation'], loc='upper left')\n",
        "plt.show()\n",
        "\n",
        "plt.figure(figsize = (10,7))\n",
        "plt.plot(wine_history.history['loss'], color = 'blue')\n",
        "plt.plot(wine_history.history['val_loss'], color = 'red')\n",
        "# plt.ylim((0,3))\n",
        "plt.title('Model loss')\n",
        "plt.ylabel('Loss')\n",
        "plt.xlabel('Epoch')\n",
        "plt.legend(['Train', 'Validation'], loc='upper left')\n",
        "plt.show()"
      ],
      "execution_count": null,
      "outputs": []
    },
    {
      "cell_type": "code",
      "metadata": {
        "id": "i4edNRv61sly"
      },
      "source": [
        "wine_test_acc = nn_wine.evaluate(x_test, y_test)[1]\n",
        "print('The test accuracy is', wine_test_acc)"
      ],
      "execution_count": null,
      "outputs": []
    },
    {
      "cell_type": "code",
      "metadata": {
        "id": "F-BDAou5FBZv"
      },
      "source": [
        ""
      ],
      "execution_count": null,
      "outputs": []
    }
  ]
}